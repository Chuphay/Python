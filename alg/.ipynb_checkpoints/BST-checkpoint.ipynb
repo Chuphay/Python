{
 "metadata": {
  "name": ""
 },
 "nbformat": 3,
 "nbformat_minor": 0,
 "worksheets": [
  {
   "cells": [
    {
     "cell_type": "code",
     "collapsed": false,
     "input": [
      "class node(object):\n",
      "    def __init__(self, value, big = None, small = None):\n",
      "        self.value = value\n",
      "        self.big = big\n",
      "        self.small = small\n",
      "        \n",
      "class tree(object):\n",
      "    def __init__(self):\n",
      "        self.parent = None\n",
      "    def add(self,value):\n",
      "        if(self.parent == None):\n",
      "            self.parent = node(value)\n",
      "        else:\n",
      "            current = self.parent\n",
      "            while(True):\n",
      "                if value > current.value:\n",
      "                    if(current.big == None):\n",
      "                        current.big = node(value)\n",
      "                        break\n",
      "                    else:\n",
      "                        current = current.big\n",
      "                else:\n",
      "                    if(current.small == None):\n",
      "                        current.small = node(value)\n",
      "                        break\n",
      "                    else:\n",
      "                        current = current.small\n",
      "                            \n",
      "    def print_tree(self, current = None):\n",
      "        if(current == None):\n",
      "            current = self.parent\n",
      "        if(current.small != None):\n",
      "            self.print_tree(current.small)\n",
      "        print \"value: \", current.value\n",
      "        if(current.big != None):\n",
      "            self.print_tree(current.big)\n",
      "            \n",
      "        \n",
      "t = tree()\n",
      "t.add(1)\n",
      "t.add(5)\n",
      "t.add(3)\n",
      "t.add(-1)\n",
      "t.add(0)\n",
      "t.add(2)\n",
      "t.add(4)\n",
      "t.print_tree()\n"
     ],
     "language": "python",
     "metadata": {},
     "outputs": [
      {
       "output_type": "stream",
       "stream": "stdout",
       "text": [
        "value:  -1\n",
        "value:  0\n",
        "value:  1\n",
        "value:  2\n",
        "value:  3\n",
        "value:  4\n",
        "value:  5\n"
       ]
      }
     ],
     "prompt_number": 28
    }
   ],
   "metadata": {}
  }
 ]
}