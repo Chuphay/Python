{
 "metadata": {
  "name": "",
  "signature": "sha256:fcb743342bdeb018ae2c25ad0e4dacae2c696f5182134efd74d61f425ef196d1"
 },
 "nbformat": 3,
 "nbformat_minor": 0,
 "worksheets": [
  {
   "cells": [
    {
     "cell_type": "code",
     "collapsed": false,
     "input": [
      "from IPython.display import HTML"
     ],
     "language": "python",
     "metadata": {},
     "outputs": [],
     "prompt_number": 4
    },
    {
     "cell_type": "code",
     "collapsed": false,
     "input": [
      "s = \"\"\"\n",
      "<style>\n",
      ".left {color:blue; \n",
      "  -ms-transform: rotate(70deg); /* IE 9 */\n",
      "    -webkit-transform: rotate(70deg); /* Chrome, Safari, Opera */\n",
      "    transform: rotate(90deg);\n",
      "    float:left;\n",
      "}\n",
      ".right {color:green; \n",
      "\n",
      "    transform: rotate(-90deg);\n",
      "    float:left;\n",
      "}\n",
      "</style>\n",
      "<p class = left>yo</p>\n",
      "<p>word</p>\n",
      "<p class = right> this</p>\n",
      "\"\"\"\n",
      "HTML(s)"
     ],
     "language": "python",
     "metadata": {},
     "outputs": [
      {
       "html": [
        "\n",
        "<style>\n",
        ".left {color:blue; \n",
        "  -ms-transform: rotate(70deg); /* IE 9 */\n",
        "    -webkit-transform: rotate(70deg); /* Chrome, Safari, Opera */\n",
        "    transform: rotate(90deg);\n",
        "    float:left;\n",
        "}\n",
        ".right {color:green; \n",
        "\n",
        "    transform: rotate(-90deg);\n",
        "    float:left;\n",
        "}\n",
        "</style>\n",
        "<p class = left>yo</p>\n",
        "<p>word</p>\n",
        "<p class = right> this</p>\n"
       ],
       "metadata": {},
       "output_type": "pyout",
       "prompt_number": 32,
       "text": [
        "<IPython.core.display.HTML at 0xb514caec>"
       ]
      }
     ],
     "prompt_number": 32
    },
    {
     "cell_type": "code",
     "collapsed": false,
     "input": [],
     "language": "python",
     "metadata": {},
     "outputs": []
    }
   ],
   "metadata": {}
  }
 ]
}