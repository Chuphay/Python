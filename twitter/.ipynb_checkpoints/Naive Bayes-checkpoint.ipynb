{
 "metadata": {
  "name": "",
  "signature": "sha256:279dee15895a81cb367986d5d6df6bf555bc3fa95e2934df3d9d0e51f955d88d"
 },
 "nbformat": 3,
 "nbformat_minor": 0,
 "worksheets": [
  {
   "cells": [
    {
     "cell_type": "code",
     "collapsed": false,
     "input": [
      "%pylab inline"
     ],
     "language": "python",
     "metadata": {},
     "outputs": [
      {
       "output_type": "stream",
       "stream": "stdout",
       "text": [
        "Populating the interactive namespace from numpy and matplotlib\n"
       ]
      }
     ],
     "prompt_number": 13
    },
    {
     "cell_type": "code",
     "collapsed": false,
     "input": [
      "#http://guidetodatamining.com/guide/ch6/DataMining-ch6.pdf\n",
      "s = \"\"\"both sedentary moderate yes i100\n",
      "both sedentary moderate no i100\n",
      "health sedentary moderate yes i500\n",
      "appearance active moderate yes i500\n",
      "appearance moderate aggressive yes i500\n",
      "appearance moderate aggressive no i100\n",
      "health moderate aggressive no i500\n",
      "both active moderate yes i100\n",
      "both moderate aggressive yes i500\n",
      "appearance active aggressive yes i500\n",
      "both active aggressive no i500\n",
      "health active moderate no i500\n",
      "health sedentary aggressive yes i500\n",
      "appearance active moderate no i100\n",
      "health sedentary moderate no i100\n",
      "\"\"\"\n",
      "from pandas import DataFrame\n",
      "x = array(s.split()).reshape(15,5)\n",
      "df = DataFrame(x, columns = [\"Main Interest\",\"Exercise Level\",\"How Motivated\", \"Comfortable with tech.\",\"Model\"] ) \n",
      "df"
     ],
     "language": "python",
     "metadata": {},
     "outputs": [
      {
       "html": [
        "<div style=\"max-height:1000px;max-width:1500px;overflow:auto;\">\n",
        "<table border=\"1\" class=\"dataframe\">\n",
        "  <thead>\n",
        "    <tr style=\"text-align: right;\">\n",
        "      <th></th>\n",
        "      <th>Main Interest</th>\n",
        "      <th>Exercise Level</th>\n",
        "      <th>How Motivated</th>\n",
        "      <th>Comfortable with tech.</th>\n",
        "      <th>Model</th>\n",
        "    </tr>\n",
        "  </thead>\n",
        "  <tbody>\n",
        "    <tr>\n",
        "      <th>0 </th>\n",
        "      <td>       both</td>\n",
        "      <td> sedentary</td>\n",
        "      <td>   moderate</td>\n",
        "      <td> yes</td>\n",
        "      <td> i100</td>\n",
        "    </tr>\n",
        "    <tr>\n",
        "      <th>1 </th>\n",
        "      <td>       both</td>\n",
        "      <td> sedentary</td>\n",
        "      <td>   moderate</td>\n",
        "      <td>  no</td>\n",
        "      <td> i100</td>\n",
        "    </tr>\n",
        "    <tr>\n",
        "      <th>2 </th>\n",
        "      <td>     health</td>\n",
        "      <td> sedentary</td>\n",
        "      <td>   moderate</td>\n",
        "      <td> yes</td>\n",
        "      <td> i500</td>\n",
        "    </tr>\n",
        "    <tr>\n",
        "      <th>3 </th>\n",
        "      <td> appearance</td>\n",
        "      <td>    active</td>\n",
        "      <td>   moderate</td>\n",
        "      <td> yes</td>\n",
        "      <td> i500</td>\n",
        "    </tr>\n",
        "    <tr>\n",
        "      <th>4 </th>\n",
        "      <td> appearance</td>\n",
        "      <td>  moderate</td>\n",
        "      <td> aggressive</td>\n",
        "      <td> yes</td>\n",
        "      <td> i500</td>\n",
        "    </tr>\n",
        "    <tr>\n",
        "      <th>5 </th>\n",
        "      <td> appearance</td>\n",
        "      <td>  moderate</td>\n",
        "      <td> aggressive</td>\n",
        "      <td>  no</td>\n",
        "      <td> i100</td>\n",
        "    </tr>\n",
        "    <tr>\n",
        "      <th>6 </th>\n",
        "      <td>     health</td>\n",
        "      <td>  moderate</td>\n",
        "      <td> aggressive</td>\n",
        "      <td>  no</td>\n",
        "      <td> i500</td>\n",
        "    </tr>\n",
        "    <tr>\n",
        "      <th>7 </th>\n",
        "      <td>       both</td>\n",
        "      <td>    active</td>\n",
        "      <td>   moderate</td>\n",
        "      <td> yes</td>\n",
        "      <td> i100</td>\n",
        "    </tr>\n",
        "    <tr>\n",
        "      <th>8 </th>\n",
        "      <td>       both</td>\n",
        "      <td>  moderate</td>\n",
        "      <td> aggressive</td>\n",
        "      <td> yes</td>\n",
        "      <td> i500</td>\n",
        "    </tr>\n",
        "    <tr>\n",
        "      <th>9 </th>\n",
        "      <td> appearance</td>\n",
        "      <td>    active</td>\n",
        "      <td> aggressive</td>\n",
        "      <td> yes</td>\n",
        "      <td> i500</td>\n",
        "    </tr>\n",
        "    <tr>\n",
        "      <th>10</th>\n",
        "      <td>       both</td>\n",
        "      <td>    active</td>\n",
        "      <td> aggressive</td>\n",
        "      <td>  no</td>\n",
        "      <td> i500</td>\n",
        "    </tr>\n",
        "    <tr>\n",
        "      <th>11</th>\n",
        "      <td>     health</td>\n",
        "      <td>    active</td>\n",
        "      <td>   moderate</td>\n",
        "      <td>  no</td>\n",
        "      <td> i500</td>\n",
        "    </tr>\n",
        "    <tr>\n",
        "      <th>12</th>\n",
        "      <td>     health</td>\n",
        "      <td> sedentary</td>\n",
        "      <td> aggressive</td>\n",
        "      <td> yes</td>\n",
        "      <td> i500</td>\n",
        "    </tr>\n",
        "    <tr>\n",
        "      <th>13</th>\n",
        "      <td> appearance</td>\n",
        "      <td>    active</td>\n",
        "      <td>   moderate</td>\n",
        "      <td>  no</td>\n",
        "      <td> i100</td>\n",
        "    </tr>\n",
        "    <tr>\n",
        "      <th>14</th>\n",
        "      <td>     health</td>\n",
        "      <td> sedentary</td>\n",
        "      <td>   moderate</td>\n",
        "      <td>  no</td>\n",
        "      <td> i100</td>\n",
        "    </tr>\n",
        "  </tbody>\n",
        "</table>\n",
        "</div>"
       ],
       "metadata": {},
       "output_type": "pyout",
       "prompt_number": 15,
       "text": [
        "   Main Interest Exercise Level How Motivated Comfortable with tech. Model\n",
        "0           both      sedentary      moderate                    yes  i100\n",
        "1           both      sedentary      moderate                     no  i100\n",
        "2         health      sedentary      moderate                    yes  i500\n",
        "3     appearance         active      moderate                    yes  i500\n",
        "4     appearance       moderate    aggressive                    yes  i500\n",
        "5     appearance       moderate    aggressive                     no  i100\n",
        "6         health       moderate    aggressive                     no  i500\n",
        "7           both         active      moderate                    yes  i100\n",
        "8           both       moderate    aggressive                    yes  i500\n",
        "9     appearance         active    aggressive                    yes  i500\n",
        "10          both         active    aggressive                     no  i500\n",
        "11        health         active      moderate                     no  i500\n",
        "12        health      sedentary    aggressive                    yes  i500\n",
        "13    appearance         active      moderate                     no  i100\n",
        "14        health      sedentary      moderate                     no  i100"
       ]
      }
     ],
     "prompt_number": 15
    },
    {
     "cell_type": "markdown",
     "metadata": {},
     "source": [
      "Using the na\u00efve Bayes method, which model would you recommend to a person whose\n",
      "\n",
      " main interest is health\n",
      " \n",
      " current exercise level is moderate\n",
      " \n",
      " is moderately motivated\n",
      " \n",
      " and is comfortable with technological devices\n",
      " \n",
      "_____________________________________________________ \n",
      " \n",
      " \n",
      " \n",
      "Ok. So we want to compute\n",
      "\n",
      "<b>P(i100 | health, moderateExercise, moderateMotivation, techComfortable)</b>\n",
      "\n",
      "and\n",
      "\n",
      "<b>P(i500 | health, moderateExercise, moderateMotivation, techComfortable)</b>  "
     ]
    },
    {
     "cell_type": "code",
     "collapsed": false,
     "input": [
      "(df[\"Model\"] == \"i100\") & (df[\"Main Interest\"] == \"health\")"
     ],
     "language": "python",
     "metadata": {},
     "outputs": [
      {
       "metadata": {},
       "output_type": "pyout",
       "prompt_number": 29,
       "text": [
        "0     False\n",
        "1     False\n",
        "2     False\n",
        "3     False\n",
        "4     False\n",
        "5     False\n",
        "6     False\n",
        "7     False\n",
        "8     False\n",
        "9     False\n",
        "10    False\n",
        "11    False\n",
        "12    False\n",
        "13    False\n",
        "14     True\n",
        "dtype: bool"
       ]
      }
     ],
     "prompt_number": 29
    },
    {
     "cell_type": "code",
     "collapsed": false,
     "input": [
      "(df[\"Model\"] == \"i500\") & (df[\"Main Interest\"] == \"health\")"
     ],
     "language": "python",
     "metadata": {},
     "outputs": [
      {
       "metadata": {},
       "output_type": "pyout",
       "prompt_number": 30,
       "text": [
        "0     False\n",
        "1     False\n",
        "2      True\n",
        "3     False\n",
        "4     False\n",
        "5     False\n",
        "6      True\n",
        "7     False\n",
        "8     False\n",
        "9     False\n",
        "10    False\n",
        "11     True\n",
        "12     True\n",
        "13    False\n",
        "14    False\n",
        "dtype: bool"
       ]
      }
     ],
     "prompt_number": 30
    },
    {
     "cell_type": "markdown",
     "metadata": {},
     "source": [
      "So, for example, we are looking for $\\mathbb{P}(\\text {health} |i100) = \\frac {\\mathbb{P}(\\text {health} \\cup i100)}{\\mathbb{P}(i100)} = \\frac {1/15}{6/15} = \\frac 1 6$"
     ]
    },
    {
     "cell_type": "code",
     "collapsed": false,
     "input": [
      "mean((df[\"Model\"] == \"i100\") & (df[\"Main Interest\"] == \"health\"))/mean(df[\"Model\"] == \"i100\")"
     ],
     "language": "python",
     "metadata": {},
     "outputs": [
      {
       "metadata": {},
       "output_type": "pyout",
       "prompt_number": 32,
       "text": [
        "0.16666666666666666"
       ]
      }
     ],
     "prompt_number": 32
    },
    {
     "cell_type": "markdown",
     "metadata": {},
     "source": [
      "P(i100 | health, moderateExercise, moderateMotivation, techComfortable) =\n",
      "P(health|i100) P(moderateExercise|i100) P(moderateMotivated|i100)\n",
      " P(techComfortable|i100)P(i100)"
     ]
    },
    {
     "cell_type": "markdown",
     "metadata": {},
     "source": [
      "From Wikipedia, we have:\n",
      "    \n",
      "This means that under the above independence assumptions, the conditional distribution over the class variable C is:\n",
      "\n",
      "$$p(C_k \\vert x_1, \\dots, x_n) = \\frac{1}{Z} p(C_k) \\prod_{i=1}^n p(x_i \\vert C_k)$$\n",
      "\n",
      "where the evidence $Z = p(\\mathbf{x})$ is a scaling factor dependent only on $x_1, \\dots, x_n$, that is, a constant if the values of the feature variables are known."
     ]
    },
    {
     "cell_type": "code",
     "collapsed": true,
     "input": [
      "health = mean((df[\"Model\"] == \"i100\") & (df[\"Main Interest\"] == \"health\"))/mean(df[\"Model\"] == \"i100\")\n",
      "exercise = mean((df[\"Model\"] == \"i100\") & (df[\"Exercise Level\"] == \"moderate\"))/mean(df[\"Model\"] == \"i100\")\n",
      "motivated = mean((df[\"Model\"] == \"i100\") & (df[\"How Motivated\"] == \"moderate\"))/mean(df[\"Model\"] == \"i100\")\n",
      "tech = mean((df[\"Model\"] == \"i100\") & (df[\"Comfortable with tech.\"] == \"yes\"))/mean(df[\"Model\"] == \"i100\")\n",
      "i100 = health*exercise*motivated*tech*mean(df[\"Model\"] == \"i100\")\n",
      "i100"
     ],
     "language": "python",
     "metadata": {},
     "outputs": [
      {
       "metadata": {},
       "output_type": "pyout",
       "prompt_number": 35,
       "text": [
        "0.0030864197530864191"
       ]
      }
     ],
     "prompt_number": 35
    },
    {
     "cell_type": "code",
     "collapsed": false,
     "input": [
      "health = mean((df[\"Model\"] == \"i500\") & (df[\"Main Interest\"] == \"health\"))/mean(df[\"Model\"] == \"i500\")\n",
      "exercise = mean((df[\"Model\"] == \"i500\") & (df[\"Exercise Level\"] == \"moderate\"))/mean(df[\"Model\"] == \"i500\")\n",
      "motivated = mean((df[\"Model\"] == \"i500\") & (df[\"How Motivated\"] == \"moderate\"))/mean(df[\"Model\"] == \"i500\")\n",
      "tech = mean((df[\"Model\"] == \"i500\") & (df[\"Comfortable with tech.\"] == \"yes\"))/mean(df[\"Model\"] == \"i500\")\n",
      "i500 = health*exercise*motivated*tech*mean(df[\"Model\"] == \"i500\")\n",
      "i500"
     ],
     "language": "python",
     "metadata": {},
     "outputs": [
      {
       "metadata": {},
       "output_type": "pyout",
       "prompt_number": 36,
       "text": [
        "0.019753086419753093"
       ]
      }
     ],
     "prompt_number": 36
    },
    {
     "cell_type": "code",
     "collapsed": false,
     "input": [
      "prior = {'i100':mean(df[\"Model\"] == \"i100\"), 'i500':mean(df[\"Model\"] == \"i500\")}\n",
      "cond = {'i500':{\"Interest\":{'health':mean(df[df[\"Model\"] == \"i500\"][\"Main Interest\"] == 'health'),\n",
      "                            'both':mean(df[df[\"Model\"] == \"i500\"][\"Main Interest\"] == 'both'),\n",
      "                            'appearance':mean(df[df[\"Model\"] == \"i500\"][\"Main Interest\"] == 'appearance')\n",
      "                            },\n",
      "                \"Exercise\":{'sedentary':mean(df[df[\"Model\"] == \"i500\"][\"Exercise Level\"] == 'sedentary'),\n",
      "                            'moderate':mean(df[df[\"Model\"] == \"i500\"][\"Exercise Level\"] == 'moderate'),\n",
      "                            'active':mean(df[df[\"Model\"] == \"i500\"][\"Exercise Level\"] == 'active')\n",
      "                            },\n",
      "                \"Motivated\":{'moderate':mean(df[df[\"Model\"] == \"i500\"][\"How Motivated\"] == 'moderate'),\n",
      "                             'aggressive':mean(df[df[\"Model\"] == \"i500\"][\"How Motivated\"] == 'aggressive'),\n",
      "                            },\n",
      "                \"Comfortable\":{'yes':mean(df[df[\"Model\"] == \"i500\"][\"Comfortable with tech.\"] == 'yes'),\n",
      "                                'no':mean(df[df[\"Model\"] == \"i500\"][\"Comfortable with tech.\"] == 'no')\n",
      "                            }\n",
      "                \n",
      "                },\n",
      "        'i100':{\"Interest\":{'health':mean(df[df[\"Model\"] == \"i100\"][\"Main Interest\"] == 'health'),\n",
      "                            'both':mean(df[df[\"Model\"] == \"i100\"][\"Main Interest\"] == 'both'),\n",
      "                            'appearance':mean(df[df[\"Model\"] == \"i100\"][\"Main Interest\"] == 'appearance')\n",
      "                            },\n",
      "                \"Exercise\":{'sedentary':mean(df[df[\"Model\"] == \"i100\"][\"Exercise Level\"] == 'sedentary'),\n",
      "                            'moderate':mean(df[df[\"Model\"] == \"i100\"][\"Exercise Level\"] == 'moderate'),\n",
      "                            'active':mean(df[df[\"Model\"] == \"i100\"][\"Exercise Level\"] == 'active')\n",
      "                            },\n",
      "                \"Motivated\":{'moderate':mean(df[df[\"Model\"] == \"i100\"][\"How Motivated\"] == 'moderate'),\n",
      "                             'aggressive':mean(df[df[\"Model\"] == \"i100\"][\"How Motivated\"] == 'aggressive'),\n",
      "                            },\n",
      "                \"Comfortable\":{'yes':mean(df[df[\"Model\"] == \"i100\"][\"Comfortable with tech.\"] == 'yes'),\n",
      "                                'no':mean(df[df[\"Model\"] == \"i100\"][\"Comfortable with tech.\"] == 'no')\n",
      "                            }\n",
      "                }\n",
      "        }\n",
      "cond"
     ],
     "language": "python",
     "metadata": {},
     "outputs": [
      {
       "metadata": {},
       "output_type": "pyout",
       "prompt_number": 56,
       "text": [
        "{'i100': {'Exercise': {'sedentary': 0.5,\n",
        "   'moderate': 0.16666666666666666,\n",
        "   'active': 0.33333333333333331},\n",
        "  'Motivated': {'aggressive': 0.16666666666666666,\n",
        "   'moderate': 0.83333333333333337},\n",
        "  'Interest': {'health': 0.16666666666666666,\n",
        "   'appearance': 0.33333333333333331,\n",
        "   'both': 0.5},\n",
        "  'Comfortable': {'no': 0.66666666666666663, 'yes': 0.33333333333333331}},\n",
        " 'i500': {'Exercise': {'sedentary': 0.22222222222222221,\n",
        "   'moderate': 0.33333333333333331,\n",
        "   'active': 0.44444444444444442},\n",
        "  'Motivated': {'aggressive': 0.66666666666666663,\n",
        "   'moderate': 0.33333333333333331},\n",
        "  'Interest': {'health': 0.44444444444444442,\n",
        "   'appearance': 0.33333333333333331,\n",
        "   'both': 0.22222222222222221},\n",
        "  'Comfortable': {'no': 0.33333333333333331, 'yes': 0.66666666666666663}}}"
       ]
      }
     ],
     "prompt_number": 56
    },
    {
     "cell_type": "code",
     "collapsed": false,
     "input": [
      "newCond = {'i500':{\"Interest\":{'health':0, 'both':0,'appearance':0},\n",
      "                \"Exercise\":{'sedentary':0,'moderate':0, 'active':0 },\n",
      "                \"Motivated\":{'moderate':0,'aggressive':0,},\n",
      "                \"Comfortable\":{'yes':0,'no':0 }\n",
      "                },\n",
      "        'i100':{\"Interest\":{'health':0, 'both':0,'appearance':0},\n",
      "                \"Exercise\":{'sedentary':0,'moderate':0, 'active':0 },\n",
      "                \"Motivated\":{'moderate':0,'aggressive':0,},\n",
      "                \"Comfortable\":{'yes':0,'no':0 }\n",
      "                }\n",
      "        }\n",
      "for line in df.values:\n",
      "    if(line[4] == 'i100'):\n",
      "        newCond['i100']['Interest'][line[0]] += 1\n",
      "        newCond['i100']['Exercise'][line[1]] += 1\n",
      "        newCond['i100']['Motivated'][line[2]] += 1\n",
      "        newCond['i100']['Comfortable'][line[3]] += 1\n",
      "    else:\n",
      "        newCond['i500']['Interest'][line[0]] += 1\n",
      "        newCond['i500']['Exercise'][line[1]] += 1\n",
      "        newCond['i500']['Motivated'][line[2]] += 1\n",
      "        newCond['i500']['Comfortable'][line[3]] += 1\n",
      "        \n",
      "newCond"
     ],
     "language": "python",
     "metadata": {},
     "outputs": [
      {
       "metadata": {},
       "output_type": "pyout",
       "prompt_number": 107,
       "text": [
        "{'i100': {'Exercise': {'sedentary': 3, 'moderate': 1, 'active': 2},\n",
        "  'Motivated': {'aggressive': 1, 'moderate': 5},\n",
        "  'Interest': {'health': 1, 'appearance': 2, 'both': 3},\n",
        "  'Comfortable': {'no': 4, 'yes': 2}},\n",
        " 'i500': {'Exercise': {'sedentary': 2, 'moderate': 3, 'active': 4},\n",
        "  'Motivated': {'aggressive': 6, 'moderate': 3},\n",
        "  'Interest': {'health': 4, 'appearance': 3, 'both': 2},\n",
        "  'Comfortable': {'no': 3, 'yes': 6}}}"
       ]
      }
     ],
     "prompt_number": 107
    },
    {
     "cell_type": "code",
     "collapsed": false,
     "input": [
      "for column in newCond['i100']:\n",
      "    for key in newCond['i100'][column]:\n",
      "        newCond['i100'][column][key] /= sum(df[\"Model\"] == \"i100\")\n",
      "for column in newCond['i500']:\n",
      "    for key in newCond['i500'][column]:\n",
      "        newCond['i500'][column][key] /= sum(df[\"Model\"] == \"i500\")\n",
      "newCond        \n"
     ],
     "language": "python",
     "metadata": {},
     "outputs": [
      {
       "metadata": {},
       "output_type": "pyout",
       "prompt_number": 108,
       "text": [
        "{'i100': {'Exercise': {'sedentary': 0.5,\n",
        "   'moderate': 0.16666666666666666,\n",
        "   'active': 0.33333333333333331},\n",
        "  'Motivated': {'aggressive': 0.16666666666666666,\n",
        "   'moderate': 0.83333333333333337},\n",
        "  'Interest': {'health': 0.16666666666666666,\n",
        "   'appearance': 0.33333333333333331,\n",
        "   'both': 0.5},\n",
        "  'Comfortable': {'no': 0.66666666666666663, 'yes': 0.33333333333333331}},\n",
        " 'i500': {'Exercise': {'sedentary': 0.22222222222222221,\n",
        "   'moderate': 0.33333333333333331,\n",
        "   'active': 0.44444444444444442},\n",
        "  'Motivated': {'aggressive': 0.66666666666666663,\n",
        "   'moderate': 0.33333333333333331},\n",
        "  'Interest': {'health': 0.44444444444444442,\n",
        "   'appearance': 0.33333333333333331,\n",
        "   'both': 0.22222222222222221},\n",
        "  'Comfortable': {'no': 0.33333333333333331, 'yes': 0.66666666666666663}}}"
       ]
      }
     ],
     "prompt_number": 108
    },
    {
     "cell_type": "code",
     "collapsed": false,
     "input": [
      "newCond == cond"
     ],
     "language": "python",
     "metadata": {},
     "outputs": [
      {
       "metadata": {},
       "output_type": "pyout",
       "prompt_number": 109,
       "text": [
        "True"
       ]
      }
     ],
     "prompt_number": 109
    },
    {
     "cell_type": "code",
     "collapsed": false,
     "input": [
      "c = ['health', 'moderate', 'moderate', 'yes']\n",
      "prob = prior['i100']\n",
      "for i, col  in enumerate(['Interest','Exercise','Motivated','Comfortable']):\n",
      "    prob = prob * cond['i100'][col][c[i]]\n",
      "print('i100: ', prob)    \n",
      "prob = prior['i500']\n",
      "for i, col  in enumerate(['Interest','Exercise','Motivated','Comfortable']):\n",
      "    prob = prob * cond['i500'][col][c[i]]\n",
      "print('i100: ', prob)  "
     ],
     "language": "python",
     "metadata": {},
     "outputs": [
      {
       "output_type": "stream",
       "stream": "stdout",
       "text": [
        "i100:  0.00308641975309\n",
        "i100:  0.0197530864198\n"
       ]
      }
     ],
     "prompt_number": 115
    },
    {
     "cell_type": "code",
     "collapsed": false,
     "input": [],
     "language": "python",
     "metadata": {},
     "outputs": []
    }
   ],
   "metadata": {}
  }
 ]
}