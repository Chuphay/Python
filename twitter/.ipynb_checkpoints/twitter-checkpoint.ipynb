{
 "metadata": {
  "name": "",
  "signature": "sha256:4b6b79611001b6a34f5de77c416b256b8114f951308bee4ad34ccfdc0595b728"
 },
 "nbformat": 3,
 "nbformat_minor": 0,
 "worksheets": [
  {
   "cells": [
    {
     "cell_type": "code",
     "collapsed": false,
     "input": [
      "import twitter"
     ],
     "language": "python",
     "metadata": {},
     "outputs": [],
     "prompt_number": 1
    },
    {
     "cell_type": "code",
     "collapsed": false,
     "input": [
      "access_token = \"3161805806-5knas90qzqkaLqO11HY9KwhTWKFskukj45tUocP\"\n",
      "access_token_secret = \"m1ILxyRFwCoPHzQ55MOieoUObjXh976vz3hcgUK1a8b2G\"\n",
      "consumer_key = \"8sOsbXSPd9ZgAzOrrktEu9nKD\"\n",
      "consumer_secret = \"pQbOdiJEjWqVrvUFXggcoGnSD9ZgxtXnBer4Xm4RRAmdFsc1G9\"\n",
      "\n",
      "twitter_stream = twitter.TwitterStream(auth=twitter.OAuth(\n",
      "            token=access_token,\n",
      "            token_secret=access_token_secret,\n",
      "            consumer_key=consumer_key,\n",
      "            consumer_secret=consumer_secret))\n"
     ],
     "language": "python",
     "metadata": {},
     "outputs": [],
     "prompt_number": 2
    },
    {
     "cell_type": "code",
     "collapsed": false,
     "input": [
      "stream = twitter_stream.statuses.sample(block=True) "
     ],
     "language": "python",
     "metadata": {},
     "outputs": []
    },
    {
     "cell_type": "code",
     "collapsed": false,
     "input": [
      "stream.__next__()"
     ],
     "language": "python",
     "metadata": {},
     "outputs": []
    }
   ],
   "metadata": {}
  }
 ]
}