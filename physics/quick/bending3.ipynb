{
 "cells": [
  {
   "cell_type": "markdown",
   "metadata": {},
   "source": [
    "# Bending of Light with a Gizmo"
   ]
  },
  {
   "cell_type": "markdown",
   "metadata": {},
   "source": [
    "What I propose is that space surrounding a massive object (i.e. a planet or star) induces a \"field\" with the following momentum:\n",
    "\n",
    "$$\\vec{p} = \\hat{r} \\frac {G m \\hbar}{r^2}$$\n",
    "\n",
    "This \"field\" has the property that when light travels through it, the momentum of the light will be shifted in an additive and linear manner. So that, the change in momentum of a light-ray can be calculted as follows:\n",
    "\n",
    "$$\\Delta p = \\int_{path} \\vec {p} \\cdot d \\vec{l}$$\n",
    "\n",
    "where we integrate along the path of the light-ray.\n",
    "\n"
   ]
  },
  {
   "cell_type": "markdown",
   "metadata": {},
   "source": [
    "###Bending of light. \n",
    "\n",
    "We imagine a light ray that emanates from a distant star, passes close-by a massive object, and then continues beyond the star to an observer. The closest point while passing, i.e. the impact parameter, is at a distance of b. For ease of calculations, we will say that both the observer and the point of emmanation are infinitely far from the massive object.\n",
    "\n",
    "We assume that to a first-order approximation the trajectory of the light-ray is a straight line. To calculate the change in momentum of the light-ray, we simply integrate along the straight-line path of the light ray:\n",
    "\n",
    "$$\\Delta p = \\int \\vec {p} \\cdot d \\vec{l} = \\int_{-\\infty}^{+ \\infty} \\frac {Gm\\hbar}{r^{3}} ~~  \\vec{r} \\cdot (\\omega d\\vec{z})$$"
   ]
  },
  {
   "cell_type": "markdown",
   "metadata": {},
   "source": [
    "Because of symmetry, we can calculate the change in momentum in the direction perpendicular to the direction of travel:\n",
    "\n",
    "$$\\Delta p_y = \\int_{-\\infty}^{+ \\infty} \\frac {b ~~ Gm\\hbar}{(z^2 + b^2)^{3/2}} ~~ \\omega dz$$\n",
    "\n",
    "This yields, \n",
    "\n",
    "$$\\Delta p_y = \\hbar \\omega \\frac {2Gm}b$$\n",
    "\n",
    "and therefore, we get the final answer\n",
    "\n",
    "$$\\theta \\approx \\frac {\\Delta p_y}{p_z} = \\frac {2Gm}b $$\n",
    "\n",
    "which yields a deflection angle\n",
    "\n",
    "$$\\alpha = \\frac {4Gm}b$$"
   ]
  },
  {
   "cell_type": "markdown",
   "metadata": {},
   "source": [
    "###Blue/Red-shift of light"
   ]
  },
  {
   "cell_type": "markdown",
   "metadata": {},
   "source": [
    "Using the same assumptions as above, we can calculate the blue-shift of light easily. We essentially say that the frequency of light observed at infinity, is changed versus when it is observed in a gravitational field at a distance $R$ from the center of the massive object, using the following equation:\n",
    "\n",
    "$$\\hbar \\omega' = \\hbar \\omega + \\Delta p$$\n",
    "\n",
    "where we again integrate along the path of the photon,\n",
    "\n",
    "$$\\Delta p = \\int_{\\infty}^{R} \\vec{p} \\cdot \\hat{r} \\omega dr = \\int_{\\infty}^{R} \\frac {Gm\\hbar}{r^2} \\omega dr = \\hbar \\omega \\frac{Gm}R$$\n",
    "\n",
    "This yields,\n",
    "\n",
    "$$\\hbar \\omega' = \\hbar \\omega(1 + \\frac {Gm} R)$$\n",
    "\n",
    "\n",
    "It is intersting to note, that this is not the same equation given by General Relativity!!!\n",
    "\n",
    "In fact, this is exactly the equation given in the low-gravity limit. In the full theory of General Relativity, the answer that is given is\n",
    "\n",
    "$$\\hbar \\omega' = \\hbar \\omega \\frac 1 {(1 - {2Gm}/R)^{1/2}}$$\n",
    "\n",
    "which only approaches my answer in the \"weak gravitational limit\". This could be a testable difference between my theory and Einstein's theory"
   ]
  }
 ],
 "metadata": {
  "kernelspec": {
   "display_name": "Python 3",
   "language": "python",
   "name": "python3"
  },
  "language_info": {
   "codemirror_mode": {
    "name": "ipython",
    "version": 3
   },
   "file_extension": ".py",
   "mimetype": "text/x-python",
   "name": "python",
   "nbconvert_exporter": "python",
   "pygments_lexer": "ipython3",
   "version": "3.4.1"
  }
 },
 "nbformat": 4,
 "nbformat_minor": 0
}
