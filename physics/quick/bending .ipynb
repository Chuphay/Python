{
 "cells": [
  {
   "cell_type": "markdown",
   "metadata": {},
   "source": [
    "# Bending of Light with a Gizmo"
   ]
  },
  {
   "cell_type": "markdown",
   "metadata": {},
   "source": [
    "This is just a dump of the equations I will use and some explanation of the material as well.\n",
    "\n",
    "First what we want to do is introduce our \"gizmo\". What I propose is that space surrounding a massive object (i.e. planet or star) creates a non-chromatic, non-polarized, {I'll need to check exactly the best way to say this} light field with the following momentum:\n",
    "\n",
    "$$\\vec{p} = \\vec{r} \\frac {G m \\hbar}{r^3}$$"
   ]
  },
  {
   "cell_type": "markdown",
   "metadata": {},
   "source": [
    "As is well known [see Jackson for example] is that light is linearly additive. While the speed of light remains absolute, adding two waves of light can have two effects. One, if the light beams are traveling in the same direction, then their momentums will add which, usually means the intensity of the light will add, but somehow, {I guess this is part of the gizmo}, we assume that instead of adding to the intensity of the light, the frequency content of the light wave can change to compensate for the difference of energy. i.e., a photon, which does not really have an intensity bombarded with another photon, will increase its frequency content. To prove this on a very sound level we will need quantum mechanics.\n",
    "\n",
    "Two, if the light beams are traveling in different directions, then a new beam, will be essentially created that goes in the direction of both beams. I think this is easy to visualize. Imagine two streams of water combining that are not going in the exact same direction. The combined stream will go in a direction that is a sum of the two streams.\n",
    "\n",
    "We will use these two concepts of linear supperposition (the fact that light can add) to show that our equations can bend light and can explain the blue-shift/red-shift of light in a gravitational field.."
   ]
  },
  {
   "cell_type": "code",
   "execution_count": null,
   "metadata": {
    "collapsed": true
   },
   "outputs": [],
   "source": []
  }
 ],
 "metadata": {
  "kernelspec": {
   "display_name": "Python 2",
   "language": "python",
   "name": "python2"
  },
  "language_info": {
   "codemirror_mode": {
    "name": "ipython",
    "version": 2
   },
   "file_extension": ".py",
   "mimetype": "text/x-python",
   "name": "python",
   "nbconvert_exporter": "python",
   "pygments_lexer": "ipython2",
   "version": "2.7.6"
  }
 },
 "nbformat": 4,
 "nbformat_minor": 0
}
