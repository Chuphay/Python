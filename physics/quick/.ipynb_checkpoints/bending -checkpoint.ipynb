{
 "cells": [
  {
   "cell_type": "markdown",
   "metadata": {},
   "source": [
    "# Bending of Light with a Gizmo"
   ]
  },
  {
   "cell_type": "markdown",
   "metadata": {},
   "source": [
    "This is just a dump of the equations I will use and some explanation of the material as well.\n",
    "\n",
    "First what we want to do is introduce our \"gizmo\". What I propose is that space surrounding a massive object (i.e. planet or star) creates a non-chromatic, non-polarized, {I'll need to check exactly the best way to say this} light field with the following momentum:\n",
    "\n",
    "$$\\vec{p} = \\hat{r} \\frac {G m \\hbar}{r^2}$$"
   ]
  },
  {
   "cell_type": "markdown",
   "metadata": {},
   "source": [
    "As is well known [see Jackson for example] is that light is linearly additive. While the speed of light remains absolute, adding two waves of light can have two effects. One, if the light beams are traveling in the same direction, then their momentums will add which, usually means the intensity of the light will add, but somehow, {I guess this is part of the gizmo}, we assume that instead of adding to the intensity of the light, the frequency content of the light wave can change to compensate for the difference of energy. i.e., a photon, which does not really have an intensity bombarded with another photon, will increase its frequency content. To prove this on a very sound level we will need quantum mechanics.\n",
    "\n",
    "Two, if the light beams are traveling in different directions, then a new beam, will be essentially created that goes in the direction of both beams. I think this is easy to visualize. Imagine two streams of water combining that are not going in the exact same direction. The combined stream will go in a direction that is a sum of the two streams.\n",
    "\n",
    "I suppose these views are somewhat heretical, but maybe we can call it an assumption that goes with the \"gizmo\".\n",
    "\n",
    "We will use these two concepts of linear supperposition (the fact that light can add) to show that our equations can bend light and can explain the blue-shift/red-shift of light in a gravitational field.."
   ]
  },
  {
   "cell_type": "markdown",
   "metadata": {},
   "source": [
    "###Let us first examine the bending of light. \n",
    "\n",
    "(In the General relativity book, there's a figure that would probably help explain the concepts exactly, but let me try to state it with words.) We imagine a light ray that emanates from a distant star that passes close-by the massive object that will distort the fields and then travels beyond the star. We say that at the closest point while passing, is at a distance of b. For calculations reasons, it will be simplest to say that both where the light emmanates from and where it is finally observed are infinitely far away from the massive object.\n",
    "\n",
    "At every point, or maybe even every point in time, or along the path, the beam of light will interact, and add as we said above. Because of symmetry, we can calculate the change in momentum in the direction perpendicular to the direction of travel, using the following integration:\n",
    "\n",
    "$$\\Delta p_y = \\int_{-\\infty}^{+ \\infty} \\frac {b ~~ Gm\\hbar}{(z^2 + b^2)^{3/2}} ~~ \\omega dz$$\n",
    "\n",
    "This yields, \n",
    "\n",
    "$$\\Delta p_y = \\hbar \\omega \\frac {2Gm}b$$\n",
    "\n",
    "in agreement with [Carrol] {actually one-half his value, because the angle he is referring to is one-half the size of mine}{Also, to get to his value we must divide the $\\hbar \\omega$ out, but I think this is not such a big deal.}"
   ]
  },
  {
   "cell_type": "markdown",
   "metadata": {},
   "source": [
    "###Blue/Red-shift of light"
   ]
  },
  {
   "cell_type": "markdown",
   "metadata": {},
   "source": [
    "Using the same assumptions as above, we can calculate the blue-shift of light easily. We essentially say that the frequency of light observed at infinity, is changed versus when it is observed in a gravitational field at a distance $R$ from the center of the massive object, using the following equation:\n",
    "\n",
    "$$\\hbar \\omega' = \\hbar \\omega + \\Delta p$$\n",
    "\n",
    "where we again integrate along the path of the photon,\n",
    "\n",
    "$$\\Delta p = \\int_{\\infty}^{R} \\vec{p} \\cdot \\hat{r} \\omega dr = \\int_{\\infty}^{R} \\frac {Gm\\hbar}{r^2} \\omega dr = \\hbar \\omega \\frac{Gm}R$$\n",
    "\n",
    "This yields,\n",
    "\n",
    "$$\\hbar \\omega' = \\hbar \\omega(1 + \\frac {Gm} R)$$\n",
    "\n",
    "\n",
    "It is intersting to note, that this is not the same equation given by General Relativity!!!\n",
    "\n",
    "In fact, this is exactly the equation given in the low-gravity limit. In the full theory of General Relativity, the answer that is given is\n",
    "\n",
    "$$\\hbar \\omega' = \\hbar \\omega \\frac 1 {(1 - {2Gm}/R)^{1/2}}$$\n",
    "\n",
    "which only approaches my answer in the \"weak gravitational limit\". This could be a testable difference between my theory and Einstein's theory"
   ]
  }
 ],
 "metadata": {
  "kernelspec": {
   "display_name": "Python 2",
   "language": "python",
   "name": "python2"
  },
  "language_info": {
   "codemirror_mode": {
    "name": "ipython",
    "version": 2
   },
   "file_extension": ".py",
   "mimetype": "text/x-python",
   "name": "python",
   "nbconvert_exporter": "python",
   "pygments_lexer": "ipython2",
   "version": "2.7.6"
  }
 },
 "nbformat": 4,
 "nbformat_minor": 0
}
