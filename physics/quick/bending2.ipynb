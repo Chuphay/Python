{
 "cells": [
  {
   "cell_type": "markdown",
   "metadata": {},
   "source": [
    "# Bending of Light with a Gizmo"
   ]
  },
  {
   "cell_type": "markdown",
   "metadata": {},
   "source": [
    "What I propose is that space surrounding a massive object (i.e. a planet or star) induces a \"field\" with the following momentum:\n",
    "\n",
    "$$\\vec{p} = \\hat{r} \\frac {G m \\hbar}{r^2}$$\n",
    "\n",
    "This \"field\" has the property that when light travels through it, the momentum of the light will be shifted in an additive and linear manner."
   ]
  },
  {
   "cell_type": "markdown",
   "metadata": {},
   "source": [
    "###Bending of light. \n",
    "\n",
    "(In Carrol's book, there is a figure that would probably help illuminate the set-up exactly, but let me try to state it with words.) \n",
    "\n",
    "We imagine a light ray that emanates from a distant star that passes close-by a massive object, and then continues on beyond the star to an observer. We say that the closest point while passing, i.e. the impact parameter, is at a distance of b. For calculations reasons, it will be simplest to say that both the observer and the point of emmanation are infinitely far away from the massive object.\n",
    "\n",
    "In this derivation, we will closely follow Carrol's approach. We assume that to a first-order approximation the trajectory of the light-ray is a straight line. We then simply integrate along the straight-line path of the light ray, and keep track of how much deviation there is in the momentum. Because of symmetry, we can calculate the change in momentum in the direction perpendicular to the direction of travel, using the following integration:\n",
    "\n",
    "$$\\Delta p_y = \\int_{-\\infty}^{+ \\infty} \\frac {b ~~ Gm\\hbar}{(z^2 + b^2)^{3/2}} ~~ \\omega dz$$\n",
    "\n",
    "This yields, \n",
    "\n",
    "$$\\Delta p_y = \\hbar \\omega \\frac {2Gm}b$$\n",
    "\n",
    "and therefore, we get the final answer\n",
    "\n",
    "$$\\theta \\approx \\frac {\\Delta p_y}{p_z} = \\frac {2Gm}b $$\n",
    "\n",
    "in agreement with Carrol. {actually one-half his value, because the angle he is referring to is one-half the size of mine}"
   ]
  },
  {
   "cell_type": "markdown",
   "metadata": {},
   "source": [
    "###Blue/Red-shift of light"
   ]
  },
  {
   "cell_type": "markdown",
   "metadata": {},
   "source": [
    "Using the same assumptions as above, we can calculate the blue-shift of light easily. We essentially say that the frequency of light observed at infinity, is changed versus when it is observed in a gravitational field at a distance $R$ from the center of the massive object, using the following equation:\n",
    "\n",
    "$$\\hbar \\omega' = \\hbar \\omega + \\Delta p$$\n",
    "\n",
    "where we again integrate along the path of the photon,\n",
    "\n",
    "$$\\Delta p = \\int_{\\infty}^{R} \\vec{p} \\cdot \\hat{r} \\omega dr = \\int_{\\infty}^{R} \\frac {Gm\\hbar}{r^2} \\omega dr = \\hbar \\omega \\frac{Gm}R$$\n",
    "\n",
    "This yields,\n",
    "\n",
    "$$\\hbar \\omega' = \\hbar \\omega(1 + \\frac {Gm} R)$$\n",
    "\n",
    "\n",
    "It is intersting to note, that this is not the same equation given by General Relativity!!!\n",
    "\n",
    "In fact, this is exactly the equation given in the low-gravity limit. In the full theory of General Relativity, the answer that is given is\n",
    "\n",
    "$$\\hbar \\omega' = \\hbar \\omega \\frac 1 {(1 - {2Gm}/R)^{1/2}}$$\n",
    "\n",
    "which only approaches my answer in the \"weak gravitational limit\". This could be a testable difference between my theory and Einstein's theory"
   ]
  }
 ],
 "metadata": {
  "kernelspec": {
   "display_name": "Python 3",
   "language": "python",
   "name": "python3"
  },
  "language_info": {
   "codemirror_mode": {
    "name": "ipython",
    "version": 3
   },
   "file_extension": ".py",
   "mimetype": "text/x-python",
   "name": "python",
   "nbconvert_exporter": "python",
   "pygments_lexer": "ipython3",
   "version": "3.4.1"
  }
 },
 "nbformat": 4,
 "nbformat_minor": 0
}
