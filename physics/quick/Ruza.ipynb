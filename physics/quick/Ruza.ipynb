{
 "cells": [
  {
   "cell_type": "markdown",
   "metadata": {},
   "source": [
    "#Section 1\n",
    "\n",
    "<u style=\"color: red\">Postulate #1</u> : We assume that gravity is correctly described by Maxwell's Equations.\n",
    "\n",
    "$$\\nabla \\times \\vec B  - \\partial_t \\vec E  = -4 \\pi G \\vec J ~~~~~~~~ \\nabla \\times \\vec E + \\partial_t \\vec B = 0$$\n",
    "\n",
    "$$\\nabla \\cdot \\vec E = -4 \\pi G \\rho ~~~~~~~~~~ \\nabla \\cdot \\vec B = 0$$\n",
    "\n",
    "and, for completeness, the conservation of mass-charge:\n",
    "\n",
    "$$\\nabla \\cdot \\vec J + \\partial_t \\rho = 0 $$\n",
    "\n",
    "Where we are in units where c = 1. The constant G differs in different systems of units. In normal SI units, it is equal to $6.674 \\times 10^{-11} \\frac {N \\cdot m^2}{kg^2}$ . \n",
    "\n",
    "For a static mass distribution, it should be clear that we recover the familiar Newton's inverse square law. However, for moving distributions, we need to take into account that a gravitational-magnetic field is introduced via\n",
    "\n",
    "$$\\vec B = \\vec \\beta \\times \\vec E$$\n",
    "\n",
    "See the text around Jackson 11.150 for more information. \n",
    "\n",
    "Using the small-velocity approximation \n",
    "\n",
    "$$\\vec B \\approx \\vec v \\times \\vec E$$\n",
    "\n",
    "we can find the same equations as Einstein used to describe the precession of the perihelion of Mercury's orbit. I have worked this out, but apparently I am not the first to do so, please see [link](https://www.researchgate.net/publication/226889193_Gravitomagnetism_A_novel_explanation_of_the_precession_of_planets_and_binary_pulsars) and/or [link](https://arxiv.org/pdf/gr-qc/0311030.pdf) ."
   ]
  },
  {
   "cell_type": "markdown",
   "metadata": {},
   "source": [
    "To be precise, according to Sean M. Carroll's book \"An Introduction to General Relativity: Spacetime and Geometry\", we can write:\n",
    "\n",
    "$$\\frac 1 2 \\left( \\frac {dr}{d\\lambda} \\right)^2 + V(r) = \\mathcal{E} ~~~~~~~~ \\text{(Carrol 5.65)}$$\n",
    "\n",
    "where\n",
    "\n",
    "$$V(r) = \\frac 1 2 \\epsilon - \\epsilon \\frac {GM} r + \\frac {L^2}{2r^2} - \\frac {GML^2}{r^3} ~~~~~~~~ \\text{(Carrol 5.66)} $$\n",
    "\n",
    "According to Carroll: \"A similar analysis of orbits in Newtonian gravity would have produced a similar result; the general equation (5.65) would have been the same, but the effective potential (5.66) would not have had the last term. (Note that this equation is not a power series in $1/r$, it is exact.)\"\n",
    "\n",
    "However, in our present theory, not only can we derive the last term (the term proprtional to $1/r^3$), but we see that this is only the low-limit approximation. I am not an experimentalist, but I believe that this would be a ripe area to explore whether this theory can produce results more accurate than General Relativity.\n"
   ]
  },
  {
   "cell_type": "markdown",
   "metadata": {},
   "source": [
    "#Section 2\n",
    "\n",
    "This section concerns the two classical test of General Relativity concerning the bending of light around a massive object and the blue-shift of light as it falls down towards a massive object.\n",
    "\n",
    "<u style=\"color:red\">Postulate #2</u> : Empty space is filled with a randomly-fluctuating zero-point energy and that a massive object absorbs some of this energy, thereby preventing collapse of the mass. I therefore postulate that a massive object induces a “field” (or maybe a momentum-flow is a better way to say it?) in the surrounding space and that when a photon travels through this “field,” the momentum of the photon is shifted in an additive and linear manner – in accordance with the following equation: \n",
    "\n",
    "$$\\Delta \\vec p = \\int_{path} \\vec P ~ dl$$\n",
    "\n",
    "where we integrate along the path of the photon and $\\vec P$ is defined as\n",
    "\n",
    "$$\\vec P = - \\hat r \\frac {Gm\\hbar}{r^2}$$"
   ]
  },
  {
   "cell_type": "markdown",
   "metadata": {},
   "source": [
    "###Bending of light.\n",
    "\n",
    "We imagine a photon that emanates from a distant source, passes close by a massive object, then continues beyond the object to an observer. The closest point while passing, i.e., the impact parameter, is at a distance of $b$ from the center of the object. For ease of calculation, we will say that both the point of emanation and the observer are infinitely far from the massive object."
   ]
  },
  {
   "cell_type": "markdown",
   "metadata": {},
   "source": [
    "<img src=\"light-bending.png\">"
   ]
  },
  {
   "cell_type": "markdown",
   "metadata": {},
   "source": [
    "We assume that to a first-order approximation the trajectory of the photon is a straight line. To calculate its change in momentum, we integrate along the straight-line path of the photon:\n",
    "\n",
    "$$\\Delta \\vec p = \\int_{path} \\vec P ~ dl = \\int_{-\\infty}^{\\infty} - \\frac {Gm\\hbar}{r^3} \\vec r ~ wdz$$\n",
    "\n",
    "We divide the problem into two parts: the momentum change in the direction parallel to the direction of travel of the photon and the momentum change perpendicular to the direction of travel. In calculating the momentum change in the direction parallel to the direction of travel, we note that as the photon approaches and then recedes from the massive object, the change in momentum cancels out to leave zero net change in the parallel direction. We can easily calculate the change in momentum in the direction perpendicular to the direction of travel:\n",
    "\n",
    "$$\\Delta p_y = \\int_{-\\infty}^{\\infty}  \\frac {Gm\\hbar}{(z^2 + b^2)^{3/2}} b ~ wdz$$"
   ]
  },
  {
   "cell_type": "markdown",
   "metadata": {},
   "source": [
    "This yields:\n",
    "\n",
    "$$\\Delta p_y = \\hbar w \\frac {2Gm} b$$\n",
    "\n",
    "We therefore get:\n",
    "\n",
    "$$\\theta \\approx \\sin \\theta = \\frac {\\Delta p_y}{p_z} = \\frac {2Gm} b $$\n",
    "\n",
    "Which yields the deflection angle:\n",
    "\n",
    "$$\\alpha = \\frac {4Gm} b$$\n",
    "\n",
    "This is the same result as in the theory of General Relativity."
   ]
  },
  {
   "cell_type": "markdown",
   "metadata": {},
   "source": [
    "###Blue-shift of light \n",
    "\n",
    "Using the same postulate, we can calculate the blue-shift of light. As a photon falls into a gravity well, the momentum and hence the energy of the photon are shifted. Because the energy of a photon is generally expressed as a frequency, we say that the frequency of the photon observed at infinity is changed compared to when it is observed in a gravitational field at a distance R from the center of the massive object. We use the following equation to express this change:\n",
    "\n",
    "$$\\hbar w' = \\hbar w + \\Delta p$$\n",
    "\n",
    "To calculate the change in momentum, we again integrate along the path of the photon:\n",
    "\n",
    "$$\\Delta p = \\int_{\\infty}^R \\hat r \\cdot \\vec P w dr= \\int_{\\infty}^R - \\frac {Gm\\hbar}{r^2} w dr = \\hbar w \\frac {Gm}R$$\n",
    "\n",
    "This yields:\n",
    "\n",
    "$$\\hbar w' = \\hbar w \\left( 1 + \\frac {Gm}R \\right)$$\n",
    "\n",
    "In the theory of General Relativity the equation is given as: \n",
    "\n",
    "$$\\hbar w ' = \\hbar w (1 - 2Gm/R)^{-1/2}$$\n",
    "\n",
    "As Gm/R approaches zero, my equation and the equation from General Relativity converge.  As Gm/R approaches one, however, the equations diverge.  This could be another testable difference between my theory and Einstein's.\n"
   ]
  },
  {
   "cell_type": "markdown",
   "metadata": {},
   "source": [
    "###Backwards derivation of my postulate\n",
    "\n",
    "I think it is worth talking a bit more about my postulate, first on a mathematical level and then on a philosophical level. Mathematically, we are talking about radiation, we therefore use the Maxwell equations and write the general solution in free-space as:\n",
    "\n",
    "$$\\vec E_{lm} = \\frac i {k} a_E \\nabla \\times \\left(f_l(kr) \\vec X_{lm} \\right) + a_M f_l(kr) \\vec X_{lm} $$\n",
    "\n",
    "$$\\vec B_{lm} =  a_E f_l(kr) \\vec X_{lm} - \\frac i {k} a_M \\nabla \\times \\left(f_l(kr) \\vec X_{lm} \\right) $$\n",
    "\n",
    "See Jackson 9.122 for details.\n",
    "\n",
    "Ruza, I'm not sure if you remember these calculations, but, with clever use of the Wronskian, we were able to show that:\n",
    "\n",
    "$$\\vec{P} = - \\hat{r} \\int d^3x \\int dw \\sum_{lm} |a_E|^2 |f_0|^2  |\\vec X_{lm}|^2 $$\n",
    "\n",
    "with some factors of $2 \\pi$ that I haven't quite verified yet and where we require that $|a_E|^2 = |a_M|^2$ in order for the final equations to be electromagnetically neutral. \n",
    "\n",
    "We rewrite the above equation as\n",
    "\n",
    "$$\\vec{P} = - \\hat{r} \\frac 1 {(2 \\pi)^3} \\int d^3x \\int d^3k \\frac 1 {k^4 r^2} \\sum |a_E|^2|\\vec X_{lm}|^2$$\n",
    "\n",
    "and therefore, up to some factors of $2 \\pi$, we require that:\n",
    "\n",
    "$$\\sum |a_E|^2|\\vec X_{lm}|^2 = Gm \\hbar k^4$$ \n",
    "\n",
    "to yield:\n",
    "\n",
    "$$\\vec{P} = - \\hat{r} \\frac 1 {(2 \\pi)^3} \\int d^3x \\int d^3k \\frac {Gm\\hbar}{r^2}$$"
   ]
  },
  {
   "cell_type": "markdown",
   "metadata": {},
   "source": [
    "Philosophically... well, maybe I'll skip it for now."
   ]
  },
  {
   "cell_type": "markdown",
   "metadata": {},
   "source": [
    "#Section 3\n",
    "\n",
    "In this section we will derive an equation that is very reminiscent of the Dirac equation.\n",
    "\n",
    "<u style=\"color:red\">Postulate #3</u> Ohm's law:\n",
    "\n",
    "$$\\vec J = \\sigma \\vec E  ~ \\delta^3_x \\delta^3_k$$\n",
    "\n",
    "where $\\delta^3_x$ keeps the current on the surface of the mass, and $\\delta^3_k$ relates the allowed frequencies to the radius of the mass. \n",
    "\n",
    "In the following calculation, we will not need to be any more specific about these delta functions. Essentially, they are a way for us to keep the calculations \"On Shell\". "
   ]
  },
  {
   "cell_type": "markdown",
   "metadata": {},
   "source": [
    "###Calculate $\\sigma$\n",
    "\n",
    "To calculate $\\sigma$, we use Equation (6.114) from Jackson:\n",
    "\n",
    "$$\\int \\left[ \\rho \\vec E +  \\frac 1 2 \\vec J \\times \\vec B^* \\right]d^3x = 0$$\n",
    "\n",
    "LEt's deal with the two terms seperately:\n",
    "\n",
    "$$\\int \\rho \\vec E d^3x = \\hat r \\int \\frac {Gm^2}{r^2} \\delta^3_x d^3x$$\n",
    "\n",
    "Using the fact that \n",
    "\n",
    "$$\\frac 1 {(2 \\pi)^3} \\int \\delta^3_k d^3k = 1$$\n",
    "\n",
    "we can write the above as\n",
    "\n",
    "$$\\int \\rho \\vec E d^3x = \\frac {\\hat r}{(2 \\pi)^3} \\int \\frac {Gm^2}{r^2} \\delta^3_x  \\delta^3_k d^3x d^3k$$\n",
    "\n",
    "Turning our attention to the second term:\n",
    "\n",
    "$$\\int d^3x \\frac 1 2 \\vec J \\times \\vec B^* = \\sigma \\int d^3x \\delta^3_x \\delta^3_k \\frac 1 2 \\vec E \\times \\vec B^*$$\n",
    "\n",
    "Using the calculations from above (in Section 2), we have\n",
    "\n",
    "$$\\int d^3x \\frac 1 2 \\vec J \\times \\vec B^* = \\sigma \\hat{r} \\frac 1 {(2 \\pi)^3} \\int d^3x \\int d^3k \\frac {4\\pi G^2 m\\hbar}{r^2} $$\n",
    "\n",
    "where we have used, that the Poynting vector in these units is defined as\n",
    "\n",
    "$$\\vec S = \\frac {-1}{8 \\pi G} \\vec E \\times \\vec B^*$$ \n",
    "\n",
    "therefore, in order for these two terms to equal out, we require:\n",
    "\n",
    "$$\\sigma \\frac {4\\pi G^2 m\\hbar}{r^2} = -\\frac {Gm^2}{r^2}$$\n",
    "\n",
    "meaning\n",
    "\n",
    "$$\\sigma = -\\frac m {4\\pi G \\hbar}$$"
   ]
  },
  {
   "cell_type": "markdown",
   "metadata": {},
   "source": [
    "###Derive the Dirac Equation\n",
    "\n",
    "We can therefore rewrite Maxwell's  current equation as:\n",
    "\n",
    "$$\\nabla \\times \\vec B  - \\partial_t \\vec E  = -4 \\pi G \\vec J = \\frac m {\\hbar} \\vec E ~~ \\delta^3_x \\delta^3_k$$\n",
    "\n",
    "If we promise to only work \"On shell\", we can therefore write this as\n",
    "\n",
    "$$\\nabla \\times \\vec B  - \\partial_t \\vec E  =\\frac m {\\hbar} \\vec E $$"
   ]
  },
  {
   "cell_type": "markdown",
   "metadata": {},
   "source": [
    "Using the dual transform, see Jackson 6.150, we can re-write the two curly equations:\n",
    "\n",
    "$$\\partial_t \\vec E - \\nabla \\times \\vec B   +\\frac m {\\hbar} \\vec E = 0$$ \n",
    "\n",
    "$$ \\partial_t \\vec B + \\nabla \\times \\vec E   +\\frac m {\\hbar} \\vec B = 0$$ \n",
    "\n",
    "We also note that we can write:\n",
    "\n",
    "$$\\nabla \\times \\vec V = g_i \\partial_i \\vec V$$"
   ]
  },
  {
   "cell_type": "markdown",
   "metadata": {},
   "source": [
    "where the $g_i$s are defined:\n",
    "\n",
    "$$g_1 = \\left(\\begin{matrix}  0 && 0 && 0 \\\\ 0 && 0 && -1 \\\\ 0 && 1 && 0 \\end{matrix}\\right)$$\n",
    "\n",
    "$$g_2 = \\left(\\begin{matrix}  0 && 0 && 1 \\\\ 0 && 0 && 0 \\\\ -1 && 0 && 0 \\end{matrix}\\right)$$\n",
    "\n",
    "$$g_3 = \\left(\\begin{matrix}  0 && -1 && 0 \\\\ 1 && 0 && 0 \\\\ 0 && 0 && 0 \\end{matrix}\\right)$$\n",
    "\n",
    "we therefore re-write Maxwell's equations as \n",
    "\n",
    "$$\\partial_t \\vec E - g_i \\partial_i \\vec B   +\\frac m {\\hbar} \\vec E = 0$$ \n",
    "\n",
    "$$ \\partial_t \\vec B + g_i \\partial_i \\vec E   +\\frac m {\\hbar} \\vec B = 0$$ \n",
    "\n",
    "if we the define \n",
    "\n",
    "$$\\psi = \\left(\\begin{matrix}  \\vec E \\\\ \\vec B \\end{matrix}\\right)$$\n",
    "\n",
    "and \n",
    "\n",
    "$$\\gamma^0 = \\left(\\begin{matrix}  1 && 0 \\\\ 0 && 1 \\end{matrix}\\right)$$\n",
    "\n",
    "$$\\gamma^i = \\left(\\begin{matrix}  0 && -g_i \\\\ g_i && 0 \\end{matrix}\\right)$$\n",
    "\n",
    "We can again re-write MAxwell's equations as\n",
    "\n",
    "$$\\left(\\gamma^{\\mu} \\partial_{\\mu} + \\frac m {\\hbar} \\right) \\psi = 0$$\n",
    "\n",
    "which can be compared with, for example, Sakurai's book \"Advanced Quantum Mechanics\" equation 3.31."
   ]
  },
  {
   "cell_type": "code",
   "execution_count": null,
   "metadata": {
    "collapsed": true
   },
   "outputs": [],
   "source": []
  }
 ],
 "metadata": {
  "kernelspec": {
   "display_name": "Python 2",
   "language": "python",
   "name": "python2"
  },
  "language_info": {
   "codemirror_mode": {
    "name": "ipython",
    "version": 2
   },
   "file_extension": ".py",
   "mimetype": "text/x-python",
   "name": "python",
   "nbconvert_exporter": "python",
   "pygments_lexer": "ipython2",
   "version": "2.7.6"
  }
 },
 "nbformat": 4,
 "nbformat_minor": 0
}
