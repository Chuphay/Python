{
 "cells": [
  {
   "cell_type": "markdown",
   "metadata": {},
   "source": [
    "#Section 1\n",
    "\n",
    "Assumption #1 : We assume that gravity is correctly described by Maxwell's Equations.\n",
    "\n",
    "$$\\nabla \\times \\vec B  - \\partial_t \\vec E  = -4 \\pi G \\vec J ~~~~~~~~ \\nabla \\times \\vec E + \\partial_t \\vec B = 0$$\n",
    "\n",
    "$$\\nabla \\cdot \\vec E = -4 \\pi G \\rho ~~~~~~~~~~ \\nabla \\cdot \\vec B = 0$$\n",
    "\n",
    "and finally, for completeness, the conservation of mass-charge:\n",
    "\n",
    "$$\\nabla \\cdot \\vec J + \\partial_t \\rho = 0 $$\n",
    "\n",
    "Where we are in units where c = 1. The constant G differs in different systems of units. In normal SI units, it is equal to $6.674 \\times 10^{-11} \\frac {N \\cdot m^2}{kg^2}$ . \n",
    "\n",
    "For a static mass distribution, it should be clear that we recover the familiar Newton's inverse square law. However, for moving distributions, we need to take into account that a gravitational-magnetic field is introduced via\n",
    "\n",
    "$$\\vec B = \\vec \\beta \\times \\vec E$$\n",
    "\n",
    "See the text around Jackson 11.150 for more information. \n",
    "\n",
    "Using the small-velocity approximation \n",
    "\n",
    "$$\\vec B \\approx \\vec v \\times \\vec E$$\n",
    "\n",
    "we can find the same equations as Einstein used to describe the precession of the perihelion of Mercury's orbit. I have worked this out, but apparently I am not the first to do so, please see [link](https://www.researchgate.net/publication/226889193_Gravitomagnetism_A_novel_explanation_of_the_precession_of_planets_and_binary_pulsars) and/or [link](https://arxiv.org/pdf/gr-qc/0311030.pdf) ."
   ]
  },
  {
   "cell_type": "markdown",
   "metadata": {},
   "source": [
    "To be precise, according to Sean M. Carroll's book \"An Introduction to General Relativity: Spacetime and Geometry\", we can write:\n",
    "\n",
    "$$\\frac 1 2 \\left( \\frac {dr}{d\\lambda} \\right)^2 + V(r) = \\mathcal{E} ~~~~~~~~ \\text{(Carrol 5.65)}$$\n",
    "\n",
    "where\n",
    "\n",
    "$$V(r) = \\frac 1 2 \\epsilon - \\epsilon \\frac {GM} r + \\frac {L^2}{2r^2} - \\frac {GML^2}{r^3} ~~~~~~~~ \\text{(Carrol 5.66)} $$\n",
    "\n",
    "and\n",
    "\n",
    "$$\\mathcal{E} = \\frac 1 2 E^2  ~~~~~~~~ \\text{(Carrol 5.67)}$$\n",
    "\n",
    "According to Carroll: \"A similar analysis of orbits in Newtonian gravity would have produced a similar result; the general equation (5.65) would have been the same, but the effective potential (5.66) would not have had the last term. (Note that this equation is not a power series in $1/r$, it is exact.)\"\n",
    "\n",
    "However, in our present theory, not only can we derive the last term (the term proprtional to $1/r^3$), but we see that this is only the low-limit approximation. I am not an experimentalist, but I believe that this would be a ripe area to explore whether this theory can produce results more accurate than General Relativity.\n"
   ]
  },
  {
   "cell_type": "markdown",
   "metadata": {},
   "source": [
    "#Section 2\n",
    "\n",
    "This section concerns the two classical test of General Relativity concerning the bending of light around a massive object and the blue-shift of light as it falls down a gravity well. \n",
    "\n",
    "I already wrote out the results in a different paper, and will not repeat them here. (Ruza, hopefully the paper was attached to the email I've sent you)"
   ]
  },
  {
   "cell_type": "code",
   "execution_count": null,
   "metadata": {
    "collapsed": true
   },
   "outputs": [],
   "source": []
  }
 ],
 "metadata": {
  "kernelspec": {
   "display_name": "Python 2",
   "language": "python",
   "name": "python2"
  },
  "language_info": {
   "codemirror_mode": {
    "name": "ipython",
    "version": 2
   },
   "file_extension": ".py",
   "mimetype": "text/x-python",
   "name": "python",
   "nbconvert_exporter": "python",
   "pygments_lexer": "ipython2",
   "version": "2.7.6"
  }
 },
 "nbformat": 4,
 "nbformat_minor": 0
}
