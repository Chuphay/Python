{
 "cells": [
  {
   "cell_type": "markdown",
   "metadata": {},
   "source": [
    "<h2>The stuff I'm really not sure about</h2>\n",
    "\n",
    "So we start off with a few assumptions. \n",
    "\n",
    "$$k_{special} x_{special} = \\hbar$$\n",
    "\n",
    "and\n",
    "\n",
    "$$x_{special} = a = Gm$$\n",
    "\n",
    "Both of these assumptions have precedence, but I am not sure if I can fully justify either of them. The first equation is highly reminiscient of Heisenberg's uncertainty relation:\n",
    "\n",
    "$$\\Delta k \\Delta x \\geq \\hbar$$\n",
    "\n",
    "The second assumption is based on the calculation in Rohrlich (I gave you a 3 or 4 page photo copy of the material, if you remember)for the classical radius.\n",
    "\n",
    "Maybe both of the above assumptions are ramifications of the fact that we need to always be on the mass shell (you can wikipedia \"on mass-shell\"). And basically this assumption is that whenever we make a final calculation we impose the above assumptions in the form of a Dirac delta function:\n",
    "\n",
    "$$\\delta_k^{(3)} \\delta_x^{(3)}$$"
   ]
  },
  {
   "cell_type": "markdown",
   "metadata": {},
   "source": [
    "<h2>The more solid stuff</h2>\n",
    "\n",
    "With the above settled, we now make the assumption of my theory.\n",
    "\n",
    "As will be explained in a further section (see the as of yet unwritten section \"What does it all mean?\"), there appear to be many different possible interpretations of the underlying equations. \n",
    "\n",
    "One form/interpretation of these equations gives a particulary simple set of equations to solve. Here, the rules of gravitism are partially defined as :\n",
    "\n",
    "$$\\nabla \\times \\vec B = \\partial_t \\vec E + i\\frac m {\\hbar}\\vec E$$\n",
    "\n",
    "$$\\nabla \\times \\vec E = -\\partial_t \\vec B + i \\frac m {\\hbar} \\vec B$$"
   ]
  },
  {
   "cell_type": "markdown",
   "metadata": {},
   "source": [
    "With units of $c=1$. And the assumption that otherwise we are using the mathematics of electromagnetism in its standard form.\n",
    "\n",
    "The general solution to this equation is:\n",
    "\n",
    "$$\\vec E_{lm} = \\frac i {k_M} a_E \\nabla \\times \\left(f_l \\vec X_{lm} \\right) + a_M f_l \\vec X_{lm} $$\n",
    "\n",
    "$$\\vec B_{lm} =  a_E f_l \\vec X_{lm} - \\frac i {k_E} a_M \\nabla \\times \\left(f_l \\vec X_{lm} \\right) $$\n",
    "\n",
    "Where \n",
    "\n",
    "$$k_E = w+m ~~~~~ \\text{and} ~~~ k_M = w-m$$"
   ]
  },
  {
   "cell_type": "markdown",
   "metadata": {},
   "source": [
    "It can be shown that \n",
    "\n",
    "$$U = \\int d^3x \\int dw \\sum_{lm} |a_E|^2 |f_l|^2  |\\vec X_{lm}|^2 \\frac {w^2}{k^2}$$\n",
    "\n",
    "$$\\vec{P} = - \\hat{r} \\int d^3x \\int dw \\sum_{lm} |a_E|^2 |f_0|^2  |\\vec X_{lm}|^2 \\frac {w}{k}$$\n",
    "\n",
    "with some factors of $2 \\pi$ that I haven't quite verified yet and where I've made another assumption that $|a_E|^2 = |a_M|^2$ \n",
    "\n",
    "<p style=\"color:red\">Note to myself: this assumption is possibly based on the polarization of light... well, we want it to remain electromagnetically neutral, so actually we require that .<p>"
   ]
  },
  {
   "cell_type": "markdown",
   "metadata": {},
   "source": [
    "In order to show that \n",
    "\n",
    "$$\\vec P = - \\hat{r} \\frac {Gm\\hbar}{r^2}$$\n",
    "\n",
    "which is hopefully the equation I began with last time (watch that minus sign!)\n",
    "\n",
    "I need to find $|a_E|^2$ then. To find one unknown constant, you need to solve one equation. \n",
    "\n",
    "The obvious equation to solve is $U^2 - P^2 = m^2$ (This is $E=mc^2$ for the people in the know). "
   ]
  },
  {
   "cell_type": "markdown",
   "metadata": {},
   "source": [
    "<p style= \"color:red\">Note to myself: We will do the calculation in the radiation limit, where $|f_l|^2 \\rightarrow |f_0|^2$. But to be honest, I think with more thought and carefullness, the general solution should also work. However, we also have a few justifications for going to the radiation limit: obviously any observer will be here, also we can maybe sort of say the radiation limit is a featureless mass, which is exactly what we want.</p>"
   ]
  },
  {
   "cell_type": "markdown",
   "metadata": {},
   "source": [
    "<p style = \"color:red\">As a note to myself, I still have the problem of $E_I$ and how that contributes to the energy... possibly it looks like it actually cancels with the second part of $|f_l|^2$, but I'll need to confirm.</p>"
   ]
  },
  {
   "cell_type": "markdown",
   "metadata": {
    "collapsed": true
   },
   "source": [
    "Using $wdw = kdk$, we rewrite $U$ and $\\vec{P}$ as\n",
    "\n",
    "$$U = \\frac 1 {(2 \\pi)^3} \\int d^3x \\int d^3k \\frac 1 {k^4 r^2} \\frac w k \\sum |a_E|^2$$\n",
    "\n",
    "$$\\vec{P} = - \\hat{r} \\frac 1 {(2 \\pi)^3} \\int d^3x \\int d^3k \\frac 1 {k^4 r^2} \\sum |a_E|^2$$\n",
    "\n",
    "Now we apply a trick, where we only look at the formulae insode the integrals, thus, we say that the energy and momentum can be viewed as \n",
    "\n",
    "$$u = \\frac 1 {k^4 r^2} \\frac w k \\sum |a_E|^2$$\n",
    "\n",
    "$$\\vec{p} = - \\hat{r} \\frac 1 {k^4 r^2} \\sum |a_E|^2$$\n",
    "\n",
    "where we know that to get back to reality we must take the integrals.\n",
    "\n",
    "$$u^2 - \\vec{p^2} = \\left( \\frac {\\sum |a_E|^2}{k^4 r^2} \\right)^2 \\left( \\frac {w^2}{k^2} - 1 \\right) = \n",
    "\\left( \\frac {\\sum |a_E|^2}{k^4} \\frac 1 {k r^2} \\right)^2 \\left( {w^2}-{k^2} \\right)$$\n",
    "\n",
    "Obviously, ${w^2}-{k^2} = m^2$. And now we apply the two assumptions from above: $r = a$, $ka = \\hbar$, and $a = Gm$:\n",
    "\n",
    "$$u^2 - \\vec{p^2} = \\left( \\frac {\\sum |a_E|^2}{Gm \\hbar k^4} \\right)^2 m^2$$\n",
    "\n",
    "Setting this to $m^2$, yields $\\sum |a_E|^2 = Gm \\hbar k^4$. Finally, plugging this back into my equation above for $\\vec{P}$, gives us our desired result:\n",
    "\n",
    "$$\\vec{P} = - \\hat{r} \\frac 1 {(2 \\pi)^3} \\int d^3x \\int d^3k \\frac {Gm\\hbar}{r^2}$$"
   ]
  }
 ],
 "metadata": {
  "kernelspec": {
   "display_name": "Python 3",
   "language": "python",
   "name": "python3"
  },
  "language_info": {
   "codemirror_mode": {
    "name": "ipython",
    "version": 3
   },
   "file_extension": ".py",
   "mimetype": "text/x-python",
   "name": "python",
   "nbconvert_exporter": "python",
   "pygments_lexer": "ipython3",
   "version": "3.4.4"
  }
 },
 "nbformat": 4,
 "nbformat_minor": 0
}
