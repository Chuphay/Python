{
 "cells": [
  {
   "cell_type": "markdown",
   "metadata": {},
   "source": [
    "<h2>The stuff I'm really not sure about</h2>\n",
    "\n",
    "So we start off with a few assumptions. One, just as in Rohrlich, we can make a calculation to show that there is a classical radius, and for us that radius is $a = Gm$. This somehow seems to induce another relation which is that when we integrate, the only important $k$ (wave number?) is the one such that $k a = \\hbar$. This highly reminiscient of essentially Heisenberg' uncertainty relation: \n",
    "\n",
    "$$\\Delta x \\Delta k \\geq \\hbar$$\n",
    "\n",
    "But am a bit confused about the justification (I feel like perhaps this is an assumption that quantum mechanics uses all the time (ohh... maybe they are in Naire's notes))\n",
    "\n",
    "With further thought, maybe both of the above assumptions are ramifications of the fact that we need to always be on the mass shell, because I think my equations below also rely on this assumtion."
   ]
  },
  {
   "cell_type": "markdown",
   "metadata": {},
   "source": [
    "<h2>Feeling like we're on more solid ground here</h2>\n",
    "\n",
    "With that settled, we now make the assumption of my theory. \n",
    "\n",
    "The rules of gravitism are partially defined as :\n",
    "\n",
    "$$\\nabla \\times \\vec B = \\partial_t \\vec E + i\\frac m {\\hbar}\\vec E$$\n",
    "\n",
    "$$\\nabla \\times \\vec E = -\\partial_t \\vec B + i \\frac m {\\hbar} \\vec B$$"
   ]
  },
  {
   "cell_type": "markdown",
   "metadata": {},
   "source": [
    "With units of $c=1$. And the assumption that otherwise we are using the mathematics of electromagnetism in its standard form.\n",
    "\n",
    "The general solution to this equation is:\n",
    "\n",
    "$$\\vec E_{lm} = \\frac i {k_M} a_E \\nabla \\times \\left(f_l \\vec X_{lm} \\right) + a_M f_l \\vec X_{lm} $$\n",
    "\n",
    "$$\\vec B_{lm} =  a_E f_l \\vec X_{lm} - \\frac i {k_E} a_M \\nabla \\times \\left(f_l \\vec X_{lm} \\right) $$\n",
    "\n",
    "Where \n",
    "\n",
    "$$k_E = w+m ~~~~~ \\text{and} ~~~ k_M = w-m$$"
   ]
  },
  {
   "cell_type": "markdown",
   "metadata": {},
   "source": [
    "It can be shown that \n",
    "\n",
    "$$U = \\int d^3x \\int dw \\sum_{lm} |a_E|^2 |f_l|^2  |\\vec X_{lm}|^2 \\frac {w^2}{k^2}$$\n",
    "\n",
    "$$\\vec{P} = - \\hat{r} \\int d^3x \\int dw \\sum_{lm} |a_E|^2 |f_0|^2  |\\vec X_{lm}|^2 \\frac {w}{k}$$\n",
    "\n",
    "with some factors of $2 \\pi$ that I haven't quite verified yet and where I've made another assumption (possibly based on the polarization of light... well, we want it to remain electromagnetically neutral, so actually we require that) that $|a_E|^2 = |a_M|^2$."
   ]
  },
  {
   "cell_type": "markdown",
   "metadata": {},
   "source": [
    "In order to show that \n",
    "\n",
    "$$\\vec P = - \\hat{r} \\frac {Gm\\hbar}{r^2}$$\n",
    "\n",
    "which is hopefully the equation I began with last time (watch that minus sign!)\n",
    "\n",
    "I need to find $|a_E|$ then. To find one unknown constant, you need to solve one equation. The most obviously great equation to solve is $E^2 - P^2 = m^2$ (This is $E=mc^2$ for the people in the know). "
   ]
  },
  {
   "cell_type": "markdown",
   "metadata": {},
   "source": [
    "We will do the calculation in the radiation limit, where $|f_l|^2 \\rightarrow |f_0|^2$. But to be honest, I think with more thought and carefullness, the general solution should also work. However, we also have a few justifications for going to the radiation limit: obviously any observer will be here, also we can maybe sort of say the radiation limit is a featureless mass, which is exactly what we want."
   ]
  },
  {
   "cell_type": "markdown",
   "metadata": {},
   "source": [
    "As a note to myself, I still have the problem of $E_I$ and how that contributes to the energy... possibly it looks like it actually cancels with the second part of $|f_l|^2$, but I'll need to confirm."
   ]
  },
  {
   "cell_type": "code",
   "execution_count": null,
   "metadata": {
    "collapsed": true
   },
   "outputs": [],
   "source": []
  }
 ],
 "metadata": {
  "kernelspec": {
   "display_name": "Python 3",
   "language": "python",
   "name": "python3"
  },
  "language_info": {
   "codemirror_mode": {
    "name": "ipython",
    "version": 3
   },
   "file_extension": ".py",
   "mimetype": "text/x-python",
   "name": "python",
   "nbconvert_exporter": "python",
   "pygments_lexer": "ipython3",
   "version": "3.4.4"
  }
 },
 "nbformat": 4,
 "nbformat_minor": 0
}
