{
 "metadata": {
  "name": ""
 },
 "nbformat": 3,
 "nbformat_minor": 0,
 "worksheets": [
  {
   "cells": [
    {
     "cell_type": "markdown",
     "metadata": {},
     "source": [
      "$$\\sum |a_E|^2 = Gm\\hbar k^4 $$\n",
      "\n",
      "$$U = \\frac 1 {(2\\pi)^3} \\int d^3x \\int d^3k \\frac {Gm\\hbar} {r^2} \\left(\\frac w k \\right)$$\n",
      "\n",
      "$$\\vec{P} =  -  \\frac {\\hat{r}}{(2\\pi)^3}  \\int d^3x \\int d^3k \\frac {Gm\\hbar} {r^2} $$"
     ]
    },
    {
     "cell_type": "markdown",
     "metadata": {},
     "source": [
      "$$\\nabla \\times \\vec B = \\partial_t \\vec E + i\\frac m {\\hbar}\\vec E$$\n",
      "\n",
      "$$\\nabla \\times \\vec E = -\\partial_t \\vec B + i \\frac m {\\hbar} \\vec B$$"
     ]
    },
    {
     "cell_type": "markdown",
     "metadata": {},
     "source": [
      "$$\\vec E = \\frac i {k_M} a_E \\nabla \\times \\left(f_l \\vec X_{lm} \\right) + a_M f_l \\vec X_{lm} $$\n",
      "\n",
      "$$\\vec B =  a_E f_l \\vec X_{lm} - \\frac i {k_E} a_M \\nabla \\times \\left(f_l \\vec X_{lm} \\right) $$"
     ]
    },
    {
     "cell_type": "code",
     "collapsed": false,
     "input": [],
     "language": "python",
     "metadata": {},
     "outputs": []
    }
   ],
   "metadata": {}
  }
 ]
}