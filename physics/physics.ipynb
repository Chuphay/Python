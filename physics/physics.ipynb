{
 "cells": [
  {
   "cell_type": "markdown",
   "metadata": {},
   "source": [
    "$$\\sum |a_E|^2 = Gm\\hbar k^4 $$\n",
    "\n",
    "$$U = \\frac 1 {(2\\pi)^3} \\int d^3x \\int d^3k \\frac {Gm\\hbar} {r^2} \\left(\\frac w k \\right)$$\n",
    "\n",
    "$$\\vec{P} =  -  \\frac {\\hat{r}}{(2\\pi)^3}  \\int d^3x \\int d^3k \\frac {Gm\\hbar} {r^2} $$"
   ]
  },
  {
   "cell_type": "markdown",
   "metadata": {},
   "source": [
    "$$\\nabla \\times \\vec B = \\partial_t \\vec E + i\\frac m {\\hbar}\\vec E$$\n",
    "\n",
    "$$\\nabla \\times \\vec E = -\\partial_t \\vec B + i \\frac m {\\hbar} \\vec B$$"
   ]
  },
  {
   "cell_type": "markdown",
   "metadata": {},
   "source": [
    "$$\\vec E = \\frac i {k_M} a_E \\nabla \\times \\left(f_l \\vec X_{lm} \\right) + a_M f_l \\vec X_{lm} $$\n",
    "\n",
    "$$\\vec B =  a_E f_l \\vec X_{lm} - \\frac i {k_E} a_M \\nabla \\times \\left(f_l \\vec X_{lm} \\right) $$"
   ]
  },
  {
   "cell_type": "code",
   "execution_count": null,
   "metadata": {
    "collapsed": false
   },
   "outputs": [],
   "source": []
  }
 ],
 "metadata": {
  "kernelspec": {
   "display_name": "Python 3",
   "language": "python",
   "name": "python3"
  },
  "language_info": {
   "codemirror_mode": {
    "name": "ipython",
    "version": 3
   },
   "file_extension": ".py",
   "mimetype": "text/x-python",
   "name": "python",
   "nbconvert_exporter": "python",
   "pygments_lexer": "ipython3",
   "version": "3.4.4"
  }
 },
 "nbformat": 4,
 "nbformat_minor": 0
}
