{
 "cells": [
  {
   "cell_type": "code",
   "execution_count": 1,
   "metadata": {
    "collapsed": false
   },
   "outputs": [
    {
     "name": "stdout",
     "output_type": "stream",
     "text": [
      "Populating the interactive namespace from numpy and matplotlib\n"
     ]
    }
   ],
   "source": [
    "%pylab inline"
   ]
  },
  {
   "cell_type": "code",
   "execution_count": 2,
   "metadata": {
    "collapsed": false
   },
   "outputs": [
    {
     "data": {
      "text/plain": [
       "0.3989422804014327"
      ]
     },
     "execution_count": 2,
     "metadata": {},
     "output_type": "execute_result"
    }
   ],
   "source": [
    "def f(x, mu, sigma):\n",
    "    A = 1/np.sqrt(2*np.pi*sigma**2)\n",
    "    return A*np.exp(-((x-mu)**2)/(2*sigma**2))"
   ]
  },
  {
   "cell_type": "code",
   "execution_count": 5,
   "metadata": {
    "collapsed": true
   },
   "outputs": [],
   "source": [
    "from scipy.integrate import quad"
   ]
  },
  {
   "cell_type": "code",
   "execution_count": 8,
   "metadata": {
    "collapsed": false
   },
   "outputs": [
    {
     "data": {
      "text/plain": [
       "(1.0000000000000002, 8.671030287533508e-10)"
      ]
     },
     "execution_count": 8,
     "metadata": {},
     "output_type": "execute_result"
    }
   ],
   "source": [
    "quad(f, -10,10, args =(0,1))"
   ]
  },
  {
   "cell_type": "code",
   "execution_count": 112,
   "metadata": {
    "collapsed": false
   },
   "outputs": [],
   "source": [
    "def make_data(n, k, args):\n",
    "    assert len(args) == 2*k, \"woh... len(args) != 2*k\"\n",
    "    \n",
    "    assert n%k == 0, \"woh... n%k != 0\"\n",
    "    \n",
    "    \"\"\"For random samples from :math:`N(\\mu, \\sigma^2)`, use:\n",
    "\n",
    "``sigma * np.random.randn(...) + mu``\"\"\"\n",
    "    data = randn(n)\n",
    "    for i in range(k):\n",
    "        mu = args[2*i]\n",
    "        sigma = args[2*i + 1]\n",
    "        data[int(i*n/k):int((i+1)*n/k)] = sigma*data[int(i*n/k):int((i+1)*n/k)]+mu\n",
    "    #shuffle(data)\n",
    "    return data\n",
    "    \n",
    "    \n",
    "data = make_data(40,2,[15,4,0,1])    "
   ]
  },
  {
   "cell_type": "code",
   "execution_count": 78,
   "metadata": {
    "collapsed": false
   },
   "outputs": [],
   "source": [
    "clusters = [{'mu': rand() -0.5, 'sigma': 1},{'mu': rand()-0.5, 'sigma': 1}]\n",
    "prob_c = [1/2, 1/2]\n",
    "def prob(c, x):\n",
    "    num = prob_c[c]*f(x,clusters[c]['mu'], clusters[c]['sigma'])\n",
    "    denom = sum([prob_c[i]*f(x,clusters[i]['mu'], clusters[i]['sigma']) for i in range(2)])\n",
    "    return num/denom\n"
   ]
  },
  {
   "cell_type": "code",
   "execution_count": 122,
   "metadata": {
    "collapsed": false
   },
   "outputs": [
    {
     "name": "stdout",
     "output_type": "stream",
     "text": [
      "[{'mu': -0.91149182087108738, 'sigma': 0.53374704870211964}, {'mu': 9.5668404504780575, 'sigma': 7.1704004577918132}]\n",
      "[{'mu': -0.50724178534462427, 'sigma': 0.65961925788898701}, {'mu': 11.854154687901147, 'sigma': 6.0819118328061146}]\n",
      "[{'mu': -0.24075201870243801, 'sigma': 0.79018734796109014}, {'mu': 13.985355763547933, 'sigma': 3.9916449888109411}]\n",
      "[{'mu': -0.15589085823946569, 'sigma': 0.88287869738419189}, {'mu': 14.469538914374976, 'sigma': 3.2354399854290929}]\n",
      "[{'mu': -0.15589085823946569, 'sigma': 0.88287869738419189}, {'mu': 14.469538914374976, 'sigma': 3.2354399854290929}]\n"
     ]
    }
   ],
   "source": [
    "def prob(c, x):\n",
    "    #print(\"prob\",c,x)\n",
    "    num = prob_c[c]*f(x,clusters[c]['mu'], clusters[c]['sigma'])\n",
    "    #print('num', num, clusters[c]['mu'], clusters[c]['sigma'])\n",
    "    denom = sum([prob_c[i]*f(x,clusters[i]['mu'], clusters[i]['sigma']) for i in range(2)])\n",
    "    return num/denom\n",
    "\n",
    "def do_it(data):\n",
    "    #print(clusters)\n",
    "    c_1 = []\n",
    "    c_2 = []\n",
    "    for d in data:\n",
    "        #print(d)\n",
    "        p = prob(0,d)\n",
    "        #print(\"p\",p)\n",
    "        if p>=0.5:\n",
    "            c_1.append(d)\n",
    "        else:\n",
    "            assert(prob(1,d)>=0.5),\"crazy... buggy\"\n",
    "            c_2.append(d)\n",
    "    #print(\"length\", len(c_1), c_1)\n",
    "    #pri\n",
    "    clusters[0]['mu'] = mean(c_1)\n",
    "    if(len(c_1) == 1):\n",
    "        clusters[0]['sigma'] = 1 #np.sqrt(var(c_1))\n",
    "    else:\n",
    "        clusters[0]['sigma'] = np.sqrt(var(c_1))\n",
    "        \n",
    "    clusters[1]['mu'] = mean(c_2)\n",
    "    if(len(c_2) == 1):\n",
    "        clusters[1]['sigma'] = 1 \n",
    "    else:\n",
    "        clusters[1]['sigma'] = np.sqrt(var(c_2))\n",
    "    \n",
    "\n",
    "data = make_data(100,2,[15,4,0,1])     \n",
    "clusters = [{'mu': rand() -0.5, 'sigma': 1},{'mu': rand()-0.5, 'sigma': 1}]\n",
    "prob_c = [1/2, 1/2]\n",
    "do_it(data) \n",
    "print(clusters)\n",
    "do_it(data) \n",
    "print(clusters)\n",
    "do_it(data) \n",
    "print(clusters)\n",
    "do_it(data) \n",
    "print(clusters)\n",
    "do_it(data) \n",
    "print(clusters)"
   ]
  },
  {
   "cell_type": "code",
   "execution_count": null,
   "metadata": {
    "collapsed": true
   },
   "outputs": [],
   "source": []
  }
 ],
 "metadata": {
  "kernelspec": {
   "display_name": "Python 3",
   "language": "python",
   "name": "python3"
  },
  "language_info": {
   "codemirror_mode": {
    "name": "ipython",
    "version": 3
   },
   "file_extension": ".py",
   "mimetype": "text/x-python",
   "name": "python",
   "nbconvert_exporter": "python",
   "pygments_lexer": "ipython3",
   "version": "3.4.1"
  }
 },
 "nbformat": 4,
 "nbformat_minor": 0
}
