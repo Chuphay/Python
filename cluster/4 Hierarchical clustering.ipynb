{
 "cells": [
  {
   "cell_type": "markdown",
   "metadata": {},
   "source": [
    "#4 Hierarchical Clustering\n",
    "\n",
    "###Two Categories of Algorithms\n",
    "\n",
    "1.) <b>Agglomarative</b>: Start with singleton clusters, continuously merge two clusters at a time to build a <b>bottom-up</b> hierarchy of clusters\n",
    "\n",
    "2.) <b>devisive</b>: Start with a huge macro-cluster, split it continuously into two groups, generating a <b>top-down</b> hierarchy of clusters"
   ]
  },
  {
   "cell_type": "markdown",
   "metadata": {},
   "source": [
    "###Agglomerative Clustering Algorithms"
   ]
  },
  {
   "cell_type": "markdown",
   "metadata": {},
   "source": [
    "####AGNES\n",
    "\n",
    "merge closest neighbor, but there are several other possibilities: centroid, diameter, average(computationally expensive)\n",
    "\n",
    "<b>GAAC</b> : Let two clusters, $C_a$ and $C_b$ be merged together into $C_{a \\cup b}$. The new centroid is \n",
    "\n",
    "$$c_{a \\cup b} = \\frac {N_a c_a + N_b c_b}{N_a + N_b}$$\n",
    "\n",
    "where $N_a$ is the number of elements in $C_a$ and $c_a$ is the centroid of $C_a$"
   ]
  },
  {
   "cell_type": "markdown",
   "metadata": {},
   "source": [
    "<b>Ward's Criterion</b> : The increase in the value of the SSE criterion for the clustering obtained by merging them into $C_a \\cup C_b$:\n",
    "\n",
    "$$ W (C_a \\cup C_b, c_a \\cup c_b) - W(C,c) = \\frac { N_a N_b}{N_a + N_b} d(c_a,c_b)$$"
   ]
  },
  {
   "cell_type": "markdown",
   "metadata": {},
   "source": [
    "###Divisive Clustering Algorithms\n",
    "\n",
    "hmmm.... went by rather quick"
   ]
  },
  {
   "cell_type": "markdown",
   "metadata": {},
   "source": [
    "###BIRCH Tree\n",
    "\n",
    "very similar to a B+ tree and very interesting\n",
    "\n",
    "###CURE\n",
    "\n",
    "no idea ...\n",
    "\n",
    "###CHAMELEON\n",
    "\n",
    "similar to my groups algorithm\n",
    "\n",
    "###Probabilistic Hierarchical Models\n",
    "\n",
    "Cool stuff. Taha would've loved it"
   ]
  },
  {
   "cell_type": "markdown",
   "metadata": {},
   "source": [
    "#5 Whole Bunch of Algorithms, none of them properly explained"
   ]
  },
  {
   "cell_type": "markdown",
   "metadata": {},
   "source": [
    "#6 Probabilistic Model-Based Clustering Methods"
   ]
  },
  {
   "cell_type": "markdown",
   "metadata": {},
   "source": []
  }
 ],
 "metadata": {
  "kernelspec": {
   "display_name": "Python 3",
   "language": "python",
   "name": "python3"
  },
  "language_info": {
   "codemirror_mode": {
    "name": "ipython",
    "version": 3
   },
   "file_extension": ".py",
   "mimetype": "text/x-python",
   "name": "python",
   "nbconvert_exporter": "python",
   "pygments_lexer": "ipython3",
   "version": "3.4.1"
  }
 },
 "nbformat": 4,
 "nbformat_minor": 0
}
