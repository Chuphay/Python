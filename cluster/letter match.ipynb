{
 "cells": [
  {
   "cell_type": "code",
   "execution_count": 3,
   "metadata": {
    "collapsed": false
   },
   "outputs": [
    {
     "name": "stdout",
     "output_type": "stream",
     "text": [
      "Populating the interactive namespace from numpy and matplotlib\n"
     ]
    },
    {
     "name": "stderr",
     "output_type": "stream",
     "text": [
      "WARNING: pylab import has clobbered these variables: ['matrix']\n",
      "`%matplotlib` prevents importing * from pylab and numpy\n"
     ]
    }
   ],
   "source": [
    "%pylab inline"
   ]
  },
  {
   "cell_type": "code",
   "execution_count": 4,
   "metadata": {
    "collapsed": false
   },
   "outputs": [],
   "source": [
    "a = ['a','a','b','e']\n",
    "b = ['a','b','c','f']\n",
    "c = ['c','a','g','x']\n",
    "x = ['x','y','y','h']\n",
    "y = ['x','y','y','z']\n",
    "z = ['y','y','y','b']\n",
    "data = [a,b,c,x,y,z]\n",
    "#shuffle(data)"
   ]
  },
  {
   "cell_type": "code",
   "execution_count": 5,
   "metadata": {
    "collapsed": false
   },
   "outputs": [
    {
     "data": {
      "text/plain": [
       "[[6, 3, 2, 0, 0, 1],\n",
       " [3, 4, 2, 0, 0, 1],\n",
       " [2, 2, 4, 1, 1, 0],\n",
       " [0, 0, 1, 6, 5, 6],\n",
       " [0, 0, 1, 5, 6, 6],\n",
       " [1, 1, 0, 6, 6, 10]]"
      ]
     },
     "execution_count": 5,
     "metadata": {},
     "output_type": "execute_result"
    }
   ],
   "source": [
    "def match(a, b):\n",
    "    out = 0\n",
    "    for i in a:\n",
    "        for j in b:\n",
    "            if (i == j):\n",
    "                out += 1\n",
    "    return out\n",
    "\n",
    "matrix = [[0 for i in range(len(data))] for j in range(len(data))]\n",
    "for i in range(len(data)):\n",
    "    for j in range(len(data)):\n",
    "        matrix[i][j] = match(data[i],data[j])\n",
    "matrix        "
   ]
  },
  {
   "cell_type": "code",
   "execution_count": 10,
   "metadata": {
    "collapsed": false
   },
   "outputs": [
    {
     "data": {
      "text/plain": [
       "[[0.0, 0.5, 0.6666666666666666, 1.0, 1.0, 0.8333333333333334],\n",
       " [0.25, 0.0, 0.5, 1.0, 1.0, 0.75],\n",
       " [0.5, 0.5, 0.0, 0.75, 0.75, 1.0],\n",
       " [1.0, 1.0, 0.8333333333333334, 0.0, 0.16666666666666666, 0.0],\n",
       " [1.0, 1.0, 0.8333333333333334, 0.16666666666666666, 0.0, 0.0],\n",
       " [0.9, 0.9, 1.0, 0.4, 0.4, 0.0]]"
      ]
     },
     "execution_count": 10,
     "metadata": {},
     "output_type": "execute_result"
    }
   ],
   "source": [
    "dist_matrix = [[0 for i in range(len(data))] for j in range(len(data))]\n",
    "for i in range(len(data)):\n",
    "    bigOne = matrix[i][i]\n",
    "    for j in range(len(data)):\n",
    "        dist_matrix[i][j] = (bigOne - matrix[i][j])/bigOne\n",
    "        \n",
    "dist_matrix"
   ]
  },
  {
   "cell_type": "code",
   "execution_count": 40,
   "metadata": {
    "collapsed": false
   },
   "outputs": [
    {
     "name": "stdout",
     "output_type": "stream",
     "text": [
      "1 3\n",
      "0\n",
      "0.25 1.0\n",
      "1\n",
      "0.0 1.0\n",
      "2\n",
      "0.5 0.8333333333333334\n",
      "3\n",
      "1.0 0.0\n",
      "4\n",
      "1.0 0.16666666666666666\n",
      "5\n",
      "0.75 0.0\n"
     ]
    }
   ],
   "source": [
    "seed(123)\n",
    "test1, test2 = np.random.choice(arange(6), size =2 , replace = False)\n",
    "centroid_1 = data[test1]\n",
    "centroid_2 = data[test2]\n",
    "print(test1,test2)\n",
    "for i in range(len(data)):\n",
    "    print (i)\n",
    "    d_1 = dist_matrix[test1][i]\n",
    "    d_2 = dist_matrix[test2][i]\n",
    "    print(d_1,d_2)"
   ]
  },
  {
   "cell_type": "code",
   "execution_count": null,
   "metadata": {
    "collapsed": true
   },
   "outputs": [],
   "source": []
  },
  {
   "cell_type": "code",
   "execution_count": null,
   "metadata": {
    "collapsed": true
   },
   "outputs": [],
   "source": []
  },
  {
   "cell_type": "code",
   "execution_count": null,
   "metadata": {
    "collapsed": true
   },
   "outputs": [],
   "source": []
  }
 ],
 "metadata": {
  "kernelspec": {
   "display_name": "Python 3",
   "language": "python",
   "name": "python3"
  },
  "language_info": {
   "codemirror_mode": {
    "name": "ipython",
    "version": 3
   },
   "file_extension": ".py",
   "mimetype": "text/x-python",
   "name": "python",
   "nbconvert_exporter": "python",
   "pygments_lexer": "ipython3",
   "version": "3.4.1"
  }
 },
 "nbformat": 4,
 "nbformat_minor": 0
}
