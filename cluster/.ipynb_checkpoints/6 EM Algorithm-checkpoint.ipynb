{
 "cells": [
  {
   "cell_type": "code",
   "execution_count": 1,
   "metadata": {
    "collapsed": false
   },
   "outputs": [
    {
     "name": "stdout",
     "output_type": "stream",
     "text": [
      "Populating the interactive namespace from numpy and matplotlib\n"
     ]
    }
   ],
   "source": [
    "%pylab inline"
   ]
  },
  {
   "cell_type": "code",
   "execution_count": 2,
   "metadata": {
    "collapsed": false
   },
   "outputs": [
    {
     "data": {
      "text/plain": [
       "0.3989422804014327"
      ]
     },
     "execution_count": 2,
     "metadata": {},
     "output_type": "execute_result"
    }
   ],
   "source": [
    "def f(x, mu, sigma):\n",
    "    A = 1/np.sqrt(2*np.pi*sigma**2)\n",
    "    return A*np.exp(-((x-mu)**2)/(2*sigma**2))"
   ]
  },
  {
   "cell_type": "code",
   "execution_count": 5,
   "metadata": {
    "collapsed": true
   },
   "outputs": [],
   "source": [
    "from scipy.integrate import quad"
   ]
  },
  {
   "cell_type": "code",
   "execution_count": 8,
   "metadata": {
    "collapsed": false
   },
   "outputs": [
    {
     "data": {
      "text/plain": [
       "(1.0000000000000002, 8.671030287533508e-10)"
      ]
     },
     "execution_count": 8,
     "metadata": {},
     "output_type": "execute_result"
    }
   ],
   "source": [
    "quad(f, -10,10, args =(0,1))"
   ]
  },
  {
   "cell_type": "code",
   "execution_count": 112,
   "metadata": {
    "collapsed": false
   },
   "outputs": [],
   "source": [
    "def make_data(n, k, args):\n",
    "    assert len(args) == 2*k, \"woh... len(args) != 2*k\"\n",
    "    \n",
    "    assert n%k == 0, \"woh... n%k != 0\"\n",
    "    \n",
    "    \"\"\"For random samples from :math:`N(\\mu, \\sigma^2)`, use:\n",
    "\n",
    "``sigma * np.random.randn(...) + mu``\"\"\"\n",
    "    data = randn(n)\n",
    "    for i in range(k):\n",
    "        mu = args[2*i]\n",
    "        sigma = args[2*i + 1]\n",
    "        data[int(i*n/k):int((i+1)*n/k)] = sigma*data[int(i*n/k):int((i+1)*n/k)]+mu\n",
    "    #shuffle(data)\n",
    "    return data\n",
    "    \n",
    "    \n",
    "data = make_data(40,2,[15,4,0,1])    "
   ]
  },
  {
   "cell_type": "code",
   "execution_count": 141,
   "metadata": {
    "collapsed": false
   },
   "outputs": [
    {
     "name": "stdout",
     "output_type": "stream",
     "text": [
      "[{'mu': 11.44037810622175, 'sigma': 7.0171879052501795}, {'mu': -0.61075718082914621, 'sigma': 0.74027568317736536}]\n",
      "[{'mu': 13.320059450743512, 'sigma': 5.8985927270525194}, {'mu': -0.27118500483859703, 'sigma': 0.76222715684630293}]\n",
      "[{'mu': 14.087377668590689, 'sigma': 5.2249701039886984}, {'mu': -0.15051065639266095, 'sigma': 0.85342307118449612}]\n",
      "[{'mu': 14.701701699581115, 'sigma': 4.4865433812773405}, {'mu': -0.085813059254705601, 'sigma': 0.97299343544692274}]\n",
      "[{'mu': 14.826688938221976, 'sigma': 4.2702339429534035}, {'mu': -0.092500179824880499, 'sigma': 1.0156503308965092}]\n",
      "[{'mu': 14.826688938221976, 'sigma': 4.2702339429534035}, {'mu': -0.092500179824880499, 'sigma': 1.0156503308965092}]\n"
     ]
    }
   ],
   "source": [
    "clusters = [{'mu': rand() -0.5, 'sigma': 1},{'mu': rand()-0.5, 'sigma': 1}]\n",
    "prob_c = [1/2, 1/2]\n",
    "\n",
    "def prob(c, x):\n",
    "    #print(\"prob\",c,x)\n",
    "    num = prob_c[c]*f(x,clusters[c]['mu'], clusters[c]['sigma'])\n",
    "    #print('num', num, clusters[c]['mu'], clusters[c]['sigma'])\n",
    "    denom = sum([prob_c[i]*f(x,clusters[i]['mu'], clusters[i]['sigma']) for i in range(2)])\n",
    "    return num/denom\n",
    "\n",
    "def do_it(data):\n",
    "    #print(clusters)\n",
    "    c_1 = []\n",
    "    c_2 = []\n",
    "    for d in data:\n",
    "        #print(d)\n",
    "        p = prob(0,d)\n",
    "        #print(\"p\",p)\n",
    "        if p>=0.5:\n",
    "            c_1.append(d)\n",
    "        else:\n",
    "            assert(prob(1,d)>=0.5),\"crazy... buggy\"\n",
    "            c_2.append(d)\n",
    "\n",
    "    prob_c[0] = len(c_1)/len(data)\n",
    "    prob_c[1] = len(c_2)/len(data)\n",
    "    clusters[0]['mu'] = mean(c_1)\n",
    "    if(len(c_1) == 1):\n",
    "        clusters[0]['sigma'] = 1 #np.sqrt(var(c_1))\n",
    "    else:\n",
    "        clusters[0]['sigma'] = np.sqrt(var(c_1))\n",
    "        \n",
    "    clusters[1]['mu'] = mean(c_2)\n",
    "    if(len(c_2) == 1):\n",
    "        clusters[1]['sigma'] = 1 \n",
    "    else:\n",
    "        clusters[1]['sigma'] = np.sqrt(var(c_2))\n",
    "        \n",
    "def em_algorithm(data, eps = 0.001, maximum = 30):\n",
    "    i = 0\n",
    "    while True:\n",
    "        i += 1\n",
    "        if(i>maximum):\n",
    "            print(\"exceeded the maximum\")\n",
    "            break\n",
    "        old = clusters[0]['mu']\n",
    "        do_it(data)\n",
    "        print(clusters)\n",
    "        if(abs(old - clusters[0]['mu'])<eps):\n",
    "            break\n",
    "    \n",
    "    \n",
    "\n",
    "data = make_data(500,2,[15,4,0,1])     \n",
    "em_algorithm(data)"
   ]
  },
  {
   "cell_type": "code",
   "execution_count": null,
   "metadata": {
    "collapsed": true
   },
   "outputs": [],
   "source": []
  }
 ],
 "metadata": {
  "kernelspec": {
   "display_name": "Python 3",
   "language": "python",
   "name": "python3"
  },
  "language_info": {
   "codemirror_mode": {
    "name": "ipython",
    "version": 3
   },
   "file_extension": ".py",
   "mimetype": "text/x-python",
   "name": "python",
   "nbconvert_exporter": "python",
   "pygments_lexer": "ipython3",
   "version": "3.4.1"
  }
 },
 "nbformat": 4,
 "nbformat_minor": 0
}
