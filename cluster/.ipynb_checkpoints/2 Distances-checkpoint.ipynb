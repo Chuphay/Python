{
 "metadata": {
  "name": "",
  "signature": "sha256:5e81a05f6dbbf71813d5373fd9f39a49271d7d68bc9df6c7c98aadf48c961f04"
 },
 "nbformat": 3,
 "nbformat_minor": 0,
 "worksheets": [
  {
   "cells": [
    {
     "cell_type": "heading",
     "level": 3,
     "metadata": {},
     "source": [
      "Proximity Measure for Symetric vs. Asymmetric Binary Variables"
     ]
    },
    {
     "cell_type": "code",
     "collapsed": false,
     "input": [
      "#from: https://class.coursera.org/clusteranalysis-001/lecture/63\n",
      "from pandas import DataFrame\n",
      "data = [[True,False,True,False,False,False],\n",
      "        [True,False,True,False,True,False],\n",
      "        [True,True,False,False,False,False]]\n",
      "df = DataFrame(data)\n",
      "df.index = [\"Jack\",\"Mary\",\"Jim\"]\n",
      "df"
     ],
     "language": "python",
     "metadata": {},
     "outputs": [
      {
       "html": [
        "<div style=\"max-height:1000px;max-width:1500px;overflow:auto;\">\n",
        "<table border=\"1\" class=\"dataframe\">\n",
        "  <thead>\n",
        "    <tr style=\"text-align: right;\">\n",
        "      <th></th>\n",
        "      <th>0</th>\n",
        "      <th>1</th>\n",
        "      <th>2</th>\n",
        "      <th>3</th>\n",
        "      <th>4</th>\n",
        "      <th>5</th>\n",
        "    </tr>\n",
        "  </thead>\n",
        "  <tbody>\n",
        "    <tr>\n",
        "      <th>Jack</th>\n",
        "      <td> True</td>\n",
        "      <td> False</td>\n",
        "      <td>  True</td>\n",
        "      <td> False</td>\n",
        "      <td> False</td>\n",
        "      <td> False</td>\n",
        "    </tr>\n",
        "    <tr>\n",
        "      <th>Mary</th>\n",
        "      <td> True</td>\n",
        "      <td> False</td>\n",
        "      <td>  True</td>\n",
        "      <td> False</td>\n",
        "      <td>  True</td>\n",
        "      <td> False</td>\n",
        "    </tr>\n",
        "    <tr>\n",
        "      <th>Jim</th>\n",
        "      <td> True</td>\n",
        "      <td>  True</td>\n",
        "      <td> False</td>\n",
        "      <td> False</td>\n",
        "      <td> False</td>\n",
        "      <td> False</td>\n",
        "    </tr>\n",
        "  </tbody>\n",
        "</table>\n",
        "</div>"
       ],
       "metadata": {},
       "output_type": "pyout",
       "prompt_number": 5,
       "text": [
        "         0      1      2      3      4      5\n",
        "Jack  True  False   True  False  False  False\n",
        "Mary  True  False   True  False   True  False\n",
        "Jim   True   True  False  False  False  False"
       ]
      }
     ],
     "prompt_number": 5
    },
    {
     "cell_type": "markdown",
     "metadata": {},
     "source": [
      "There are three different kinds of measures we can use (don't totally get the difference). We want to count the numbers of positives correlations and negative correlations:\n",
      "\n",
      "\n",
      "<table>\n",
      "<tr><th colspan=\"5\">obj i</th></tr>\n",
      "\n",
      "<tr>\n",
      "  <th rowspan=\"4\">obj j</th>\n",
      "  <td></td>\n",
      "  <td>1</td>\n",
      "    <td>0</td>\n",
      "  <td></td>\n",
      "</tr>\n",
      "<tr>\n",
      "<td>1</td>\n",
      "  <td>q</td>\n",
      "  <td>r</td>\n",
      "  <td>q+r</td>\n",
      "\n",
      "</tr>\n",
      "<tr>\n",
      "<td>0</td>\n",
      "  <td>s</td>\n",
      "  <td>t</td>\n",
      "  <td>s+t</td>\n",
      "\n",
      "</tr>\n",
      "<tr>\n",
      "<td></td>\n",
      "  <td>q+s</td>\n",
      "  <td>r+t</td>\n",
      "  <td>p</td>\n",
      "\n",
      "</tr>\n",
      "</table>\n"
     ]
    },
    {
     "cell_type": "markdown",
     "metadata": {},
     "source": [
      "So, for example, between Jack and Mary, they're both positive twice, so q = 2, and they are both negative 3 times, so t = 3, and finally if we count Jack as object 1. Then r = 1 and s = 0, because there is one instance when Jack is positive, but Mary is negative.\n",
      "\n",
      "Now, we were introduced three ways to calculate similarity. I don't totally get the differences, but here they are:\n",
      "\n",
      "$$d_{symmetric}(i,j) = \\frac{r+s}{q+r+s+t}$$\n",
      "\n",
      "$$d_{asymmetric}(i,j) = \\frac{r+s}{q+r+s}$$\n",
      "\n",
      "$$d_{Jaccard}(i,j) = \\frac{q}{q+r+t}$$\n",
      "\n",
      "Re-watched the video: Symmetric means that positive and negative occur equally often. Asymmetric means they don't for example having cancer only appears in 2% of the population or whatever.\n",
      "\n",
      "With the symmetric and asymmetric, we are talking about how far apart are they. With the jacard, we are looking at how similar threy are.\n",
      "\n",
      "For the current dataset, we will use the asymmetric formula (again, no idea why):"
     ]
    },
    {
     "cell_type": "code",
     "collapsed": false,
     "input": [
      "def get_scores(key1, key2):\n",
      "    q = ((df.ix[key1] == df.ix[key2]) &  df.ix[key1]).sum()\n",
      "    t = ((df.ix[key1] == df.ix[key2]) & ~ df.ix[key1]).sum()\n",
      "    r = ((df.ix[key1] != df.ix[key2]) & df.ix[key2]).sum()\n",
      "    s = ((df.ix[key1] != df.ix[key2]) & df.ix[key1]).sum()\n",
      "    return (q, r, s, t)\n",
      "\n",
      "def asymmetric_dist(tuple_scores):\n",
      "    q, r, s, t = tuple_scores\n",
      "    return (r+s)/(q+r+s)"
     ],
     "language": "python",
     "metadata": {},
     "outputs": [],
     "prompt_number": 60
    },
    {
     "cell_type": "code",
     "collapsed": false,
     "input": [
      "print(asymmetric_dist(get_scores(\"Jack\",\"Mary\")))\n",
      "print(asymmetric_dist(get_scores(\"Jack\",\"Jim\")))\n",
      "print(asymmetric_dist(get_scores(\"Jim\",\"Mary\")))"
     ],
     "language": "python",
     "metadata": {},
     "outputs": [
      {
       "output_type": "stream",
       "stream": "stdout",
       "text": [
        "0.333333333333\n",
        "0.666666666667\n",
        "0.75\n"
       ]
      }
     ],
     "prompt_number": 61
    },
    {
     "cell_type": "markdown",
     "metadata": {},
     "source": [
      "###Distance between Categorical Attributes Ordinal Attributes and Mixed Types"
     ]
    },
    {
     "cell_type": "markdown",
     "metadata": {},
     "source": [
      "<b>categorical data</b>, e.g., colors: red, green, blue, ...\n",
      "\n",
      "method # 1: Simple Matching: $d(i,j) = \\frac {p-m}{p}$ where p is the total dimension, and m is the number of matches.\n",
      "\n",
      "method # 2: Change the attributes into binary attributes, then use the binary methods above"
     ]
    },
    {
     "cell_type": "markdown",
     "metadata": {},
     "source": [
      "<b>Ordinal</b>, e.g., freshman, softmore, junior, senior:\n",
      "\n",
      "replace variable by rank: $r_{if} = \\{1, ..., M_{f} \\}$\n",
      "\n",
      "$z_{if} = \\frac{r_{if} - 1}{M_f - 1}$\n",
      "\n",
      "Then, freshman = 0, softmore = 1/3, junior = 2/3, senior = 1\n",
      "\n",
      "And the distance between frshman and senior is 1, but the distance between junior and senior is 1/3"
     ]
    },
    {
     "cell_type": "markdown",
     "metadata": {},
     "source": [
      "###Cosine Similarity"
     ]
    },
    {
     "cell_type": "code",
     "collapsed": false,
     "input": [
      "data = [[5,0,3,0,2,0,0,2,0,0],\n",
      "        [3,0,2,0,1,1,0,1,0,1],\n",
      "        [0,7,0,2,1,0,0,3,0,0],\n",
      "        [0,1,0,0,1,2,2,0,3,0]]\n",
      "df = DataFrame(data)\n",
      "df.index = [\"doc 1\", \"doc 2\", \"doc 3\", \"doc 4\"]\n",
      "df.columns = [\"team\",\"coach\", \"hockey\",\"baseball\",\"soccer\",\"penalty\",\"score\",\"win\",\"loss\",\"season\"]\n",
      "df"
     ],
     "language": "python",
     "metadata": {},
     "outputs": [
      {
       "html": [
        "<div style=\"max-height:1000px;max-width:1500px;overflow:auto;\">\n",
        "<table border=\"1\" class=\"dataframe\">\n",
        "  <thead>\n",
        "    <tr style=\"text-align: right;\">\n",
        "      <th></th>\n",
        "      <th>team</th>\n",
        "      <th>coach</th>\n",
        "      <th>hockey</th>\n",
        "      <th>baseball</th>\n",
        "      <th>soccer</th>\n",
        "      <th>penalty</th>\n",
        "      <th>score</th>\n",
        "      <th>win</th>\n",
        "      <th>loss</th>\n",
        "      <th>season</th>\n",
        "    </tr>\n",
        "  </thead>\n",
        "  <tbody>\n",
        "    <tr>\n",
        "      <th>doc 1</th>\n",
        "      <td> 5</td>\n",
        "      <td> 0</td>\n",
        "      <td> 3</td>\n",
        "      <td> 0</td>\n",
        "      <td> 2</td>\n",
        "      <td> 0</td>\n",
        "      <td> 0</td>\n",
        "      <td> 2</td>\n",
        "      <td> 0</td>\n",
        "      <td> 0</td>\n",
        "    </tr>\n",
        "    <tr>\n",
        "      <th>doc 2</th>\n",
        "      <td> 3</td>\n",
        "      <td> 0</td>\n",
        "      <td> 2</td>\n",
        "      <td> 0</td>\n",
        "      <td> 1</td>\n",
        "      <td> 1</td>\n",
        "      <td> 0</td>\n",
        "      <td> 1</td>\n",
        "      <td> 0</td>\n",
        "      <td> 1</td>\n",
        "    </tr>\n",
        "    <tr>\n",
        "      <th>doc 3</th>\n",
        "      <td> 0</td>\n",
        "      <td> 7</td>\n",
        "      <td> 0</td>\n",
        "      <td> 2</td>\n",
        "      <td> 1</td>\n",
        "      <td> 0</td>\n",
        "      <td> 0</td>\n",
        "      <td> 3</td>\n",
        "      <td> 0</td>\n",
        "      <td> 0</td>\n",
        "    </tr>\n",
        "    <tr>\n",
        "      <th>doc 4</th>\n",
        "      <td> 0</td>\n",
        "      <td> 1</td>\n",
        "      <td> 0</td>\n",
        "      <td> 0</td>\n",
        "      <td> 1</td>\n",
        "      <td> 2</td>\n",
        "      <td> 2</td>\n",
        "      <td> 0</td>\n",
        "      <td> 3</td>\n",
        "      <td> 0</td>\n",
        "    </tr>\n",
        "  </tbody>\n",
        "</table>\n",
        "</div>"
       ],
       "metadata": {},
       "output_type": "pyout",
       "prompt_number": 65,
       "text": [
        "       team  coach  hockey  baseball  soccer  penalty  score  win  loss  \\\n",
        "doc 1     5      0       3         0       2        0      0    2     0   \n",
        "doc 2     3      0       2         0       1        1      0    1     0   \n",
        "doc 3     0      7       0         2       1        0      0    3     0   \n",
        "doc 4     0      1       0         0       1        2      2    0     3   \n",
        "\n",
        "       season  \n",
        "doc 1       0  \n",
        "doc 2       1  \n",
        "doc 3       0  \n",
        "doc 4       0  "
       ]
      }
     ],
     "prompt_number": 65
    },
    {
     "cell_type": "markdown",
     "metadata": {},
     "source": [
      "Obviously, we are looking at their cosine similarities:\n",
      "\n",
      "$$cos(d_i,d_j) = \\frac { d_i \\cdot d_j}{|d_i||d_j|} $$ \n",
      "\n",
      "For, example, let's try the cosine similarity between doc 1 and doc 2:"
     ]
    },
    {
     "cell_type": "code",
     "collapsed": false,
     "input": [
      "sum(df.ix['doc 1']*df.ix['doc 2'])/(sum(df.ix['doc 1']**2)*sum(df.ix['doc 2']**2))**0.5"
     ],
     "language": "python",
     "metadata": {},
     "outputs": [
      {
       "metadata": {},
       "output_type": "pyout",
       "prompt_number": 83,
       "text": [
        "0.93560148570639967"
       ]
      }
     ],
     "prompt_number": 83
    },
    {
     "cell_type": "markdown",
     "metadata": {},
     "source": [
      "##Correlation"
     ]
    },
    {
     "cell_type": "code",
     "collapsed": false,
     "input": [
      "from numpy import corrcoef\n",
      "data = [[2,3,5,4,6], [5,8,10,11,14]]\n",
      "corrcoef(data[0],data[1])"
     ],
     "language": "python",
     "metadata": {},
     "outputs": [
      {
       "metadata": {},
       "output_type": "pyout",
       "prompt_number": 88,
       "text": [
        "array([[ 1.        ,  0.94072087],\n",
        "       [ 0.94072087,  1.        ]])"
       ]
      }
     ],
     "prompt_number": 88
    },
    {
     "cell_type": "code",
     "collapsed": false,
     "input": [],
     "language": "python",
     "metadata": {},
     "outputs": []
    }
   ],
   "metadata": {}
  }
 ]
}