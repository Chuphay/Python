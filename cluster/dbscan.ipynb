{
 "cells": [
  {
   "cell_type": "code",
   "execution_count": 1,
   "metadata": {
    "collapsed": false
   },
   "outputs": [
    {
     "name": "stdout",
     "output_type": "stream",
     "text": [
      "Populating the interactive namespace from numpy and matplotlib\n"
     ]
    }
   ],
   "source": [
    "%pylab inline"
   ]
  },
  {
   "cell_type": "code",
   "execution_count": 24,
   "metadata": {
    "collapsed": false
   },
   "outputs": [
    {
     "data": {
      "image/png": "[encoded data removed]",
      "text/plain": [
       "<matplotlib.figure.Figure at 0xb036410c>"
      ]
     },
     "metadata": {},
     "output_type": "display_data"
    }
   ],
   "source": [
    "seed(124)\n",
    "x = randn(20)\n",
    "y = randn(20)\n",
    "x = hstack((x, randn(20)+3))\n",
    "y = hstack((y, randn(20)+3))\n",
    "scatter(x,y);"
   ]
  },
  {
   "cell_type": "code",
   "execution_count": 25,
   "metadata": {
    "collapsed": true
   },
   "outputs": [],
   "source": [
    "#from https://en.wikipedia.org/wiki/DBSCAN"
   ]
  },
  {
   "cell_type": "code",
   "execution_count": 26,
   "metadata": {
    "collapsed": false
   },
   "outputs": [
    {
     "data": {
      "text/plain": [
       "5.0"
      ]
     },
     "execution_count": 26,
     "metadata": {},
     "output_type": "execute_result"
    }
   ],
   "source": [
    "def euc_dist(x1, y1, x2, y2):\n",
    "    return sqrt((x1-x2)**2 + (y1-y2)**2)\n",
    "euc_dist(0,0,4,3)"
   ]
  },
  {
   "cell_type": "code",
   "execution_count": 33,
   "metadata": {
    "collapsed": false
   },
   "outputs": [
    {
     "data": {
      "text/plain": [
       "array([0.0, 3.4488375243450782, 2.866914883799955, 2.2776270943282029,\n",
       "       3.3409352813773356, 2.4032327388586876, 2.2476628182336889,\n",
       "       2.3512138681741854, 3.0001956280664035, 1.45420042286315,\n",
       "       2.9006639179013214, 1.6737955297685316, 2.3212401401077876,\n",
       "       0.36167241906812231, 3.0059395245642433, 2.3515180823692132,\n",
       "       2.2394977098066948, 2.0309886769892831, 3.3343377804876888,\n",
       "       0.4630056568607524, 6.4045886210029526, 5.9774682424720726,\n",
       "       6.291437670419179, 6.5574115609117136, 6.2493938800985811,\n",
       "       5.2941250834300275, 6.9919645306094527, 5.9191868521665052,\n",
       "       4.5412593046025105, 6.1825413492401609, 6.9843179580445627,\n",
       "       6.5500985947701302, 6.3978050656363203, 5.8391796506762699,\n",
       "       3.6055595525504711, 6.7398753201872488, 5.2353162706105065,\n",
       "       6.5723715040595394, 6.4479522830147991, 4.7136023766395807], dtype=object)"
      ]
     },
     "execution_count": 33,
     "metadata": {},
     "output_type": "execute_result"
    }
   ],
   "source": [
    "n = len(x)\n",
    "distances = array([[None for i in range(n)] for j in range(n)])\n",
    "for i in range(n):\n",
    "    for j in range(i,n):\n",
    "        dist = euc_dist(x[i],y[i],x[j],y[j])\n",
    "        distances[i][j] = dist\n",
    "        distances[j][i] = dist\n",
    "\n",
    "distances[0]        "
   ]
  },
  {
   "cell_type": "code",
   "execution_count": 105,
   "metadata": {
    "collapsed": false
   },
   "outputs": [
    {
     "data": {
      "image/png": "[encoded data removed]",
      "text/plain": [
       "<matplotlib.figure.Figure at 0xaf97952c>"
      ]
     },
     "metadata": {},
     "output_type": "display_data"
    }
   ],
   "source": [
    "def dbscan(d,e,m):\n",
    "    \"\"\"d = Distance matrix, e = min_distance to search, \n",
    "    m = minimum number of points needed to be considered dense\"\"\"\n",
    "    n = len(d)\n",
    "    visited = [False for i in range(n)]\n",
    "    output = [0 for i in range(n)]\n",
    "    seed  = 0\n",
    "    stack = set()\n",
    "    cluster = 0\n",
    "    while True:\n",
    "        #print(seed, stack)\n",
    "        if(seed >= n):\n",
    "            break\n",
    "        if (visited[seed] == True):\n",
    "            seed += 1\n",
    "            continue\n",
    "        visited[seed] = True\n",
    "        within_e = distances[seed]<e\n",
    "        num_within_e = sum(within_e)\n",
    "        if(num_within_e>m):\n",
    "            if((len(stack) == 0) and (output[seed] == 0)):\n",
    "                cluster += 1\n",
    "                output[seed] = cluster\n",
    "            for j in range(n):\n",
    "                if((within_e[j] == True) and (visited[j] == False)):\n",
    "                    stack.add(j)\n",
    "                    output[j] = cluster\n",
    "\n",
    "        if(len(stack) == 0):\n",
    "            seed += 1           \n",
    "        else:\n",
    "            seed = stack.pop()\n",
    "    return array(output)\n",
    "                      \n",
    "        \n",
    "clusters = dbscan(distances, 1.7, 7)\n",
    "colors = cm.rainbow(np.linspace(0, 1, max(clusters)+1))\n",
    "labels = [i for i in range(max(clusters)+1)]\n",
    "shuffle(colors)\n",
    "for i in range(len(x)):   \n",
    "    c = clusters[i]\n",
    "    scatter(x[i],y[i], color = colors[c])"
   ]
  },
  {
   "cell_type": "code",
   "execution_count": 104,
   "metadata": {
    "collapsed": false
   },
   "outputs": [
    {
     "data": {
      "text/plain": [
       "array([0, 1, 1, 1, 1, 1, 1, 1, 1, 1, 1, 1, 1, 1, 1, 1, 1, 1, 1, 0, 2, 2, 2,\n",
       "       2, 2, 2, 2, 2, 2, 2, 2, 2, 2, 2, 1, 2, 2, 2, 2, 2])"
      ]
     },
     "execution_count": 104,
     "metadata": {},
     "output_type": "execute_result"
    }
   ],
   "source": [
    "clusters"
   ]
  }
 ],
 "metadata": {
  "kernelspec": {
   "display_name": "Python 3",
   "language": "python",
   "name": "python3"
  },
  "language_info": {
   "codemirror_mode": {
    "name": "ipython",
    "version": 3
   },
   "file_extension": ".py",
   "mimetype": "text/x-python",
   "name": "python",
   "nbconvert_exporter": "python",
   "pygments_lexer": "ipython3",
   "version": "3.4.1"
  }
 },
 "nbformat": 4,
 "nbformat_minor": 0
}
