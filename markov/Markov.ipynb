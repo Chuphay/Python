{
 "metadata": {
  "name": "",
  "signature": "sha256:daeae08dfc846e625aa90b45337fce4da36e734240a24498694ea2f2a1b7016e"
 },
 "nbformat": 3,
 "nbformat_minor": 0,
 "worksheets": [
  {
   "cells": [
    {
     "cell_type": "code",
     "collapsed": false,
     "input": [
      "alice = open(\"text/alice_in_wonderland.txt\").readlines()\n",
      "\n",
      "myDict = {}\n",
      "for j in range(len(alice)):\n",
      "    line = alice[j].strip().split()\n",
      "    for i in range(len(line)-1):\n",
      "        try:\n",
      "            myDict[line[i]].append(line[i+1])\n",
      "        except KeyError:\n",
      "            myDict[line[i]] = [line[i+1]]"
     ],
     "language": "python",
     "metadata": {},
     "outputs": [],
     "prompt_number": 1
    },
    {
     "cell_type": "code",
     "collapsed": false,
     "input": [
      "from random import choice, seed, randint\n",
      "\n",
      "for i in range(10):\n",
      "    myRandSeed = randint(1,2000)\n",
      "    print(myRandSeed)\n",
      "    seed(myRandSeed)\n",
      "    mySentence = [\"Alice\"]\n",
      "    while True:\n",
      "        i = len(mySentence)-1\n",
      "        if(mySentence[i][-1] == \".\"):\n",
      "            break\n",
      "        try:    \n",
      "            nextWord = choice(myDict[mySentence[i]])\n",
      "            mySentence.append(nextWord)\n",
      "        except KeyError:\n",
      "            break\n",
      "\n",
      "    print(\" \".join(mySentence))  "
     ],
     "language": "python",
     "metadata": {},
     "outputs": [
      {
       "output_type": "stream",
       "stream": "stdout",
       "text": [
        "916\n",
        "Alice was standing before that!\u201d said the porpoise, \u2019Keep back, please! We don\u2019t remember her with many more calmly, though she did not like that!\u201d screamed the Mock Turtle with an undertone to guard him; and put back the creature wouldn\u2019t talk nonsense.\n",
        "950\n",
        "Alice called out, and, when she couldn\u2019t cut your tongue, Ma!\u201d said the March Hare.\n",
        "1020\n",
        "Alice went on her eyes\u2014and still running a sort of life.\n",
        "552\n",
        "Alice had put my right ear to touch her.\n",
        "1658\n",
        "Alice more questions about it, and on puzzling question; and, as you see.\u201d\n",
        "319\n",
        "Alice began to itself, and read in a good deal: this morning? I shan\u2019t be sending presents like the book by without knowing what would not, would go back to her: first, perhaps,\u201d said Alice: \u201cbesides, that\u2019s why.\n",
        "1127\n",
        "Alice replied in saying to explain it,\u201d but I almost anything more: at the Mock Turtle replied; \u201cand what would bend about again, to itself, \u201cThen you see, Miss, we\u2019re doing here?\u201d she heard a thing a great hurry.\n",
        "1157\n",
        "Alice found an encouraging opening out of course,\u201d he said the first witness would have you to leave the Dormouse shall!\u201d they arrived, with a scroll of them.\n",
        "855\n",
        "Alice looked down at the Panther were placed along the Caterpillar.\n",
        "1592\n",
        "Alice could hardly know, with fury, and, after a deep, and tried to sell you ever finish, if I haven\u2019t been to her, \u201cif you have been the same height as it in the table, but looked at it, or seemed to see you, won\u2019t you, myself,\u201d the real Mary Ann!\u201d said the other.\n"
       ]
      }
     ],
     "prompt_number": 3
    },
    {
     "cell_type": "code",
     "collapsed": false,
     "input": [],
     "language": "python",
     "metadata": {},
     "outputs": []
    }
   ],
   "metadata": {}
  }
 ]
}