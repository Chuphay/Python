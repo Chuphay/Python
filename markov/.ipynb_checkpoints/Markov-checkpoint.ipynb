{
 "metadata": {
  "name": "",
  "signature": "sha256:e29d54bf58d7c704168e06d39b8ddb4af17d55c9b4c991ea2865bcbf020bee31"
 },
 "nbformat": 3,
 "nbformat_minor": 0,
 "worksheets": [
  {
   "cells": [
    {
     "cell_type": "code",
     "collapsed": false,
     "input": [
      "alice = open(\"text/alice_in_wonderland.txt\").readlines()"
     ],
     "language": "python",
     "metadata": {},
     "outputs": [],
     "prompt_number": 28
    },
    {
     "cell_type": "code",
     "collapsed": false,
     "input": [
      "myDict = {}\n",
      "for j in range(len(alice)):\n",
      "    line = alice[j].strip().split()\n",
      "    for i in range(len(line)-1):\n",
      "        try:\n",
      "            myDict[line[i]].append(line[i+1])\n",
      "        except KeyError:\n",
      "            myDict[line[i]] = [line[i+1]]"
     ],
     "language": "python",
     "metadata": {},
     "outputs": [
      {
       "metadata": {},
       "output_type": "pyout",
       "prompt_number": 29,
       "text": [
        "['in', 'was', 'think', 'started', 'after', 'had', 'to', 'had', 'soon', 'began']"
       ]
      }
     ],
     "prompt_number": 29
    },
    {
     "cell_type": "code",
     "collapsed": false,
     "input": [
      "from random import choice, seed, randint"
     ],
     "language": "python",
     "metadata": {},
     "outputs": [],
     "prompt_number": 30
    },
    {
     "cell_type": "code",
     "collapsed": false,
     "input": [
      "for i in range(10):\n",
      "    myRandSeed = randint(1,2000)\n",
      "    print(myRandSeed)\n",
      "    seed(myRandSeed)\n",
      "    mySentence = [\"Alice\"]\n",
      "    while True:\n",
      "        i = len(mySentence)-1\n",
      "        if(mySentence[i][-1] == \".\"):\n",
      "            break\n",
      "        try:    \n",
      "            nextWord = choice(myDict[mySentence[i]])\n",
      "            mySentence.append(nextWord)\n",
      "        except KeyError:\n",
      "            break\n",
      "\n",
      "    print(\" \".join(mySentence))  "
     ],
     "language": "python",
     "metadata": {},
     "outputs": [
      {
       "output_type": "stream",
       "stream": "stdout",
       "text": [
        "136\n",
        "Alice soon had you know,\u201d the Mock Turtle replied, \u201cToo far, too much right,\u201d said Alice, with great girl she\u2019ll think it as yet you tell what she came running when she began sneezing all the same solemn tone, exactly what was the fire, and they were getting up very slowly, for a good height to others all coming down! I will make me a little.\n",
        "400\n",
        "Alice in one of very hot, she spoke; \u201ceither you must be nothing but there was getting on which changed since her hands, how old thing!\" said the Dodo, a house, I shall sit down,\u201d the guinea-pigs!\u201d thought they used to herself, \u201cbecause I\u2019m a minute or two.\n",
        "671\n",
        "Alice very humbly: \u201cyou know what o\u2019clock in the ground near the air, and so she stretched her in here? Run home this moment, \u201cMy dear! Oh my hair.\u2019\n",
        "1089\n",
        "Alice was peeping anxiously looking at the Duchess! Oh! Won\u2019t she was that a T!\u201d said the King said Alice.\n",
        "1429\n",
        "Alice went on a large again, and punching him into the moment, when it\u2019s a few minutes the country is, that there is that ridiculous fashion.\u201d And it\u2019ll seem to get an Eaglet, and drew the book,\u201d thought Alice, surprised at the roof.\n",
        "504\n",
        "Alice again.\n",
        "1687\n",
        "Alice looked round, she swam slowly back to beautify is, \u2019What?\u2019\u201d\n",
        "1375\n",
        "Alice had meanwhile been found her arm a large letters.\n",
        "1848\n",
        "Alice looked very good deal faster than ever: she thought, and it hasn\u2019t got so he got no business there, at your history, and looked up, and walked a melancholy words: \u201cWhere\u2019s the company generally, \u201cYou know all played at once, she said the other side.\n",
        "861\n",
        "Alice and the Duchess took the garden you know, as if he spoke, but at home,\u201d thought Alice, as well as she ought to invent something!\u201d\n"
       ]
      }
     ],
     "prompt_number": 32
    },
    {
     "cell_type": "code",
     "collapsed": false,
     "input": [],
     "language": "python",
     "metadata": {},
     "outputs": [],
     "prompt_number": 31
    }
   ],
   "metadata": {}
  }
 ]
}