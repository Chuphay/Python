{
 "metadata": {
  "name": "",
  "signature": "sha256:a580497dde7321f3415fd05f26533b88f5529d1f271e4b3bbf14e0f725ca38df"
 },
 "nbformat": 3,
 "nbformat_minor": 0,
 "worksheets": [
  {
   "cells": [
    {
     "cell_type": "code",
     "collapsed": false,
     "input": [
      "alice = open(\"text/alice_in_wonderland.txt\").readlines()"
     ],
     "language": "python",
     "metadata": {},
     "outputs": [],
     "prompt_number": 2
    },
    {
     "cell_type": "code",
     "collapsed": false,
     "input": [
      "myDict = {}\n",
      "for j in range(len(alice)):\n",
      "    line = alice[j].strip().split()\n",
      "    for i in range(len(line)-1):\n",
      "        try:\n",
      "            myDict[line[i]].append(line[i+1])\n",
      "        except KeyError:\n",
      "            myDict[line[i]] = [line[i+1]]\n",
      "myDict['Alice'][:10]"
     ],
     "language": "python",
     "metadata": {},
     "outputs": [
      {
       "metadata": {},
       "output_type": "pyout",
       "prompt_number": 11,
       "text": [
        "['in', 'was', 'think', 'started', 'after', 'had', 'to', 'had', 'soon', 'began']"
       ]
      }
     ],
     "prompt_number": 11
    },
    {
     "cell_type": "code",
     "collapsed": false,
     "input": [
      "from random import choice\n",
      "choice(myDict['Alice'])"
     ],
     "language": "python",
     "metadata": {},
     "outputs": [
      {
       "metadata": {},
       "output_type": "pyout",
       "prompt_number": 13,
       "text": [
        "'heard'"
       ]
      }
     ],
     "prompt_number": 13
    },
    {
     "cell_type": "code",
     "collapsed": false,
     "input": [
      "mySentence = [\"Alice\"]\n",
      "while True:\n",
      "    i = len(mySentence)-1\n",
      "    if(mySentence[i][-1] == \".\"):\n",
      "        break\n",
      "    try:    \n",
      "        nextWord = choice(myDict[mySentence[i]])\n",
      "        mySentence.append(nextWord)\n",
      "    except KeyError:\n",
      "        break\n",
      "\n",
      "\" \".join(mySentence)   "
     ],
     "language": "python",
     "metadata": {},
     "outputs": [
      {
       "metadata": {},
       "output_type": "pyout",
       "prompt_number": 25,
       "text": [
        "'Alice again, for you, Sir, just begun asking riddles\u2014I believe there\u2019s an explanation.'"
       ]
      }
     ],
     "prompt_number": 25
    }
   ],
   "metadata": {}
  }
 ]
}