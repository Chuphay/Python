{
 "metadata": {
  "name": "",
  "signature": "sha256:eafbc022475eab1d68285bf5c74bf441728f90d52d0d650cb57331e9b84012be"
 },
 "nbformat": 3,
 "nbformat_minor": 0,
 "worksheets": [
  {
   "cells": [
    {
     "cell_type": "heading",
     "level": 1,
     "metadata": {},
     "source": [
      "Random Sentence Generator Using Markov Chains"
     ]
    },
    {
     "cell_type": "markdown",
     "metadata": {},
     "source": [
      "In the last few weeks, the idea of making a sentence generator has come up again and again in my life. Mostly, the ideas have revolved around automatically generating sentences that actually communicate some kind of information. But, I think a reasonable first step is to generate sentences that, at least to some extent, resemble real English without worrying about the content of the sentence. I am excited to pursue this project because it is a project that I would want to do in my normal life and because it is a project that I think will reflect many of the things that we are learning here in your class. "
     ]
    },
    {
     "cell_type": "markdown",
     "metadata": {},
     "source": [
      "The basic idea of the project is to read through a variety of text files to generate a matrix of Markov state-transitions. Then after the matrix has been built, we start off with a seed word, and then we use that seed to make a Markov chain of other random words, finally ending when a period is reached. "
     ]
    },
    {
     "cell_type": "markdown",
     "metadata": {},
     "source": [
      "To create a matrix of transitions we begin by reading through a text file. For each word in the text file, we capture the next word, and add that as a possible word to transition to. Perhaps it would be best to see a simple example.\n",
      "\n",
      "Given the sentence: <p style=\"color:red\">The hat is on the rat.</p>\n",
      "\n",
      "We would record the following different transitions:\n",
      "\n",
      "```\n",
      "the: hat, rat\n",
      "hat: is\n",
      "is : on\n",
      "on : the\n",
      "rat: .\n",
      "```\n",
      "\n",
      "These transitions can generate four different possible sentences starting with \"The\":\n",
      "<p style=\"color:red\">The hat is on the rat.</p>\n",
      "<p style=\"color:red\">The hat is on the hat.</p>\n",
      "<p style=\"color:red\">The rat is on the rat.</p>\n",
      "<p style=\"color:red\">The rat is on the hat.</p>\n"
     ]
    },
    {
     "cell_type": "markdown",
     "metadata": {},
     "source": [
      "Below, I have implemented a quick version of this using Python. I will use only one book, <u>Alice in Wonderland</u>, for this. I will then generate a state-transition pseudo-matrix (actually just a hash table for look-ups) with all the possiblities that were in that book."
     ]
    },
    {
     "cell_type": "code",
     "collapsed": false,
     "input": [
      "alice = open(\"text/alice_in_wonderland.txt\").readlines()\n",
      "\n",
      "myDict = {}\n",
      "for j in range(len(alice)):\n",
      "    line = alice[j].strip().split()\n",
      "    for i in range(len(line)-1):\n",
      "        try:\n",
      "            myDict[line[i]].append(line[i+1])\n",
      "        except KeyError:\n",
      "            myDict[line[i]] = [line[i+1]]"
     ],
     "language": "python",
     "metadata": {},
     "outputs": [],
     "prompt_number": 1
    },
    {
     "cell_type": "markdown",
     "metadata": {},
     "source": [
      "After creating the hash table, we can now generate random sentences. In order to have some control over the outcomes, I have included a way to see which seed was used, so that if we get any particularly cool sentences, we will have a way to come back to them.\n",
      "\n",
      "Below, I have generated 10 such sentences."
     ]
    },
    {
     "cell_type": "code",
     "collapsed": false,
     "input": [
      "from random import choice, seed, randint\n",
      "\n",
      "for i in range(10):\n",
      "    myRandSeed = randint(1,2000)\n",
      "    print(myRandSeed)\n",
      "    seed(myRandSeed)\n",
      "    mySentence = [\"Alice\"]\n",
      "    while True:\n",
      "        i = len(mySentence)-1\n",
      "        if(mySentence[i][-1] == \".\"):\n",
      "            break\n",
      "        try:    \n",
      "            nextWord = choice(myDict[mySentence[i]])\n",
      "            mySentence.append(nextWord)\n",
      "        except KeyError:\n",
      "            break\n",
      "\n",
      "    print(\" \".join(mySentence))  "
     ],
     "language": "python",
     "metadata": {},
     "outputs": [
      {
       "output_type": "stream",
       "stream": "stdout",
       "text": [
        "916\n",
        "Alice was standing before that!\u201d said the porpoise, \u2019Keep back, please! We don\u2019t remember her with many more calmly, though she did not like that!\u201d screamed the Mock Turtle with an undertone to guard him; and put back the creature wouldn\u2019t talk nonsense.\n",
        "950\n",
        "Alice called out, and, when she couldn\u2019t cut your tongue, Ma!\u201d said the March Hare.\n",
        "1020\n",
        "Alice went on her eyes\u2014and still running a sort of life.\n",
        "552\n",
        "Alice had put my right ear to touch her.\n",
        "1658\n",
        "Alice more questions about it, and on puzzling question; and, as you see.\u201d\n",
        "319\n",
        "Alice began to itself, and read in a good deal: this morning? I shan\u2019t be sending presents like the book by without knowing what would not, would go back to her: first, perhaps,\u201d said Alice: \u201cbesides, that\u2019s why.\n",
        "1127\n",
        "Alice replied in saying to explain it,\u201d but I almost anything more: at the Mock Turtle replied; \u201cand what would bend about again, to itself, \u201cThen you see, Miss, we\u2019re doing here?\u201d she heard a thing a great hurry.\n",
        "1157\n",
        "Alice found an encouraging opening out of course,\u201d he said the first witness would have you to leave the Dormouse shall!\u201d they arrived, with a scroll of them.\n",
        "855\n",
        "Alice looked down at the Panther were placed along the Caterpillar.\n",
        "1592\n",
        "Alice could hardly know, with fury, and, after a deep, and tried to sell you ever finish, if I haven\u2019t been to her, \u201cif you have been the same height as it in the table, but looked at it, or seemed to see you, won\u2019t you, myself,\u201d the real Mary Ann!\u201d said the other.\n"
       ]
      }
     ],
     "prompt_number": 3
    },
    {
     "cell_type": "markdown",
     "metadata": {},
     "source": [
      "As you can see, none of these sentences actually make any sense... But luckily, this is just the start of the project.\n",
      "\n",
      "My plan is to make this better in two ways. First, I want to run it on much larger data sets. Alice in Wonderland is only a few kilobytes of data. I think if we were to run this on maybe a hundred books or even maybe a thousand books, then we should get better results and still only use a few gigs of memory (Python has access to virtual memory, so in reality memory should never be a problem).\n",
      "\n",
      "Second, and I think this is where a little bit of creativity will come in, what we can do is instead of only looking at the previous one word back, we can instead look at the two words that came previously, or even look at the three words that came before. This immediately sounds like it will give much smoother results than the one-word-look-back method that I am using now. However, what makes this non-trivial is how should the different hash tables be integrated together. (I have some ideas, but I want to wait until I get approval for this project before getting too deep into this problem). In case this was not clear, let me show it with an example:\n",
      "\n",
      "Given the sentence: <p style=\"color:red\">The hat is on the rat.</p>\n",
      "\n",
      "We would record the following different transitions:\n",
      "\n",
      "```\n",
      "the hat: is\n",
      "hat is : on\n",
      "is on  : the\n",
      "on the : rat\n",
      "the rat: .\n",
      "```\n",
      "\n",
      "Looking at the other project ideas in your list, I believe that this project as I have described it will be sufficient for this course. However, if it seems a little too easy, I can think of several ways to extend the project. For example, we could look at some of the most popular transitions that different authors use. Or, We can try to create sentences that reflect only one author, and see if we can find differences between various authors. Or, but this is truly hard, we could try to do my original plan where we actually try to generate sentences that are able to deliver content, i.e., make sure the sentences can answer who, what, where, and when.\n"
     ]
    }
   ],
   "metadata": {}
  }
 ]
}