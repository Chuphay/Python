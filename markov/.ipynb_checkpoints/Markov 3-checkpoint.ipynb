{
 "metadata": {
  "name": "",
  "signature": "sha256:343c2d49a17054d6a8ff37cca81645a96e1dca40527ca48b973401c3ee74b8e9"
 },
 "nbformat": 3,
 "nbformat_minor": 0,
 "worksheets": [
  {
   "cells": [
    {
     "cell_type": "heading",
     "level": 1,
     "metadata": {},
     "source": [
      "Progress Report"
     ]
    },
    {
     "cell_type": "markdown",
     "metadata": {},
     "source": [
      "My project is to use Markov chains to create a random sentence generator.\n",
      "\n",
      "When I first submitted my project proposal, I used a Markov chain that only looked one word back.\n",
      "\n",
      "In the last week I have expanded this so that now the algorithm will look not only one word back, but will look at the two previous words and the three previous words. This has allowed the sentence generator to be much more realistic.\n",
      "\n",
      "First we have to import a few tools:"
     ]
    },
    {
     "cell_type": "code",
     "collapsed": false,
     "input": [
      "from numpy.random import choice\n",
      "import numpy as np\n",
      "%pylab inline\n",
      "from random import seed, randint"
     ],
     "language": "python",
     "metadata": {},
     "outputs": [
      {
       "output_type": "stream",
       "stream": "stdout",
       "text": [
        "Populating the interactive namespace from numpy and matplotlib\n"
       ]
      },
      {
       "output_type": "stream",
       "stream": "stderr",
       "text": [
        "WARNING: pylab import has clobbered these variables: ['randint', 'seed']\n",
        "`%matplotlib` prevents importing * from pylab and numpy\n"
       ]
      }
     ],
     "prompt_number": 9
    },
    {
     "cell_type": "markdown",
     "metadata": {},
     "source": [
      "Next, we open up our example text, \"Alice in Wonderland\". And create three hash tables, one for chains that look back one word at a time, one for chains where we look at the previous two words, and one for chains where we look three words back."
     ]
    },
    {
     "cell_type": "code",
     "collapsed": false,
     "input": [
      "alice = open(\"text/alice_in_wonderland.txt\").readlines()\n",
      "\n",
      "myDict = {}\n",
      "twoDict = {}\n",
      "threeDict = {}\n",
      "for j in range(len(alice)):   \n",
      "    line = alice[j].strip().split()\n",
      "    for i in range(len(line)-1):\n",
      "        try:\n",
      "            myDict[line[i]].append(line[i+1])\n",
      "        except KeyError:\n",
      "            myDict[line[i]] = [line[i+1]]\n",
      "        if(i>0):\n",
      "            try: \n",
      "                twoDict[(line[i-1], line[i])].append(line[i+1])\n",
      "            except KeyError:\n",
      "                twoDict[(line[i-1], line[i])] = [line[i+1]]\n",
      "        if(i>1):\n",
      "            try: \n",
      "                threeDict[(line[i-2], line[i-1], line[i])].append(line[i+1])\n",
      "            except KeyError:\n",
      "                threeDict[(line[i-2], line[i-1], line[i])] = [line[i+1]]        "
     ],
     "language": "python",
     "metadata": {},
     "outputs": [],
     "prompt_number": 10
    },
    {
     "cell_type": "markdown",
     "metadata": {},
     "source": [
      "After generating the hash tables, we are ready to create a few sentences.\n",
      "\n",
      "We must give the algorithm a seed word, after that, the algorithm will stop once it hits a period for the first time (sometimes other errors can occur, and I have made the algorithm break when there is an error as well).\n",
      "\n",
      "I have weighted the words so that chains that look back three words are weighted more heavily then chains that look back only two words, which are weighted more heavily than chains that look back only one word."
     ]
    },
    {
     "cell_type": "code",
     "collapsed": false,
     "input": [
      "for i in range(20):\n",
      "    myRandSeed = randint(1,2000)\n",
      "    print(myRandSeed)\n",
      "    seed(myRandSeed)\n",
      "    mySentence = [\"The\"]\n",
      "    while True:\n",
      "        i = len(mySentence)-1\n",
      "        if(mySentence[i][-1] == \".\"):\n",
      "            if(mySentence[i][-3:] == \"Mr.\"):\n",
      "                pass\n",
      "            else:\n",
      "                break\n",
      "        try: \n",
      "            myChoicesOne = myDict[mySentence[i]]\n",
      "            myChoicesTwo = []\n",
      "            myChoicesThree = []\n",
      "            if i>0:\n",
      "                try:\n",
      "                    myChoicesTwo = twoDict[(mySentence[i-1], mySentence[i])]\n",
      "                except KeyError:\n",
      "                    pass\n",
      "            if i> 1:\n",
      "                try:\n",
      "                    myChoicesThree = threeDict[(mySentence[i-2], mySentence[i-1], mySentence[i])]\n",
      "                except KeyError:\n",
      "                    pass\n",
      "            \n",
      "            myChoices = myChoicesOne + myChoicesTwo + myChoicesThree\n",
      "            prob = np.concatenate((repeat(1,len(myChoicesOne)),repeat(10,len(myChoicesTwo)), repeat(100,len(myChoicesThree))))\n",
      "                \n",
      "            nextWord = choice(myChoices, p = prob/sum(prob))\n",
      "            mySentence.append(nextWord)\n",
      "        except KeyError:\n",
      "            break\n",
      "\n",
      "    print(\" \".join(mySentence))  "
     ],
     "language": "python",
     "metadata": {},
     "outputs": [
      {
       "output_type": "stream",
       "stream": "stdout",
       "text": [
        "805\n",
        "The question is, what did the Dormouse say?\u201d one of the jury asked.\n",
        "1012\n",
        "The Hatter was the first to break the silence.\n",
        "694\n",
        "The White Rabbit put on his spectacles and looked anxiously round, to make out which were the two sides of it;\u2014and, as it turned a corner, \u201cOh my ears and whiskers, how late it\u2019s getting!\u201d She was close behind her, listening: so she went back to the croquet ground.\n",
        "1440\n",
        "The King and Queen of Hearts were seated on their throne when they arrived, with a great crowd assembled about them\u2014all sorts of little birds and beasts, as well as she swam lazily about in the chimney close above her: then, saying to herself, \u201cThis is Bill,\u201d she gave one sharp kick, and waited to see that she had to stop and untwist it.\n",
        "481\n",
        "The Lobster-Quadrille is!\u201d\n",
        "1389\n",
        "The Cat seemed to think this a good opportunity for showing off her knowledge, as there was mouth enough for it to speak with.\n",
        "100\n",
        "The rabbit-hole went straight on like a tunnel for some way, and then dipped suddenly down, so suddenly that Alice had begun to think that there was hardly room to leave off being arches to do this, so that, by the end of the song.\n",
        "299\n",
        "The King turned pale, and shut his eyes.\n",
        "746\n",
        "The Queen\u2019s Croquet Ground\n",
        "868\n",
        "The cook threw a voice she had forgotten the little golden key, and unlocking the whole head appeared, and then nodded.\n",
        "823\n",
        "The Knave shook his head mournfully.\n",
        "689\n",
        "The Lobster-Quadrille is!\u201d\n",
        "1247\n",
        "The Cat only grinned when it saw mine coming!\u201d\n",
        "1586\n",
        "The further off from England the nearer is to France\u2014\n",
        "762\n",
        "The Knave did so, very carefully, with one foot.\n",
        "1969\n",
        "The Queen\u2019s Croquet Ground\n",
        "826\n",
        "The other side of the country is, you know.\n",
        "1134\n",
        "The soldiers were silent, and looked at Alice.\n",
        "96\n",
        "The Footman seemed to think that very few things indeed were really impossible.\n",
        "759\n",
        "The Queen!\u201d and the soldiers had begun to think that there was enough of it hastily, just in time to hear it say, as it turned a corner, \u201cOh my ears and whiskers, how late it\u2019s getting!\u201d She was close behind her, listening: so she went on: \u201cWhat\u2019s your name, child?\u201d\n"
       ]
      }
     ],
     "prompt_number": 7
    },
    {
     "cell_type": "markdown",
     "metadata": {},
     "source": [
      "Up above, you can see sample output from the algorithm.\n",
      "\n",
      "If you look back at my previous attempt while looking only one [back](http://nbviewer.ipython.org/github/Chuphay/python/blob/master/markov/Markov.ipynb) you will see that none of the sentences that were generated could be called a real sentence.\n",
      "\n",
      "But now, we see that there are several sentences that seem quite natural:\n",
      "\n",
      "```\n",
      "The Footman seemed to think that very few things indeed were really impossible.\n",
      "\n",
      "The Knave did so, very carefully, with one foot.\n",
      "\n",
      "The Knave shook his head mournfully.\n",
      "\n",
      "The King turned pale, and shut his eyes.\n",
      "\n",
      "The Hatter was the first to break the silence.\n",
      "```\n",
      "\n",
      "which is a great improvement over the previous algorithm.\n",
      "\n",
      "However, some of the sentences are still quite unintelligible...\n",
      "\n",
      "In the next week, I will add more books to train my algorithm on. I hope that adding more data will help to settle down the algorithm a bit.\n",
      "\n",
      "I have also not had a chance to play with the probabilities of choosing the next word, and I hope that I will have some time to do this as well."
     ]
    }
   ],
   "metadata": {}
  }
 ]
}