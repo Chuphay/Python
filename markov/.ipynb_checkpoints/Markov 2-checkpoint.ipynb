{
 "metadata": {
  "name": "",
  "signature": "sha256:d12dab3a7dc8f52251f0e7dbb16582fdade111b2e39eb1213cdc7ed1095f029e"
 },
 "nbformat": 3,
 "nbformat_minor": 0,
 "worksheets": [
  {
   "cells": [
    {
     "cell_type": "code",
     "collapsed": false,
     "input": [
      "alice = open(\"text/alice_in_wonderland.txt\").readlines()\n",
      "\n",
      "myDict = {}\n",
      "twoDict = {}\n",
      "threeDict = {}\n",
      "for j in range(len(alice)):   \n",
      "    line = alice[j].strip().split()\n",
      "    for i in range(len(line)-1):\n",
      "        try:\n",
      "            myDict[line[i]].append(line[i+1])\n",
      "        except KeyError:\n",
      "            myDict[line[i]] = [line[i+1]]\n",
      "        if(i>0):\n",
      "            try: \n",
      "                twoDict[(line[i-1], line[i])].append(line[i+1])\n",
      "            except KeyError:\n",
      "                twoDict[(line[i-1], line[i])] = [line[i+1]]\n",
      "        if(i>1):\n",
      "            try: \n",
      "                threeDict[(line[i-2], line[i-1], line[i])].append(line[i+1])\n",
      "            except KeyError:\n",
      "                threeDict[(line[i-2], line[i-1], line[i])] = [line[i+1]]        "
     ],
     "language": "python",
     "metadata": {},
     "outputs": [],
     "prompt_number": 65
    },
    {
     "cell_type": "code",
     "collapsed": false,
     "input": [
      "alice = open(\"text/pride_and_prejudice.txt\").readlines()\n",
      "for j in range(len(alice)):   \n",
      "    line = alice[j].strip().split()\n",
      "    for i in range(len(line)-1):\n",
      "        try:\n",
      "            myDict[line[i]].append(line[i+1])\n",
      "        except KeyError:\n",
      "            myDict[line[i]] = [line[i+1]]\n",
      "        if(i>0):\n",
      "            try: \n",
      "                twoDict[(line[i-1], line[i])].append(line[i+1])\n",
      "            except KeyError:\n",
      "                twoDict[(line[i-1], line[i])] = [line[i+1]]\n",
      "        if(i>1):\n",
      "            try: \n",
      "                threeDict[(line[i-2], line[i-1], line[i])].append(line[i+1])\n",
      "            except KeyError:\n",
      "                threeDict[(line[i-2], line[i-1], line[i])] = [line[i+1]]    "
     ],
     "language": "python",
     "metadata": {},
     "outputs": [],
     "prompt_number": 66
    },
    {
     "cell_type": "code",
     "collapsed": false,
     "input": [
      "alice = open(\"text/christmas_carol.txt\").readlines()\n",
      "for j in range(len(alice)):   \n",
      "    line = alice[j].strip().split()\n",
      "    for i in range(len(line)-1):\n",
      "        try:\n",
      "            myDict[line[i]].append(line[i+1])\n",
      "        except KeyError:\n",
      "            myDict[line[i]] = [line[i+1]]\n",
      "        if(i>0):\n",
      "            try: \n",
      "                twoDict[(line[i-1], line[i])].append(line[i+1])\n",
      "            except KeyError:\n",
      "                twoDict[(line[i-1], line[i])] = [line[i+1]]\n",
      "        if(i>1):\n",
      "            try: \n",
      "                threeDict[(line[i-2], line[i-1], line[i])].append(line[i+1])\n",
      "            except KeyError:\n",
      "                threeDict[(line[i-2], line[i-1], line[i])] = [line[i+1]]    "
     ],
     "language": "python",
     "metadata": {},
     "outputs": [],
     "prompt_number": 67
    },
    {
     "cell_type": "code",
     "collapsed": false,
     "input": [
      "alice = open(\"text/clueless.txt\").readlines()\n",
      "for j in range(len(alice)):   \n",
      "    line = alice[j].strip().split()\n",
      "    for i in range(len(line)-1):\n",
      "        try:\n",
      "            myDict[line[i]].append(line[i+1])\n",
      "        except KeyError:\n",
      "            myDict[line[i]] = [line[i+1]]\n",
      "        if(i>0):\n",
      "            try: \n",
      "                twoDict[(line[i-1], line[i])].append(line[i+1])\n",
      "            except KeyError:\n",
      "                twoDict[(line[i-1], line[i])] = [line[i+1]]\n",
      "        if(i>1):\n",
      "            try: \n",
      "                threeDict[(line[i-2], line[i-1], line[i])].append(line[i+1])\n",
      "            except KeyError:\n",
      "                threeDict[(line[i-2], line[i-1], line[i])] = [line[i+1]]  "
     ],
     "language": "python",
     "metadata": {},
     "outputs": [],
     "prompt_number": 68
    },
    {
     "cell_type": "code",
     "collapsed": false,
     "input": [
      "from random import choice, seed, randint\n",
      "\n",
      "for i in range(10):\n",
      "    myRandSeed = randint(1,2000)\n",
      "    print(myRandSeed)\n",
      "    seed(myRandSeed)\n",
      "    mySentence = [\"Alice\"]\n",
      "    while True:\n",
      "        i = len(mySentence)-1\n",
      "        if(mySentence[i][-1] == \".\"):\n",
      "            break\n",
      "        try:    \n",
      "            nextWord = choice(myDict[mySentence[i]])\n",
      "            mySentence.append(nextWord)\n",
      "        except KeyError:\n",
      "            break\n",
      "\n",
      "    print(\" \".join(mySentence))  "
     ],
     "language": "python",
     "metadata": {},
     "outputs": [
      {
       "output_type": "stream",
       "stream": "stdout",
       "text": [
        "613\n",
        "Alice replied Elizabeth, though it very minutely to assist his eldest daughter, to the commendation to make the bright and Peter will do not another on having one despondent poplar, not be fairly conjectured from shrinking rapidly: so generous, to Longbourn.\n",
        "1850\n",
        "Alice timidly.\n",
        "1803\n",
        "Alice was the chin.\n",
        "1992\n",
        "Alice went by, and all handsome.\n",
        "867\n",
        "Alice as it has been written solely from her at every word was conscious smile: \"very true, it right to expect to be no just admitted to open pleasantry.\n",
        "1223\n",
        "Alice began by the road, reached the two meadows; but fifteen shillings on hearing anything so pleasant as it taken, for him altogether Alice sharply, for Darcy professed affection for their turn or her farewell visit; and occasionally laughing as the girls walked beyond the whole party.\n",
        "30\n",
        "Alice looked surprised.\n",
        "1252\n",
        "Alice could see each other.\n",
        "110\n",
        "Alice was to consider how she had lost not married, but slowly all its feet, to the Queen shouted the King replied.\n",
        "1295\n",
        "Alice hastily, \u201cGo on the world go away, I hardly had very suddenly reminded by yourselves? Do let them her entreaty of Elizabeth\u2019s wishes, it is.\u201d\n"
       ]
      }
     ],
     "prompt_number": 69
    },
    {
     "cell_type": "code",
     "collapsed": false,
     "input": [
      "from random import seed, randint\n",
      "from numpy.random import choice\n",
      "import numpy as np\n",
      "\n",
      "for i in range(20):\n",
      "    myRandSeed = randint(1,2000)\n",
      "    print(myRandSeed)\n",
      "    seed(myRandSeed)\n",
      "    mySentence = [\"The\"]\n",
      "    while True:\n",
      "        i = len(mySentence)-1\n",
      "        if(mySentence[i][-1] == \".\"):\n",
      "            if(mySentence[i][-3:] == \"Mr.\"):\n",
      "                pass\n",
      "            else:\n",
      "                break\n",
      "        try: \n",
      "            myChoicesOne = myDict[mySentence[i]]\n",
      "            myChoicesTwo = []\n",
      "            myChoicesThree = []\n",
      "            if i>0:\n",
      "                try:\n",
      "                    myChoicesTwo = twoDict[(mySentence[i-1], mySentence[i])]\n",
      "                except KeyError:\n",
      "                    pass\n",
      "            if i> 1:\n",
      "                try:\n",
      "                    myChoicesThree = threeDict[(mySentence[i-2], mySentence[i-1], mySentence[i])]\n",
      "                except KeyError:\n",
      "                    pass\n",
      "            \n",
      "            myChoices = myChoicesOne + myChoicesTwo + myChoicesThree\n",
      "            prob = np.concatenate((repeat(1,len(myChoicesOne)),repeat(100,len(myChoicesTwo)), repeat(10000,len(myChoicesThree))))\n",
      "                \n",
      "            nextWord = choice(myChoices, p = prob/sum(prob))\n",
      "            mySentence.append(nextWord)\n",
      "        except KeyError:\n",
      "            break\n",
      "\n",
      "    print(\" \".join(mySentence))  "
     ],
     "language": "python",
     "metadata": {},
     "outputs": [
      {
       "output_type": "stream",
       "stream": "stdout",
       "text": [
        "1396\n",
        "The tete-a-tete surprised them.\n",
        "149\n",
        "The united efforts of his name cast a little while, however, she again heard a presumption! And, besides, no traces of them were animals, and some were birds), \u201cI suppose they are the highest opinion of him, and have his library with great pleasure of her being perfectly well; and their conversation, which had a little recovered from the shock of How, When, and I had not known you a month before I felt that I could hear that you, my dearest friend, had any intention of a girl whom he was now determined to leave the regiment, on account of some authority among them, called out, \u201cSit down, all of you, hold your tongues, and through before the fire, my dear, and have a warm, Lord bless ye.\u2019\n",
        "146\n",
        "The Spirit did not tarry here, but bade Scrooge hold his own at last, hey.\u2019"
       ]
      },
      {
       "output_type": "stream",
       "stream": "stdout",
       "text": [
        "\n",
        "274\n",
        "The mention of his description of Jane.\n",
        "296\n",
        "The liberty of the mischance that should bring him where no one intended to finish up last night,\u2019 replied the girl,\u2019 and had come to the meaning of it, rapid and politeness which had produced his activity in seeking her were over, he was the case, neither Jane, to say to me and told me he may do what he likes than Mr. Darcy.\u201d She then would not protest against such a secret!\u201d\n",
        "150\n",
        "The Queen had only one way of thinking.\n",
        "1688\n",
        "The loss of dividing them from each other\u2013of exposing one to the censure of the things that have not happened, but will happen in the beautiful garden among the bright flower-beds and those people! What would I give to hear your strictures on them!\u201d When breakfast was over they were joined by the same ideas, forbore to be the third."
       ]
      },
      {
       "output_type": "stream",
       "stream": "stdout",
       "text": [
        "\n",
        "1493\n",
        "The evening with a very good notion of fingering, though her taste is not to be married; and you shall all repaired, after a few minutes could not speak a master, she considered how unjustly she had ever done; and much as his own; and a sister\u2019s partiality is of returning to work to the satisfaction of seeing her again, I shall speak in the distance, screaming with passion.\n",
        "1658\n",
        "The comfort to her aunt, to request an explanation of what Lydia had dropt, if it were white, but there were but such another man for you!\u201d said the middle of June, Kitty was caught by their easy playfulness.\n",
        "1650\n",
        "The coach, therefore, took them the small summer breakfast parlour at Rosings; a comparison that did not sneeze, were the cook, and a wife and family, talking about a merry Christmas."
       ]
      },
      {
       "output_type": "stream",
       "stream": "stdout",
       "text": [
        "\n",
        "983\n",
        "The Lobster-Quadrille is!\u201d\n",
        "1358\n",
        "The church ought to have had.\n",
        "28\n",
        "The envelope contained a facetious snowball -- better-natured missile far than before, from the river, in the world so irresistibly contagious as laughter and good-humour.\n",
        "232\n",
        "The respect created by the bridle an early day for her approbation.\n",
        "576\n",
        "The panels shrunk, the windows in front of them, with her brother, and keep his sister Gardiner about them directly.\n",
        "1566\n",
        "The clock struck nine.\n",
        "141\n",
        "The family again before she set off for the North, received at first an absolute negative.\n",
        "1060\n",
        "The next day what had passed before any of you; and he spoke, and added, \u201cIt isn\u2019t a letter, after all: it\u2019s a set of the term.\n",
        "502\n",
        "The King\u2019s argument was that anything that had not been of age two years, when he came home again after sailing round the island.\n",
        "1036\n",
        "The two young ladies were summoned from the shrubbery, where this conversation passed, by the defence of some little peculiar vexation.\u201d"
       ]
      },
      {
       "output_type": "stream",
       "stream": "stdout",
       "text": [
        "\n"
       ]
      }
     ],
     "prompt_number": 78
    },
    {
     "cell_type": "code",
     "collapsed": false,
     "input": [
      "from numpy.random import choice\n",
      "import numpy as np\n",
      "%pylab inline"
     ],
     "language": "python",
     "metadata": {},
     "outputs": [
      {
       "output_type": "stream",
       "stream": "stdout",
       "text": [
        "Populating the interactive namespace from numpy and matplotlib\n"
       ]
      },
      {
       "output_type": "stream",
       "stream": "stderr",
       "text": [
        "WARNING: pylab import has clobbered these variables: ['seed', 'randint']\n",
        "`%matplotlib` prevents importing * from pylab and numpy\n"
       ]
      }
     ],
     "prompt_number": 71
    },
    {
     "cell_type": "code",
     "collapsed": false,
     "input": [
      "x = ['a','b','c','d']\n",
      "probs = np.array([1,1,1,3])\n",
      "mean(choice(x,1000,p=probs/sum(probs))=='d')"
     ],
     "language": "python",
     "metadata": {},
     "outputs": [
      {
       "metadata": {},
       "output_type": "pyout",
       "prompt_number": 72,
       "text": [
        "0.47299999999999998"
       ]
      }
     ],
     "prompt_number": 72
    },
    {
     "cell_type": "code",
     "collapsed": false,
     "input": [
      "x = twoDict[('Alice','was')]\n",
      "y = threeDict[('Alice','was','not')]\n",
      "y\n"
     ],
     "language": "python",
     "metadata": {},
     "outputs": [
      {
       "metadata": {},
       "output_type": "pyout",
       "prompt_number": 73,
       "text": [
        "['a', 'going', 'much']"
       ]
      }
     ],
     "prompt_number": 73
    },
    {
     "cell_type": "code",
     "collapsed": false,
     "input": [
      "np.concatenate( (np.repeat('2',4),np.repeat('1',5)))"
     ],
     "language": "python",
     "metadata": {},
     "outputs": [
      {
       "metadata": {},
       "output_type": "pyout",
       "prompt_number": 74,
       "text": [
        "array(['2', '2', '2', '2', '1', '1', '1', '1', '1'], \n",
        "      dtype='<U1')"
       ]
      }
     ],
     "prompt_number": 74
    },
    {
     "cell_type": "code",
     "collapsed": false,
     "input": [],
     "language": "python",
     "metadata": {},
     "outputs": [],
     "prompt_number": 74
    }
   ],
   "metadata": {}
  }
 ]
}