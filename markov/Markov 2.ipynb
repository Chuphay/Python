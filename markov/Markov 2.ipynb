{
 "metadata": {
  "name": "",
  "signature": "sha256:8869df542b3a11b9b86a8fda541f185f5744fb772b67bbe769bf5e89f79d048e"
 },
 "nbformat": 3,
 "nbformat_minor": 0,
 "worksheets": [
  {
   "cells": [
    {
     "cell_type": "code",
     "collapsed": false,
     "input": [
      "alice = open(\"text/alice_in_wonderland.txt\").readlines()\n",
      "\n",
      "myDict = {}\n",
      "twoDict = {}\n",
      "threeDict = {}\n",
      "for j in range(len(alice)):   \n",
      "    line = alice[j].strip().split()\n",
      "    for i in range(len(line)-1):\n",
      "        try:\n",
      "            myDict[line[i]].append(line[i+1])\n",
      "        except KeyError:\n",
      "            myDict[line[i]] = [line[i+1]]\n",
      "        if(i>0):\n",
      "            try: \n",
      "                twoDict[(line[i-1], line[i])].append(line[i+1])\n",
      "            except KeyError:\n",
      "                twoDict[(line[i-1], line[i])] = [line[i+1]]\n",
      "        if(i>1):\n",
      "            try: \n",
      "                threeDict[(line[i-2], line[i-1], line[i])].append(line[i+1])\n",
      "            except KeyError:\n",
      "                threeDict[(line[i-2], line[i-1], line[i])] = [line[i+1]]        "
     ],
     "language": "python",
     "metadata": {},
     "outputs": [],
     "prompt_number": 9
    },
    {
     "cell_type": "code",
     "collapsed": false,
     "input": [
      "alice = open(\"text/pride_and_prejudice.txt\").readlines()\n",
      "for j in range(len(alice)):   \n",
      "    line = alice[j].strip().split()\n",
      "    for i in range(len(line)-1):\n",
      "        try:\n",
      "            myDict[line[i]].append(line[i+1])\n",
      "        except KeyError:\n",
      "            myDict[line[i]] = [line[i+1]]\n",
      "        if(i>0):\n",
      "            try: \n",
      "                twoDict[(line[i-1], line[i])].append(line[i+1])\n",
      "            except KeyError:\n",
      "                twoDict[(line[i-1], line[i])] = [line[i+1]]\n",
      "        if(i>1):\n",
      "            try: \n",
      "                threeDict[(line[i-2], line[i-1], line[i])].append(line[i+1])\n",
      "            except KeyError:\n",
      "                threeDict[(line[i-2], line[i-1], line[i])] = [line[i+1]]    "
     ],
     "language": "python",
     "metadata": {},
     "outputs": [],
     "prompt_number": 2
    },
    {
     "cell_type": "code",
     "collapsed": false,
     "input": [
      "alice = open(\"text/christmas_carol.txt\").readlines()\n",
      "for j in range(len(alice)):   \n",
      "    line = alice[j].strip().split()\n",
      "    for i in range(len(line)-1):\n",
      "        try:\n",
      "            myDict[line[i]].append(line[i+1])\n",
      "        except KeyError:\n",
      "            myDict[line[i]] = [line[i+1]]\n",
      "        if(i>0):\n",
      "            try: \n",
      "                twoDict[(line[i-1], line[i])].append(line[i+1])\n",
      "            except KeyError:\n",
      "                twoDict[(line[i-1], line[i])] = [line[i+1]]\n",
      "        if(i>1):\n",
      "            try: \n",
      "                threeDict[(line[i-2], line[i-1], line[i])].append(line[i+1])\n",
      "            except KeyError:\n",
      "                threeDict[(line[i-2], line[i-1], line[i])] = [line[i+1]]    "
     ],
     "language": "python",
     "metadata": {},
     "outputs": [],
     "prompt_number": 3
    },
    {
     "cell_type": "code",
     "collapsed": false,
     "input": [
      "alice = open(\"text/clueless.txt\").readlines()\n",
      "for j in range(len(alice)):   \n",
      "    line = alice[j].strip().split()\n",
      "    for i in range(len(line)-1):\n",
      "        try:\n",
      "            myDict[line[i]].append(line[i+1])\n",
      "        except KeyError:\n",
      "            myDict[line[i]] = [line[i+1]]\n",
      "        if(i>0):\n",
      "            try: \n",
      "                twoDict[(line[i-1], line[i])].append(line[i+1])\n",
      "            except KeyError:\n",
      "                twoDict[(line[i-1], line[i])] = [line[i+1]]\n",
      "        if(i>1):\n",
      "            try: \n",
      "                threeDict[(line[i-2], line[i-1], line[i])].append(line[i+1])\n",
      "            except KeyError:\n",
      "                threeDict[(line[i-2], line[i-1], line[i])] = [line[i+1]]  "
     ],
     "language": "python",
     "metadata": {},
     "outputs": [],
     "prompt_number": 4
    },
    {
     "cell_type": "code",
     "collapsed": false,
     "input": [
      "from random import choice, seed, randint\n",
      "\n",
      "for i in range(10):\n",
      "    myRandSeed = randint(1,2000)\n",
      "    print(myRandSeed)\n",
      "    seed(myRandSeed)\n",
      "    mySentence = [\"Alice\"]\n",
      "    while True:\n",
      "        i = len(mySentence)-1\n",
      "        if(mySentence[i][-1] == \".\"):\n",
      "            break\n",
      "        try:    \n",
      "            nextWord = choice(myDict[mySentence[i]])\n",
      "            mySentence.append(nextWord)\n",
      "        except KeyError:\n",
      "            break\n",
      "\n",
      "    print(\" \".join(mySentence))  "
     ],
     "language": "python",
     "metadata": {},
     "outputs": [
      {
       "output_type": "stream",
       "stream": "stdout",
       "text": [
        "451\n",
        "Alice was grey.\n",
        "264\n",
        "Alice ventured to you? Mr.\n",
        "1061\n",
        "Alice could not objecting to see your defects of town last extort from her dear Lizzy, you told his sole residuary legatee, his face, I am much what the valley, as you sing,\u201d said Mrs Cratchit to Colonel Forster called \u201cMrs.\n",
        "1727\n",
        "Alice was this neighbourhood for the wishes and round; and sister, and making two or two, to an event takes some passages which he set out what; he said,\u2019 for it, and tea was evident; he sneezes:\n",
        "1577\n",
        "Alice whispered in the town, all three little shrieks, and lying down at the accomplishment of the youngest should happen next.\n",
        "1073\n",
        "Alice crouched down this result from my father when they were usually met with the shade: however, it as his interference, lest she was over, entirely in the room, from that, I consider your sister has been perfect.\n",
        "1214\n",
        "Alice replied the creature, when she expected.\n",
        "881\n",
        "Alice alone in Hertfordshire.\n",
        "1683\n",
        "Alice could possibly reach half so cruelly?\u201d\n",
        "227\n",
        "Alice remarked.\n"
       ]
      }
     ],
     "prompt_number": 5
    },
    {
     "cell_type": "code",
     "collapsed": false,
     "input": [
      "from random import seed, randint\n",
      "from numpy.random import choice\n",
      "import numpy as np\n",
      "\n",
      "for i in range(20):\n",
      "    myRandSeed = randint(1,2000)\n",
      "    print(myRandSeed)\n",
      "    seed(myRandSeed)\n",
      "    mySentence = [\"The\"]\n",
      "    while True:\n",
      "        i = len(mySentence)-1\n",
      "        if(mySentence[i][-1] == \".\"):\n",
      "            if(mySentence[i][-3:] == \"Mr.\"):\n",
      "                pass\n",
      "            else:\n",
      "                break\n",
      "        try: \n",
      "            myChoicesOne = myDict[mySentence[i]]\n",
      "            myChoicesTwo = []\n",
      "            myChoicesThree = []\n",
      "            if i>0:\n",
      "                try:\n",
      "                    myChoicesTwo = twoDict[(mySentence[i-1], mySentence[i])]\n",
      "                except KeyError:\n",
      "                    pass\n",
      "            if i> 1:\n",
      "                try:\n",
      "                    myChoicesThree = threeDict[(mySentence[i-2], mySentence[i-1], mySentence[i])]\n",
      "                except KeyError:\n",
      "                    pass\n",
      "            \n",
      "            myChoices = myChoicesOne + myChoicesTwo + myChoicesThree\n",
      "            prob = np.concatenate((repeat(1,len(myChoicesOne)),repeat(100,len(myChoicesTwo)), repeat(10000,len(myChoicesThree))))\n",
      "                \n",
      "            nextWord = choice(myChoices, p = prob/sum(prob))\n",
      "            mySentence.append(nextWord)\n",
      "        except KeyError:\n",
      "            break\n",
      "\n",
      "    print(\" \".join(mySentence))  "
     ],
     "language": "python",
     "metadata": {},
     "outputs": [
      {
       "output_type": "stream",
       "stream": "stdout",
       "text": [
        "1664\n",
        "The pepper when he pleases!\"\n",
        "1533\n",
        "The Hatter\u2019s remark seemed to her to explain the mistake that it had a very turn-up nose, much more like a snout than a real nose: also its eyes were getting extremely small for I a baby: altogether Alice did not dare to disobey, though she felt sure she had some one to listen to her.\n",
        "1691\n",
        "The Panther took pie-crust, and gravy, and meat,\n",
        "517\n",
        "The Mouse only growled in reply.\n",
        "1664\n",
        "The Queen in the middle of one! There ought to be Number One,\u201d said Alice.\n",
        "1533\n",
        "The only two creatures in the kitchen, that did not sneeze, were the cook, and a large plate came skimming out, straight at the Footman\u2019s head: it just grazed his nose, and broke to pieces against one of the court.\n",
        "1691\n",
        "The White Rabbit.\n",
        "517\n",
        "The next moment she felt a violent blow underneath her chin: it had struck her foot!\n",
        "1664\n",
        "The next witness was the Hatter.\n",
        "1533\n",
        "The Dormouse shook its head impatiently, and walked a little quicker.\n",
        "1691\n",
        "The rabbit-hole went straight on like a tunnel for some way, and then she had to run back into the jury-box, or they would die.\n",
        "517\n",
        "The Queen turned angrily away from him, and said to herself, \u201cwhenever I eat or drink under the circumstances.\n",
        "1664\n",
        "The Queen\u2019s ears\u2014\u201d the Rabbit began.\n",
        "1533\n",
        "The players all played at once, without waiting for the hedgehogs; and in a great hurry to change the subject.\n",
        "1691\n",
        "The miserable Hatter dropped his teacup and bread-and-butter, and then turned to the Mock Turtle, \u201cbut it sounds uncommon nonsense.\u201d\n",
        "517\n",
        "The next moment she felt very lonely and low-spirited.\n",
        "1664\n",
        "The Duchess took no notice of them even when they hit her; and the baby was howling so much already, that it was over at last: \u201cand I do so like that curious song about the whiting!\u201d\n",
        "1533\n",
        "The Definitive Edition (Lewis Carroll, Martin Gardner).\n",
        "1691\n",
        "The next witness was the Duchess\u2019s cook.\n",
        "517\n",
        "The Duchess took no notice of them even when they arrived, with a cart-horse, and expecting every moment to be lost: away went Alice like the wind, and was just in time to see the Hatter instead!\u201d\n"
       ]
      }
     ],
     "prompt_number": 10
    },
    {
     "cell_type": "code",
     "collapsed": false,
     "input": [
      "from numpy.random import choice\n",
      "import numpy as np\n",
      "%pylab inline"
     ],
     "language": "python",
     "metadata": {},
     "outputs": [
      {
       "output_type": "stream",
       "stream": "stdout",
       "text": [
        "Populating the interactive namespace from numpy and matplotlib\n"
       ]
      },
      {
       "output_type": "stream",
       "stream": "stderr",
       "text": [
        "WARNING: pylab import has clobbered these variables: ['seed', 'randint']\n",
        "`%matplotlib` prevents importing * from pylab and numpy\n"
       ]
      }
     ],
     "prompt_number": 7
    },
    {
     "cell_type": "code",
     "collapsed": false,
     "input": [
      "x = ['a','b','c','d']\n",
      "probs = np.array([1,1,1,3])\n",
      "mean(choice(x,1000,p=probs/sum(probs))=='d')"
     ],
     "language": "python",
     "metadata": {},
     "outputs": []
    },
    {
     "cell_type": "code",
     "collapsed": false,
     "input": [
      "x = twoDict[('Alice','was')]\n",
      "y = threeDict[('Alice','was','not')]\n",
      "y\n"
     ],
     "language": "python",
     "metadata": {},
     "outputs": []
    },
    {
     "cell_type": "code",
     "collapsed": false,
     "input": [
      "np.concatenate( (np.repeat('2',4),np.repeat('1',5)))"
     ],
     "language": "python",
     "metadata": {},
     "outputs": []
    },
    {
     "cell_type": "code",
     "collapsed": false,
     "input": [],
     "language": "python",
     "metadata": {},
     "outputs": []
    }
   ],
   "metadata": {}
  }
 ]
}