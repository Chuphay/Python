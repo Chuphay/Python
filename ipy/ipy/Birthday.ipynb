{
 "metadata": {
  "name": ""
 },
 "nbformat": 3,
 "nbformat_minor": 0,
 "worksheets": [
  {
   "cells": [
    {
     "cell_type": "code",
     "collapsed": false,
     "input": [
      "MAX = 100\n",
      "ITER = 10000\n",
      "\n",
      "data = [0 for i in range(MAX)]\n",
      "for i in range(ITER):\n",
      "    for num_people in range(MAX):\n",
      "        people = [randint(1,365) for i in range(num_people)]\n",
      "        if(len(people) != len(set(people))):\n",
      "            data[num_people] += 1\n",
      "        \n",
      "        \n",
      "data = map(lambda x: float(x)/ITER, data)\n",
      "print data[20:40]\n",
      "plot(data);\n"
     ],
     "language": "python",
     "metadata": {},
     "outputs": [
      {
       "output_type": "stream",
       "stream": "stdout",
       "text": [
        "[0.4168, 0.4531, 0.4792, 0.5047, 0.5298, 0.5572, 0.6029, 0.6349, 0.6491, 0.6902, 0.7141, 0.7378, 0.7518, 0.7769, 0.8016, 0.812, 0.8326, 0.8505, 0.8676, 0.8866]\n"
       ]
      },
      {
       "metadata": {},
       "output_type": "display_data",
       "png": "[encoded data removed]",
       "text": [
        "<matplotlib.figure.Figure at 0x435efd0>"
       ]
      }
     ],
     "prompt_number": 47
    },
    {
     "cell_type": "code",
     "collapsed": false,
     "input": [
      "def repeat(times):\n",
      "    \"\"\"Modified from: http://www.artima.com/weblogs/viewpost.jsp?thread=240845\n",
      "    For example:   \n",
      "    \n",
      "    @repeat(1000000)\n",
      "    def getRand():\n",
      "        return np.random.rand(3)\n",
      "    print getRand()\n",
      "    \n",
      "    #should print something like array([0.5,0.5,0.5])\n",
      "    \"\"\"\n",
      "    def wrap(f):\n",
      "        def wrapped_f(*args):\n",
      "            output = f(*args)\n",
      "            for i in range(times-1):\n",
      "                output += f(*args)\n",
      "            return output/float(times)\n",
      "        return wrapped_f\n",
      "    return wrap"
     ],
     "language": "python",
     "metadata": {},
     "outputs": [],
     "prompt_number": 1
    },
    {
     "cell_type": "code",
     "collapsed": false,
     "input": [
      "@repeat(1000000)\n",
      "def getRand():\n",
      "    return np.random.rand(3)\n",
      "print getRand()\n",
      "\n",
      "@repeat(10000)\n",
      "def roll2():\n",
      "    return randint(1,7)+randint(1,7)\n",
      "print roll2()\n",
      "\n",
      "@repeat(10000)\n",
      "def flip_till_heads():\n",
      "    i = 1\n",
      "    while(rand()<0.5):\n",
      "        i += 1\n",
      "    return i\n",
      "print flip_till_heads()"
     ],
     "language": "python",
     "metadata": {},
     "outputs": [
      {
       "output_type": "stream",
       "stream": "stdout",
       "text": [
        "[ 0.50006234  0.49972804  0.50012691]\n",
        "6.9876\n",
        "1.9882\n"
       ]
      }
     ],
     "prompt_number": 3
    }
   ],
   "metadata": {}
  }
 ]
}