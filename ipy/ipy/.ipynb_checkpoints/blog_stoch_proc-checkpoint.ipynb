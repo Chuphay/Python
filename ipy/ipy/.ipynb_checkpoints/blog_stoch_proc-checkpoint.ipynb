{
 "metadata": {
  "name": ""
 },
 "nbformat": 3,
 "nbformat_minor": 0,
 "worksheets": [
  {
   "cells": [
    {
     "cell_type": "markdown",
     "metadata": {},
     "source": [
      "http://www2.isye.gatech.edu/people/faculty/Alex_Shapiro/TutorialSP.pdf\n",
      "\n",
      "Stochastic programming is an approach for modeling optimization problems that involve uncertainity. Whereas deterministic optimization  problems are formulated with known parameters, real world problems almost invariably include parameters which are unknown at the time a decision should be made. Often these models apply to settings in which decisions are made repeatedly in essentially the same circumstances, and the objective is to come up with a decision that will perform well on average. An example would be designing truck routes for daily milk delivery to customers with random demand. Here probability distributions (e.g., of demand) could be estimated from data that have been collected over time.\n",
      "\n",
      "Stochastic programming can also be applied in a setting in which a one-o\ufb00 decision must be made. Here an example would be the construction of an investment portfolio to maximize return. Like the milk delivery example, probability distributions of the returns on the \ufb01nancial instruments being considered are assumed to be known, but in the absence of data from future periods, these distributions will have to be elicited from some accompanying model, which in its simplest form might derive solely from the prior beliefs of the decision maker. Another complication in this setting is the choice of objective function: maximizing expected return becomes less justi\ufb01able when the decision is to be made once only, and the decision-maker\u2019s attitude to risk then becomes important.\n",
      "\n",
      "The most widely applied and studied stochastic programming models are two-stage (linear) programs. Here the decision maker takes some action in the \ufb01rst stage, after which a random event occurs a\ufb00ecting the outcome of the \ufb01rst-stage decision. A recourse decision can then be made in the second stage that compensates for any bad e\ufb00ects that might have been experienced as a result of the \ufb01rst-stage decision. The optimal policy from such a model is a single \ufb01rst-stage decision and a collection of recourse decisions (a decision rule) de\ufb01ning which second-stage action should be taken in response to each random outcome. As an introductory example we discuss below the classical inventory model.\n",
      "\n",
      "<b>Example 1 (Inventory model)</b> Suppose that a company has to decide an order quantity $x$ of a certain product to satisfy demand $d$. The cost of ordering is $c > 0$ per unit. If the demand d is bigger than $x$, then a back order penalty of $b \u2265 0$ per unit is incurred. The cost\n",
      "of this is equal to $b(d \u2212 x)$ if $d > x$, and is zero otherwise. On the other hand if $d < x$, then a holding cost of $h(x \u2212 d) \u2265 0$ is incurred. The total cost is then\n",
      "\n",
      "$$G(x, d) = cx + b[d \u2212 x]_+ + h[x \u2212 d]_+, $$\n",
      "\n",
      "where $[a]_+$ denotes the maximum of $a$ and $0$. We assume that $b > c$, i.e., the back order cost is bigger than the ordering cost. We will treat $x$ and $d$ as continuous (real valued) variables rather than integers. This will simplify the presentation and makes sense in various\n",
      "situations.\n",
      "\n",
      "The objective is to minimize the total cost G(x, d). Here x is the decision variable and the\n",
      "demand d is a parameter. Therefore, if the demand is known, the corresponding optimization\n",
      "problem can be formulated in the form\n",
      "min\n",
      "x\u22650\n",
      "G(x, d). (1.2)\n",
      "The nonnegativity constraint x \u2265 0 can be removed if a back order policy is allowed. The\n",
      "objective function G(x, d) can be rewritten as\n",
      "G(x, d) = max \u0001\n",
      "(c \u2212 b)x + bd,(c + h)x \u2212 hd\n",
      ", (1.3)\n",
      "which is piecewise linear with a minimum attained at \u00afx = d. That is, if the demand d is\n",
      "known, then (no surprises) the best decision is to order exactly the demand quantity d.\n",
      "\n"
     ]
    },
    {
     "cell_type": "code",
     "collapsed": false,
     "input": [],
     "language": "python",
     "metadata": {},
     "outputs": []
    }
   ],
   "metadata": {}
  }
 ]
}