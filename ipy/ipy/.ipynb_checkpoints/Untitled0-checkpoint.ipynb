{
 "metadata": {
  "name": ""
 },
 "nbformat": 3,
 "nbformat_minor": 0,
 "worksheets": [
  {
   "cells": [
    {
     "cell_type": "code",
     "collapsed": false,
     "input": [
      "from pandas import read_csv\n",
      "#df = read_csv(\"ex1data1.txt\",header=None)\n",
      "#df.columns = ['population','profit']\n",
      "df = read_csv(\"ex1data1.txt\",names=['population','profit'])\n",
      "df.head()"
     ],
     "language": "python",
     "metadata": {},
     "outputs": [
      {
       "html": [
        "<div style=\"max-height:1000px;max-width:1500px;overflow:auto;\">\n",
        "<table border=\"1\" class=\"dataframe\">\n",
        "  <thead>\n",
        "    <tr style=\"text-align: right;\">\n",
        "      <th></th>\n",
        "      <th>population</th>\n",
        "      <th>profit</th>\n",
        "    </tr>\n",
        "  </thead>\n",
        "  <tbody>\n",
        "    <tr>\n",
        "      <th>0</th>\n",
        "      <td> 6.1101</td>\n",
        "      <td> 17.5920</td>\n",
        "    </tr>\n",
        "    <tr>\n",
        "      <th>1</th>\n",
        "      <td> 5.5277</td>\n",
        "      <td>  9.1302</td>\n",
        "    </tr>\n",
        "    <tr>\n",
        "      <th>2</th>\n",
        "      <td> 8.5186</td>\n",
        "      <td> 13.6620</td>\n",
        "    </tr>\n",
        "    <tr>\n",
        "      <th>3</th>\n",
        "      <td> 7.0032</td>\n",
        "      <td> 11.8540</td>\n",
        "    </tr>\n",
        "    <tr>\n",
        "      <th>4</th>\n",
        "      <td> 5.8598</td>\n",
        "      <td>  6.8233</td>\n",
        "    </tr>\n",
        "  </tbody>\n",
        "</table>\n",
        "<p>5 rows \u00d7 2 columns</p>\n",
        "</div>"
       ],
       "metadata": {},
       "output_type": "pyout",
       "prompt_number": 134,
       "text": [
        "   population   profit\n",
        "0      6.1101  17.5920\n",
        "1      5.5277   9.1302\n",
        "2      8.5186  13.6620\n",
        "3      7.0032  11.8540\n",
        "4      5.8598   6.8233\n",
        "\n",
        "[5 rows x 2 columns]"
       ]
      }
     ],
     "prompt_number": 134
    },
    {
     "cell_type": "code",
     "collapsed": false,
     "input": [
      "plot(df['population'],df['profit'],'rx')\n",
      "xlabel('population'), ylabel('profit'), xlim(4,25)\n",
      "       \n"
     ],
     "language": "python",
     "metadata": {},
     "outputs": [
      {
       "metadata": {},
       "output_type": "pyout",
       "prompt_number": 62,
       "text": [
        "(<matplotlib.text.Text at 0x5ef86d0>,\n",
        " <matplotlib.text.Text at 0x691e490>,\n",
        " (4, 25))"
       ]
      },
      {
       "metadata": {},
       "output_type": "display_data",
       "png": "[encoded data removed]",
       "text": [
        "<matplotlib.figure.Figure at 0x68fb790>"
       ]
      }
     ],
     "prompt_number": 62
    },
    {
     "cell_type": "code",
     "collapsed": false,
     "input": [
      "J = lambda theta,x,y: sum((theta[0]+theta[1]*x-y)**2)/(2*len(x))\n",
      "\n",
      "J([0,0],df['population'],df['profit'])"
     ],
     "language": "python",
     "metadata": {},
     "outputs": [
      {
       "metadata": {},
       "output_type": "pyout",
       "prompt_number": 55,
       "text": [
        "32.072733877455654"
       ]
      }
     ],
     "prompt_number": 55
    },
    {
     "cell_type": "code",
     "collapsed": false,
     "input": [
      "from scipy.optimize import minimize\n",
      "result = minimize(J,[2,1],args=(df['population'],df['profit'])) \n",
      "result"
     ],
     "language": "python",
     "metadata": {},
     "outputs": [
      {
       "metadata": {},
       "output_type": "pyout",
       "prompt_number": 72,
       "text": [
        "   status: 0\n",
        "  success: True\n",
        "     njev: 6\n",
        "     nfev: 24\n",
        " hess_inv: array([[ 5.49225192, -0.55053449],\n",
        "       [-0.55053449,  0.06746911]])\n",
        "      fun: 4.476971375975709\n",
        "        x: array([-3.8957833 ,  1.19303388])\n",
        "  message: 'Optimization terminated successfully.'\n",
        "      jac: array([ -1.78813934e-07,   5.96046448e-07])"
       ]
      }
     ],
     "prompt_number": 72
    },
    {
     "cell_type": "code",
     "collapsed": false,
     "input": [
      "x = linspace(5,25,10)\n",
      "plot(x,result['x'][0]+result['x'][1]*x,label = 'linear regression')\n",
      "plot(df['population'],df['profit'],'rx',label = 'training data')\n",
      "xlabel('population'), ylabel('profit'), xlim(4,25), legend(loc=4)\n",
      "show()"
     ],
     "language": "python",
     "metadata": {},
     "outputs": [
      {
       "metadata": {},
       "output_type": "display_data",
       "png": "[encoded data removed]",
       "text": [
        "<matplotlib.figure.Figure at 0x758e6d0>"
       ]
      }
     ],
     "prompt_number": 81
    }
   ],
   "metadata": {}
  }
 ]
}