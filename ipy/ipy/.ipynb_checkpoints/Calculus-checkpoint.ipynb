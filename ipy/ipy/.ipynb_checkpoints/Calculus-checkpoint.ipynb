{
 "metadata": {
  "name": ""
 },
 "nbformat": 3,
 "nbformat_minor": 0,
 "worksheets": [
  {
   "cells": [
    {
     "cell_type": "code",
     "collapsed": false,
     "input": [
      "#from: https://mail.python.org/pipermail/edu-sig/2003-March/002757.html\n",
      "def D(f,h=1e-3):\n",
      "     \"\"\"\n",
      "     Return derivative of function f (also a function)\n",
      "     \"\"\"\n",
      "     def df(x):\n",
      "         deriv=(f(x+h)-f(x))/h\n",
      "         return round(deriv,3)\n",
      "     return df\n",
      "    \n",
      "def I(f,h=1e-3):\n",
      "     \"\"\"\n",
      "     Return definite integral function\n",
      "     \"\"\"\n",
      "     def intf(b,a=0):\n",
      "         sum=0\n",
      "         x = a\n",
      "         while x<=b:                    # keep accumulating\n",
      "             sum += h*(f(x+h)+f(x))/2.0 # area of rectangle\n",
      "             x += h\n",
      "         return round(sum,3)\n",
      "     return intf\n",
      "        \n",
      "from scipy import special, integrate\n",
      "result = integrate.quad(lambda x: special.jv(2.5,x), 0, 4.5)\n",
      "print result\n",
      "\n",
      "def g(x): return x*x\n",
      "dd = D(g)\n",
      "\n",
      "\n",
      "\n"
     ],
     "language": "python",
     "metadata": {},
     "outputs": [
      {
       "output_type": "stream",
       "stream": "stdout",
       "text": [
        "(1.1178179380783249, 7.866317182537226e-09)\n"
       ]
      }
     ],
     "prompt_number": 2
    }
   ],
   "metadata": {}
  }
 ]
}