{
 "metadata": {
  "name": ""
 },
 "nbformat": 3,
 "nbformat_minor": 0,
 "worksheets": [
  {
   "cells": [
    {
     "cell_type": "code",
     "collapsed": false,
     "input": [
      "print \"hello world!\"\n",
      "import matplotlib as plt\n",
      "import numpy as np\n",
      "import pylab\n",
      "rand = [np.random.random_integers(20) for i in range(30)]\n",
      "pylab.plot(rand) \n",
      "pylab.show()"
     ],
     "language": "python",
     "metadata": {},
     "outputs": [
      {
       "output_type": "stream",
       "stream": "stdout",
       "text": [
        "hello world!\n"
       ]
      }
     ],
     "prompt_number": 1
    },
    {
     "cell_type": "code",
     "collapsed": false,
     "input": [
      "from scipy import *\n",
      "from scipy.special import jn, jn_zeros\n",
      "def drumhead_height(n, k, distance, angle, t):\n",
      "    nth_zero = jn_zeros(n, k)\n",
      "    return cos(t)*cos(n*angle)*jn(n, distance*nth_zero)\n",
      "theta = r_[0:2*pi:50j]\n",
      "radius = r_[0:1:50j]\n",
      "x = array([r*cos(theta) for r in radius])\n",
      "y = array([r*sin(theta) for r in radius])\n",
      "z = array([drumhead_height(1, 1, r, theta, 0.5) for r in radius])\n",
      "import pylab\n",
      "from mpl_toolkits.mplot3d import Axes3D\n",
      "from matplotlib import cm\n",
      "fig = pylab.figure()\n",
      "ax = Axes3D(fig)\n",
      "ax.plot_surface(x, y, z, rstride=1, cstride=1, cmap=cm.jet)\n",
      "ax.set_xlabel('X')\n",
      "ax.set_ylabel('Y')\n",
      "ax.set_zlabel('Z')\n",
      "pylab.show()"
     ],
     "language": "python",
     "metadata": {},
     "outputs": [],
     "prompt_number": 2
    },
    {
     "cell_type": "code",
     "collapsed": true,
     "input": [],
     "language": "python",
     "metadata": {},
     "outputs": []
    }
   ],
   "metadata": {}
  }
 ]
}