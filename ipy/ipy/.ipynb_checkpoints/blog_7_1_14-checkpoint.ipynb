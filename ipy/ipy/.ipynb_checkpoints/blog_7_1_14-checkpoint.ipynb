{
 "metadata": {
  "name": ""
 },
 "nbformat": 3,
 "nbformat_minor": 0,
 "worksheets": [
  {
   "cells": [
    {
     "cell_type": "code",
     "collapsed": false,
     "input": [
      "data = []\n",
      "for i in range(11):\n",
      "    data.append([0,1])\n",
      "    data.append([i,i])\n",
      "    #plot(i);\n",
      "    print i\n",
      "    \n",
      "#data = [i for i in range(10)]\n",
      "data = array(data)\n",
      "#print data\n",
      "#plot([0,1,0,1],[1,1,2,2])\n",
      "#data=[[1, 1], [2, 3],  [2, 2], [4, 5],[5, 5], [6, 7]]\n",
      "plot(*data)"
     ],
     "language": "python",
     "metadata": {},
     "outputs": [
      {
       "output_type": "stream",
       "stream": "stdout",
       "text": [
        "0\n",
        "1\n",
        "2\n",
        "3\n",
        "4\n",
        "5\n",
        "6\n",
        "7\n",
        "8\n",
        "9\n",
        "10\n"
       ]
      },
      {
       "metadata": {},
       "output_type": "pyout",
       "prompt_number": 27,
       "text": [
        "[<matplotlib.lines.Line2D at 0x83d44f0>,\n",
        " <matplotlib.lines.Line2D at 0x8814590>,\n",
        " <matplotlib.lines.Line2D at 0x8814970>]"
       ]
      },
      {
       "metadata": {},
       "output_type": "display_data",
       "png": "[encoded data removed]",
       "text": [
        "<matplotlib.figure.Figure at 0x83d4670>"
       ]
      }
     ],
     "prompt_number": 27
    },
    {
     "cell_type": "code",
     "collapsed": false,
     "input": [],
     "language": "python",
     "metadata": {},
     "outputs": []
    }
   ],
   "metadata": {}
  }
 ]
}