{
 "metadata": {
  "name": ""
 },
 "nbformat": 3,
 "nbformat_minor": 0,
 "worksheets": [
  {
   "cells": [
    {
     "cell_type": "markdown",
     "metadata": {},
     "source": [
      "$a_i^{(j)} = $ \"activation\" of unit $i$ in layer $j$\n",
      "\n",
      "$\\Theta^{(j)} = $ matrix of weights controlling function mapping from layer $j$ to layer $j+1$"
     ]
    },
    {
     "cell_type": "markdown",
     "metadata": {},
     "source": [
      "$$a_1^{(2)} = g(\\Theta_{10}^{(1)}x_0 + \\Theta_{11}^{(1)}x_1 + \\Theta_{12}^{(1)}x_2 + \\Theta_{13}^{(1)}x_3)$$\n",
      "\n",
      "$$a_2^{(2)} = g(\\Theta_{20}^{(1)}x_0 + \\Theta_{21}^{(1)}x_1 + \\Theta_{22}^{(1)}x_2 + \\Theta_{23}^{(1)}x_3)$$\n",
      "\n",
      "$$a_3^{(2)} = g(\\Theta_{20}^{(1)}x_0 + \\Theta_{31}^{(1)}x_1 + \\Theta_{32}^{(1)}x_2 + \\Theta_{33}^{(1)}x_3)$$\n",
      "\n",
      "$$h_{\\theta}(x) = a_1^{(2)} = g(\\Theta_{10}^{(2)}a_0^{(2)} + \\Theta_{11}^{(2)}a_1^{(2)} + \\Theta_{12}^{(2)}a_2^{(2)} + \\Theta_{13}^{(2)}a_3^{(2)})$$"
     ]
    },
    {
     "cell_type": "markdown",
     "metadata": {},
     "source": [
      "If network has $s_j$ units in layer $j$, $s_{j+1}$ units in $j+1$, then $\\Theta^{(j)}$ will be of dimension $s_{j+1} \\times (s_j+1)$.   "
     ]
    },
    {
     "cell_type": "code",
     "collapsed": false,
     "input": [
      "g = lambda x: 1/(1+exp(-x))\n",
      "x = array([[1,0,0],[1,0,1],[1,1,0],[1,1,1]])\n",
      "\n",
      "h_OR = array([-200,300,300]) #returns [0,1,1,1] by means of g(h_OR.dot(x.T))\n",
      "h_AND = array([-300,200,200]) #returns [0,0,0,1]\n",
      "#h_NOR = array([200,-300,-300]) #returns [1,0,0,0]\n",
      "#h_NAND = array([300,-200,-200]) #returns [1,1,1,0]\n",
      "\n",
      "print g(h_OR.dot(concatenate((ones((1,4)),g(array([h_AND,-h_OR]).dot(x.T))),axis=0))) #XNOR returns [1,0,0,1]\n",
      "\n",
      "print g(h_AND.dot(concatenate((ones((1,4)),g(array([h_OR,-h_AND]).dot(x.T))),axis=0))) #XOR returns [0,1,1,0]\n",
      "\n",
      "#I'm not sure if the following commands are useful, but I thought I'd include them for completeness\n",
      "h_YES = array([100,100,100]) #returns [1,1,1,1] \n",
      "#h_NO = array([-100,-100,-100]) #returns [0,0,0,0] \n",
      "h_GET2 = array([-200,-200 ,300]) #returns [0,1,0,0] \n",
      "h_GET3 = array([-200,300,-200]) #returns [0,0,1,0]\n",
      "\n",
      "print g(h_AND.dot(concatenate((ones((1,4)),g(array([h_OR,-h_AND]).dot(\\\n",
      "        concatenate((ones((1,4)),g(array([h_GET3,-h_AND]).dot(x.T))),axis=0)))),axis=0)))  #returns [1,1,0,0]\n",
      "\n",
      "print g(-h_AND.dot(concatenate((ones((1,4)),g(array([h_OR,-h_AND]).dot(\\\n",
      "        concatenate((ones((1,4)),g(array([h_GET3,-h_AND]).dot(x.T))),axis=0)))),axis=0)))  #returns [0,0,1,1]\n",
      "\n",
      "print g(h_AND.dot(concatenate((ones((1,4)),g(array([h_OR,-h_AND]).dot(\\\n",
      "        concatenate((ones((1,4)),g(array([h_GET2,-h_AND]).dot(x.T))),axis=0)))),axis=0))) #returns [1,0,1,0]\n",
      "\n",
      "print g(-h_AND.dot(concatenate((ones((1,4)),g(array([h_OR,-h_AND]).dot(\\\n",
      "        concatenate((ones((1,4)),g(array([h_GET2,-h_AND]).dot(x.T))),axis=0)))),axis=0))) #returns [0,1,0,1]\n",
      "\n",
      "print g(h_AND.dot(concatenate((ones((1,4)),g(array([h_YES,-h_GET3]).dot(x.T))),axis=0))) #returns [1,1,0,1]\n",
      "\n",
      "print g(h_AND.dot(concatenate((ones((1,4)),g(array([h_YES,-h_GET2]).dot(x.T))),axis=0))) #returns [1,0,1,1]"
     ],
     "language": "python",
     "metadata": {},
     "outputs": [
      {
       "output_type": "stream",
       "stream": "stdout",
       "text": [
        "[  1.00000000e+00   1.38389653e-87   1.38389653e-87   1.00000000e+00]\n",
        "[  3.72007598e-44   1.00000000e+00   1.00000000e+00   3.72007598e-44]\n",
        "[  1.00000000e+00   1.00000000e+00   3.72007598e-44   3.72007598e-44]\n",
        "[  3.72007598e-44   3.72007598e-44   1.00000000e+00   1.00000000e+00]\n",
        "[  1.00000000e+00   3.72007598e-44   1.00000000e+00   3.72007598e-44]\n",
        "[  3.72007598e-44   1.00000000e+00   3.72007598e-44   1.00000000e+00]\n",
        "[  1.00000000e+00   1.00000000e+00   3.72007598e-44   1.00000000e+00]\n",
        "[  1.00000000e+00   3.72007598e-44   1.00000000e+00   1.00000000e+00]\n"
       ]
      }
     ],
     "prompt_number": 26
    },
    {
     "cell_type": "heading",
     "level": 4,
     "metadata": {},
     "source": [
      "Multiclass Classification"
     ]
    },
    {
     "cell_type": "markdown",
     "metadata": {},
     "source": [
      "when A we want $h_\\Theta(x) \\approx \\begin{bmatrix}1  \\\\ 0 \\\\0\\\\0\\end{bmatrix}$ \n",
      "\n",
      "when B we want $h_\\Theta(x) \\approx \\begin{bmatrix}0 \\\\ 1 \\\\0\\\\0\\end{bmatrix}$\n",
      "\n",
      "when C we want $h_\\Theta(x) \\approx \\begin{bmatrix}0 \\\\ 0 \\\\1\\\\0\\end{bmatrix}$\n",
      "\n",
      "when D we want $h_\\Theta(x) \\approx \\begin{bmatrix}0 \\\\ 0 \\\\1\\\\0\\end{bmatrix}$\n",
      "\n",
      "Training set: $(x^{(1)},y^{(1)}),(x^{(2)},y^{(2)}),...,(x^{(m)},y^{(m)})$\n",
      "\n",
      "where $y^{(1)}$ is A = $\\begin{bmatrix}1\\\\0\\\\0\\\\0\\end{bmatrix}$,  etc."
     ]
    },
    {
     "cell_type": "code",
     "collapsed": false,
     "input": [
      "class Neuron(object):\n",
      "\n",
      "    def __init__(self):\n",
      "        self.theta = []\n",
      "        self.inputs = []\n",
      "        self.x = []\n",
      "    def give_input(self,array):\n",
      "        \"\"\"takes data like: array([[0,0,1,1],[0,1,0,1]])\"\"\"\n",
      "        self.inputs = array\n",
      "        self.x = concatenate((ones((1,array.shape[1])),array),axis=0)\n",
      "    def set_theta(self,matrix):\n",
      "        self.theta = matrix\n",
      "    def get_output(self):\n",
      "        g = lambda x: 1/(1+exp(-x))\n",
      "        return g(dot(self.theta,self.x))\n",
      "    def grad_desc(self,y,alpha = 100,descend = 10):\n",
      "        \"\"\"assumes y in the form myAnd=array([0,0,0,1])\"\"\"            \n",
      "        for i in range(descend):\n",
      "            self.theta = self.theta- alpha*((1/(1+exp(-self.theta.dot(self.x)))-y)*self.x).sum(axis=1)\n",
      "        return theta\n",
      "\n",
      "    \n",
      "\n",
      "\n",
      "h_OR = array([[-200,300,300]])    \n",
      "h_AND = array([[-300,200,200]])    \n",
      "n = Neuron()\n",
      "n.give_input(array([[0,0,1,1],[0,1,0,1]]))\n",
      "n.set_theta(h_AND)\n",
      "n.get_output()\n"
     ],
     "language": "python",
     "metadata": {},
     "outputs": [
      {
       "metadata": {},
       "output_type": "pyout",
       "prompt_number": 45,
       "text": [
        "array([[  5.14820022e-131,   3.72007598e-044,   3.72007598e-044,\n",
        "          1.00000000e+000]])"
       ]
      }
     ],
     "prompt_number": 45
    },
    {
     "cell_type": "code",
     "collapsed": false,
     "input": [
      "n = Neuron()\n",
      "n.give_input(array([[0,0,1,1],[0,1,0,1]]))\n",
      "test_example = array([[0,0,0,1]])\n",
      "n.set_theta(array([[1,1,1]]))\n",
      "\n",
      "print 'output %s with theta = %s' %(n.get_output(),n.theta)\n",
      "\n",
      "z = n.grad_desc(test_example)\n",
      "print 'output %s with theta = %s' %(n.get_output(),n.theta)\n"
     ],
     "language": "python",
     "metadata": {},
     "outputs": [
      {
       "output_type": "stream",
       "stream": "stdout",
       "text": [
        "output [[ 0.73105858  0.88079708  0.88079708  0.95257413]] with theta = [[1 1 1]]\n",
        "output [[  4.66540530e-63   5.87798776e-12   5.87798776e-12   1.00000000e+00]] with theta = [[-143.52268615  117.66287952  117.66287952]]\n"
       ]
      }
     ],
     "prompt_number": 46
    },
    {
     "cell_type": "markdown",
     "metadata": {},
     "source": [
      "Now let's try to do XOR\n",
      "\n",
      "First without gradient descent"
     ]
    },
    {
     "cell_type": "code",
     "collapsed": false,
     "input": [
      "class Network(object):\n",
      "    def __init__(self):\n",
      "        self.n11 = Neuron()\n",
      "        self.n12 = Neuron()\n",
      "        self.n2 = Neuron()\n",
      "    def give_input(self,matrix):\n",
      "        self.n11.give_input(array([[0,0,1,1],[0,1,0,1]]))\n",
      "        self.n11.set_theta(-h_AND)\n",
      "        self.n12.give_input(array([[0,0,1,1],[0,1,0,1]]))\n",
      "        self.n12.set_theta(h_OR)\n",
      "        out11 = self.n11.get_output()\n",
      "        out12 = self.n12.get_output()\n",
      "        self.n2.give_input(concatenate((out11,out12),axis =0))\n",
      "        self.n2.set_theta(h_AND)\n",
      "    def get_output(self):\n",
      "        return self.n2.get_output()\n",
      "    def set_theta(self,matrix):\n",
      "        pass\n",
      "\n",
      "n11 = Neuron()\n",
      "n12 = Neuron()\n",
      "n2 = Neuron()\n",
      "\n",
      "h_OR = array([[-200,300,300]])    \n",
      "h_AND = array([[-300,200,200]])    \n",
      "\n",
      "\n",
      "n11.give_input(array([[0,0,1,1],[0,1,0,1]]))\n",
      "n11.set_theta(-h_AND)\n",
      "n12.give_input(array([[0,0,1,1],[0,1,0,1]]))\n",
      "n12.set_theta(h_OR)\n",
      "print n11.get_output(), n12.get_output()\n",
      "\n",
      "out11 = n11.get_output()\n",
      "out12 = n12.get_output()\n",
      "\n",
      "print concatenate((out11,out12),axis =0)\n",
      "\n",
      "n2.give_input(concatenate((out11,out12),axis =0))\n",
      "n2.set_theta(h_AND)\n",
      "print n2.get_output()\n",
      " \n",
      "net = Network()\n",
      "net.give_input(array([[0,0,1,1],[0,1,0,1]]))\n",
      "print net.get_output()\n",
      "#print g(h_OR.dot(concatenate((ones((1,4)),g(array([h_AND,-h_OR]).dot(x.T))),axis=0))) #XNOR returns [1,0,0,1]\n",
      "\n",
      "#print g(h_AND.dot(concatenate((ones((1,4)),g(array([h_OR,-h_AND]).dot(x.T))),axis=0))) #XOR returns [0,1,1,0]"
     ],
     "language": "python",
     "metadata": {},
     "outputs": [
      {
       "output_type": "stream",
       "stream": "stdout",
       "text": [
        "[[  1.00000000e+00   1.00000000e+00   1.00000000e+00   3.72007598e-44]] [[  1.38389653e-87   1.00000000e+00   1.00000000e+00   1.00000000e+00]]\n",
        "[[  1.00000000e+00   1.00000000e+00   1.00000000e+00   3.72007598e-44]\n",
        " [  1.38389653e-87   1.00000000e+00   1.00000000e+00   1.00000000e+00]]\n",
        "[[  3.72007598e-44   1.00000000e+00   1.00000000e+00   3.72007598e-44]]\n",
        "[[  3.72007598e-44   1.00000000e+00   1.00000000e+00   3.72007598e-44]]\n"
       ]
      }
     ],
     "prompt_number": 64
    },
    {
     "cell_type": "code",
     "collapsed": false,
     "input": [
      "class Network(object):\n",
      "    def __init__(self,shape):\n",
      "        \"\"\"shape should be like (2,1)\"\"\"\n",
      "        self.shape = shape\n",
      "        self.neurons = [0 for i in range(len(self.shape))]\n",
      "        for i in range(len(self.shape)):\n",
      "            self.neurons[i] = [0 for j in range(self.shape[i])]\n",
      "            for j in range(self.shape[i]):\n",
      "                self.neurons[i][j] = Neuron()\n",
      "\n",
      "    def give_input(self,matrix):\n",
      "        self.neurons[0][0].give_input(array([[0,0,1,1],[0,1,0,1]]))\n",
      "        self.neurons[0][0].set_theta(-h_AND)\n",
      "        self.neurons[0][1].give_input(array([[0,0,1,1],[0,1,0,1]]))\n",
      "        self.neurons[0][1].set_theta(h_OR)\n",
      "        out11 = self.neurons[0][0].get_output()\n",
      "        out12 = self.neurons[0][1].get_output()\n",
      "        self.neurons[1][0].give_input(concatenate((out11,out12),axis =0))\n",
      "        self.neurons[1][0].set_theta(h_AND)\n",
      "    def get_output(self):\n",
      "        return self.neurons[1][0].get_output()\n",
      "    def set_theta(self,matrix):\n",
      "        pass\n",
      "\n",
      "h_OR = array([[-200,300,300]])    \n",
      "h_AND = array([[-300,200,200]])    \n",
      "\n",
      "\n",
      "net = Network((2,1))\n",
      "net.give_input(array([[0,0,1,1],[0,1,0,1]]))\n",
      "print net.get_output()"
     ],
     "language": "python",
     "metadata": {},
     "outputs": [
      {
       "output_type": "stream",
       "stream": "stdout",
       "text": [
        "[[  3.72007598e-44   1.00000000e+00   1.00000000e+00   3.72007598e-44]]\n",
        "[[ 1.  1.  1.]\n",
        " [ 1.  1.  1.]\n",
        " [ 1.  1.  1.]]\n"
       ]
      }
     ],
     "prompt_number": 88
    },
    {
     "cell_type": "code",
     "collapsed": false,
     "input": [],
     "language": "python",
     "metadata": {},
     "outputs": []
    }
   ],
   "metadata": {}
  }
 ]
}