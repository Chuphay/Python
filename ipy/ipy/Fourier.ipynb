{
 "metadata": {
  "name": ""
 },
 "nbformat": 3,
 "nbformat_minor": 0,
 "worksheets": [
  {
   "cells": [
    {
     "cell_type": "code",
     "collapsed": false,
     "input": [
      "#http://stackoverflow.com/questions/4258106/how-to-calculate-a-fourier-series-in-numpy\n",
      "#First neglect the components that are near 0 due to floating point accuracy (~1e-16, as being zero). \n",
      "#The more difficult part is to see that the 3.14159 numbers (that arose before we divide by the period of a 1000) \n",
      "#should also be recognized as zero, as the function is periodic)\n",
      "z_ = linspace(0,1,10)\n",
      "x_ = linspace(0,1,1000)\n",
      "y = lambda x: x\n",
      "plot(x_,y(x_),'r')\n",
      "from scipy.integrate import quad\n",
      "import scipy\n",
      "from scipy.fftpack import fft, rfft\n",
      "result = quad(y, -0.5, 0.5)\n",
      "print type(result)\n",
      "sine_part = array([])\n",
      "z_ = linspace(0,1,1000)\n",
      "for i in range(1,51):\n",
      "    #sine_part= append(sine_part,i)\n",
      "    fn = lambda x: x*sin(2*i*pi*x)\n",
      "    temp = 2*quad(fn,0,1)[0]\n",
      "    sine_part= append(sine_part,temp)\n",
      "print sine_part[:6]        \n",
      "z= y(z_)\n",
      "print sine_part.size\n",
      "ll = scipy.fftpack.fft(z)\n",
      "print around(ll[:10].real/1000,5)\n",
      "print around(ll[:10].imag/1000,5)\n",
      "for i in range(1,7):\n",
      "    print -1/(2*i*pi), i\n",
      "def fn(x):\n",
      "    out = 0.5\n",
      "    for i in range(50):\n",
      "        out += sine_part[i]*sin(2*(i+1)*pi*x)  \n",
      "    \n",
      "    return out    \n",
      "        \n",
      "        \n",
      "g = lambda x : 0.5+sine_part[0]*sin(2*pi*x)+ sine_part[1]*sin(4*pi*x) +sine_part[2]*sin(6*pi*x) + sine_part[3]*sin(8*pi*x)\n",
      "\n",
      "plot(z_,g(z_))\n",
      "plot(z_,fn(z_))\n",
      "plot(x_,y(x_),'r')\n",
      "\n"
     ],
     "language": "python",
     "metadata": {},
     "outputs": [
      {
       "output_type": "stream",
       "stream": "stdout",
       "text": [
        "<type 'tuple'>\n",
        "[-0.31830989 -0.15915494 -0.1061033  -0.07957747 -0.06366198 -0.05305165]"
       ]
      },
      {
       "output_type": "stream",
       "stream": "stdout",
       "text": [
        "\n",
        "50\n",
        "[ 0.5    -0.0005 -0.0005 -0.0005 -0.0005 -0.0005 -0.0005 -0.0005 -0.0005\n",
        " -0.0005]\n",
        "[ 0.       0.15931  0.07966  0.0531   0.03983  0.03186  0.02655  0.02276\n",
        "  0.01991  0.0177 ]\n",
        "-0.159154943092 1\n",
        "-0.0795774715459 2\n",
        "-0.0530516476973 3\n",
        "-0.039788735773 4\n",
        "-0.0318309886184 5\n",
        "-0.0265258238486 6\n"
       ]
      },
      {
       "metadata": {},
       "output_type": "pyout",
       "prompt_number": 24,
       "text": [
        "[<matplotlib.lines.Line2D at 0x58066d0>]"
       ]
      },
      {
       "metadata": {},
       "output_type": "display_data",
       "png": "[encoded data removed]",
       "text": [
        "<matplotlib.figure.Figure at 0x5364dd0>"
       ]
      }
     ],
     "prompt_number": 24
    },
    {
     "cell_type": "code",
     "collapsed": false,
     "input": [
      "#http://stackoverflow.com/questions/5965583/use-scipy-integrate-quad-to-integrate-complex-numbers\n",
      "import scipy as sp\n",
      "from scipy.integrate import quad\n",
      "def fourier(function,k):\n",
      "    fn = lambda x: function(x)*np.exp(1j*k*x)\n",
      "    real_part = lambda x: sp.real(fn(x))\n",
      "    imag_part = lambda x: sp.imag(fn(x))\n",
      "    return 1/(2*pi)*quad(real_part,0,2*pi)[0]+1j/(2*pi)*quad(imag_part,0,2*pi)[0]\n",
      "y = lambda x : x/(2*pi)\n",
      "for i in range(6):\n",
      "    print fourier(y,i)\n",
      "    "
     ],
     "language": "python",
     "metadata": {},
     "outputs": [
      {
       "output_type": "stream",
       "stream": "stdout",
       "text": [
        "(0.5+0j)\n",
        "(2.08166817117e-17-0.159154943092j)\n",
        "(-3.46944695195e-17-0.0795774715459j)\n",
        "(1.6565388966e-17-0.0530516476973j)\n",
        "(-3.98986399475e-17-0.039788735773j)\n",
        "(-8.83487411518e-18-0.0318309886184j)\n"
       ]
      }
     ],
     "prompt_number": 42
    },
    {
     "cell_type": "code",
     "collapsed": false,
     "input": [],
     "language": "python",
     "metadata": {},
     "outputs": []
    }
   ],
   "metadata": {}
  }
 ]
}