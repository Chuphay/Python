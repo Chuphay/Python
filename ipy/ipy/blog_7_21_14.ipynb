{
 "metadata": {
  "name": ""
 },
 "nbformat": 3,
 "nbformat_minor": 0,
 "worksheets": [
  {
   "cells": [
    {
     "cell_type": "code",
     "collapsed": false,
     "input": [
      "def repeat(times):\n",
      "    \"\"\"from: http://www.artima.com/weblogs/viewpost.jsp?thread=240845\"\"\"\n",
      "    def wrap(f):\n",
      "        def wrapped_f(*args):\n",
      "            output = 0\n",
      "            for i in range(times):\n",
      "                output += f(*args)\n",
      "            return float(output)/times\n",
      "        return wrapped_f\n",
      "    return wrap\n",
      "\n",
      "@repeat(1000000)\n",
      "def getRand():\n",
      "\n",
      "    return rand()\n",
      "\n",
      "\n",
      "getRand()\n"
     ],
     "language": "python",
     "metadata": {},
     "outputs": [
      {
       "metadata": {},
       "output_type": "pyout",
       "prompt_number": 29,
       "text": [
        "0.500283327769206"
       ]
      }
     ],
     "prompt_number": 29
    },
    {
     "cell_type": "code",
     "collapsed": false,
     "input": [
      "@repeat(10000)\n",
      "def roll2():\n",
      "    return randint(1,7)+randint(1,7)\n",
      "print roll2()\n",
      "\n",
      "@repeat(10000)\n",
      "def flip_till_heads():\n",
      "    i = 1\n",
      "    while(rand()<0.5):\n",
      "        i += 1\n",
      "    return i\n",
      "print flip_till_heads()"
     ],
     "language": "python",
     "metadata": {},
     "outputs": [
      {
       "output_type": "stream",
       "stream": "stdout",
       "text": [
        "7.0166\n",
        "1.9896\n"
       ]
      }
     ],
     "prompt_number": 35
    },
    {
     "cell_type": "code",
     "collapsed": false,
     "input": [],
     "language": "python",
     "metadata": {},
     "outputs": []
    }
   ],
   "metadata": {}
  }
 ]
}