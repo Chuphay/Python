{
 "metadata": {
  "name": ""
 },
 "nbformat": 3,
 "nbformat_minor": 0,
 "worksheets": [
  {
   "cells": [
    {
     "cell_type": "code",
     "collapsed": false,
     "input": [
      "from pandas import DataFrame\n",
      "a = arange(10.)\n",
      "df = DataFrame(a)\n",
      "df.describe()"
     ],
     "language": "python",
     "metadata": {},
     "outputs": [
      {
       "html": [
        "<div style=\"max-height:1000px;max-width:1500px;overflow:auto;\">\n",
        "<table border=\"1\" class=\"dataframe\">\n",
        "  <thead>\n",
        "    <tr style=\"text-align: right;\">\n",
        "      <th></th>\n",
        "      <th>0</th>\n",
        "    </tr>\n",
        "  </thead>\n",
        "  <tbody>\n",
        "    <tr>\n",
        "      <th>count</th>\n",
        "      <td> 10.00000</td>\n",
        "    </tr>\n",
        "    <tr>\n",
        "      <th>mean</th>\n",
        "      <td>  4.50000</td>\n",
        "    </tr>\n",
        "    <tr>\n",
        "      <th>std</th>\n",
        "      <td>  3.02765</td>\n",
        "    </tr>\n",
        "    <tr>\n",
        "      <th>min</th>\n",
        "      <td>  0.00000</td>\n",
        "    </tr>\n",
        "    <tr>\n",
        "      <th>25%</th>\n",
        "      <td>  2.25000</td>\n",
        "    </tr>\n",
        "    <tr>\n",
        "      <th>50%</th>\n",
        "      <td>  4.50000</td>\n",
        "    </tr>\n",
        "    <tr>\n",
        "      <th>75%</th>\n",
        "      <td>  6.75000</td>\n",
        "    </tr>\n",
        "    <tr>\n",
        "      <th>max</th>\n",
        "      <td>  9.00000</td>\n",
        "    </tr>\n",
        "  </tbody>\n",
        "</table>\n",
        "<p>8 rows \u00d7 1 columns</p>\n",
        "</div>"
       ],
       "metadata": {},
       "output_type": "pyout",
       "prompt_number": 2,
       "text": [
        "              0\n",
        "count  10.00000\n",
        "mean    4.50000\n",
        "std     3.02765\n",
        "min     0.00000\n",
        "25%     2.25000\n",
        "50%     4.50000\n",
        "75%     6.75000\n",
        "max     9.00000\n",
        "\n",
        "[8 rows x 1 columns]"
       ]
      }
     ],
     "prompt_number": 2
    },
    {
     "cell_type": "markdown",
     "metadata": {},
     "source": [
      "$$Standard ~deviaton = \\sqrt{m(\\{x-m(x)\\}^2)}$$\n",
      "\n",
      "where\n",
      "\n",
      "$$ Mean = m(x) = (x_1 + x_2 + ...+x_N)/N$$ \n"
     ]
    },
    {
     "cell_type": "code",
     "collapsed": false,
     "input": [
      "m = lambda x: sum(x)/float(len(x)) \n",
      "stan_dev = lambda x: sqrt(m((x-m(x))**2))\n",
      "stan_dev(a)"
     ],
     "language": "python",
     "metadata": {},
     "outputs": [
      {
       "metadata": {},
       "output_type": "pyout",
       "prompt_number": 3,
       "text": [
        "2.8722813232690143"
       ]
      }
     ],
     "prompt_number": 3
    },
    {
     "cell_type": "code",
     "collapsed": false,
     "input": [
      "variance = lambda x: sum((x-m(x))**2)/(len(x)-1)\n",
      "sqrt(variance(a))"
     ],
     "language": "python",
     "metadata": {},
     "outputs": [
      {
       "metadata": {},
       "output_type": "pyout",
       "prompt_number": 4,
       "text": [
        "3.0276503540974917"
       ]
      }
     ],
     "prompt_number": 4
    },
    {
     "cell_type": "heading",
     "level": 4,
     "metadata": {},
     "source": [
      "Bootstrapping"
     ]
    },
    {
     "cell_type": "code",
     "collapsed": false,
     "input": [
      "from sklearn import datasets\n",
      "iris_data = datasets.load_iris()\n",
      "iris = DataFrame(iris_data['data'],columns=iris_data['feature_names'])\n",
      "iris['target'] = iris_data['target']\n",
      "iris.head()"
     ],
     "language": "python",
     "metadata": {},
     "outputs": [
      {
       "html": [
        "<div style=\"max-height:1000px;max-width:1500px;overflow:auto;\">\n",
        "<table border=\"1\" class=\"dataframe\">\n",
        "  <thead>\n",
        "    <tr style=\"text-align: right;\">\n",
        "      <th></th>\n",
        "      <th>sepal length (cm)</th>\n",
        "      <th>sepal width (cm)</th>\n",
        "      <th>petal length (cm)</th>\n",
        "      <th>petal width (cm)</th>\n",
        "      <th>target</th>\n",
        "    </tr>\n",
        "  </thead>\n",
        "  <tbody>\n",
        "    <tr>\n",
        "      <th>0</th>\n",
        "      <td> 5.1</td>\n",
        "      <td> 3.5</td>\n",
        "      <td> 1.4</td>\n",
        "      <td> 0.2</td>\n",
        "      <td> 0</td>\n",
        "    </tr>\n",
        "    <tr>\n",
        "      <th>1</th>\n",
        "      <td> 4.9</td>\n",
        "      <td> 3.0</td>\n",
        "      <td> 1.4</td>\n",
        "      <td> 0.2</td>\n",
        "      <td> 0</td>\n",
        "    </tr>\n",
        "    <tr>\n",
        "      <th>2</th>\n",
        "      <td> 4.7</td>\n",
        "      <td> 3.2</td>\n",
        "      <td> 1.3</td>\n",
        "      <td> 0.2</td>\n",
        "      <td> 0</td>\n",
        "    </tr>\n",
        "    <tr>\n",
        "      <th>3</th>\n",
        "      <td> 4.6</td>\n",
        "      <td> 3.1</td>\n",
        "      <td> 1.5</td>\n",
        "      <td> 0.2</td>\n",
        "      <td> 0</td>\n",
        "    </tr>\n",
        "    <tr>\n",
        "      <th>4</th>\n",
        "      <td> 5.0</td>\n",
        "      <td> 3.6</td>\n",
        "      <td> 1.4</td>\n",
        "      <td> 0.2</td>\n",
        "      <td> 0</td>\n",
        "    </tr>\n",
        "  </tbody>\n",
        "</table>\n",
        "<p>5 rows \u00d7 5 columns</p>\n",
        "</div>"
       ],
       "metadata": {},
       "output_type": "pyout",
       "prompt_number": 5,
       "text": [
        "   sepal length (cm)  sepal width (cm)  petal length (cm)  petal width (cm)  \\\n",
        "0                5.1               3.5                1.4               0.2   \n",
        "1                4.9               3.0                1.4               0.2   \n",
        "2                4.7               3.2                1.3               0.2   \n",
        "3                4.6               3.1                1.5               0.2   \n",
        "4                5.0               3.6                1.4               0.2   \n",
        "\n",
        "   target  \n",
        "0       0  \n",
        "1       0  \n",
        "2       0  \n",
        "3       0  \n",
        "4       0  \n",
        "\n",
        "[5 rows x 5 columns]"
       ]
      }
     ],
     "prompt_number": 5
    },
    {
     "cell_type": "code",
     "collapsed": false,
     "input": [
      "hist(iris['sepal length (cm)'], bins = 18)"
     ],
     "language": "python",
     "metadata": {},
     "outputs": [
      {
       "metadata": {},
       "output_type": "pyout",
       "prompt_number": 6,
       "text": [
        "(array([ 4,  5,  7, 16, 13,  7, 13, 15,  9, 19,  7,  7, 11,  6,  4,  1,  5,\n",
        "        1]),\n",
        " array([ 4.3,  4.5,  4.7,  4.9,  5.1,  5.3,  5.5,  5.7,  5.9,  6.1,  6.3,\n",
        "        6.5,  6.7,  6.9,  7.1,  7.3,  7.5,  7.7,  7.9]),\n",
        " <a list of 18 Patch objects>)"
       ]
      },
      {
       "metadata": {},
       "output_type": "display_data",
       "png": "[encoded data removed]",
       "text": [
        "<matplotlib.figure.Figure at 0x3315c50>"
       ]
      }
     ],
     "prompt_number": 6
    },
    {
     "cell_type": "code",
     "collapsed": false,
     "input": [
      "mix = randint(150, size = (5000,150))\n",
      "\n",
      "means = []\n",
      "temp_data = []\n",
      "for i in mix:\n",
      "    for j in i:\n",
      "        temp_data.append(iris['sepal length (cm)'][j])\n",
      "    means.append(m(temp_data)) \n",
      "    temp_data = [] \n",
      "hist(means, bins = 20)    "
     ],
     "language": "python",
     "metadata": {},
     "outputs": [
      {
       "metadata": {},
       "output_type": "pyout",
       "prompt_number": 7,
       "text": [
        "(array([  2,  13,  25,  67, 134, 223, 357, 504, 598, 699, 671, 624, 475,\n",
        "       298, 169,  82,  32,  14,  11,   2]),\n",
        " array([ 5.60733333,  5.6314    ,  5.65546667,  5.67953333,  5.7036    ,\n",
        "        5.72766667,  5.75173333,  5.7758    ,  5.79986667,  5.82393333,\n",
        "        5.848     ,  5.87206667,  5.89613333,  5.9202    ,  5.94426667,\n",
        "        5.96833333,  5.9924    ,  6.01646667,  6.04053333,  6.0646    ,\n",
        "        6.08866667]),\n",
        " <a list of 20 Patch objects>)"
       ]
      },
      {
       "metadata": {},
       "output_type": "display_data",
       "png": "[encoded data removed]",
       "text": [
        "<matplotlib.figure.Figure at 0x45420d0>"
       ]
      }
     ],
     "prompt_number": 7
    },
    {
     "cell_type": "code",
     "collapsed": false,
     "input": [
      "print m(means),sqrt(variance(means)), m(iris['sepal length (cm)']), sqrt(variance(iris['sepal length (cm)']))"
     ],
     "language": "python",
     "metadata": {},
     "outputs": [
      {
       "output_type": "stream",
       "stream": "stdout",
       "text": [
        "5.84259653333 0.0676948391239 5.84333333333 0.828066127978\n"
       ]
      }
     ],
     "prompt_number": 8
    },
    {
     "cell_type": "markdown",
     "metadata": {},
     "source": [
      "A. Pivotal method (95% confidence)"
     ]
    },
    {
     "cell_type": "code",
     "collapsed": false,
     "input": [
      "print m(means) - 1.96*sqrt(variance(means)), m(means) + 1.96*sqrt(variance(means))"
     ],
     "language": "python",
     "metadata": {},
     "outputs": [
      {
       "output_type": "stream",
       "stream": "stdout",
       "text": [
        "5.70991464865 5.97527841802\n"
       ]
      }
     ],
     "prompt_number": 9
    },
    {
     "cell_type": "markdown",
     "metadata": {},
     "source": [
      "B. Nonpivotal method (95% confidence)\n",
      "\n",
      "Take 2.5% and 97.5% percentiles at the boundaries\n",
      "\n",
      "For 5000 data points, that corresponds to the 125th data point and the 4875th data point "
     ]
    },
    {
     "cell_type": "code",
     "collapsed": false,
     "input": [
      "sorted_means = sort(means)\n",
      "print sorted_means[125],sorted_means[4875]\n",
      "print sorted_means[int(0.025 * len(sorted_means))] # 2.5% quantile\n"
     ],
     "language": "python",
     "metadata": {},
     "outputs": [
      {
       "output_type": "stream",
       "stream": "stdout",
       "text": [
        "5.70933333333 5.97133333333\n",
        "5.70933333333\n"
       ]
      }
     ],
     "prompt_number": 10
    },
    {
     "cell_type": "code",
     "collapsed": false,
     "input": [
      "seed(123)\n",
      "data = randn(2**20)\n",
      "print m(data)"
     ],
     "language": "python",
     "metadata": {},
     "outputs": [
      {
       "output_type": "stream",
       "stream": "stdout",
       "text": [
        "0.000115427675298\n"
       ]
      }
     ],
     "prompt_number": 24
    },
    {
     "cell_type": "code",
     "collapsed": false,
     "input": [
      "def c_m(data):\n",
      "    l = len(data)\n",
      "    if l == 1: \n",
      "        return data[0]\n",
      "    else:\n",
      "        a,b = data[:l/2],data[l/2:]\n",
      "        return c_m(a) + c_m(b)\n",
      "c_m(data)/(2**20)       "
     ],
     "language": "python",
     "metadata": {},
     "outputs": [
      {
       "metadata": {},
       "output_type": "pyout",
       "prompt_number": 25,
       "text": [
        "0.00011542767529772966"
       ]
      }
     ],
     "prompt_number": 25
    },
    {
     "cell_type": "code",
     "collapsed": false,
     "input": [
      "%timeit m(data)"
     ],
     "language": "python",
     "metadata": {},
     "outputs": [
      {
       "output_type": "stream",
       "stream": "stdout",
       "text": [
        "1000 loops, best of 3: 1.09 ms per loop\n"
       ]
      }
     ],
     "prompt_number": 27
    },
    {
     "cell_type": "code",
     "collapsed": false,
     "input": [
      "%timeit c_m(data)"
     ],
     "language": "python",
     "metadata": {},
     "outputs": [
      {
       "output_type": "stream",
       "stream": "stdout",
       "text": [
        "1 loops, best of 3: 1.26 s per loop\n"
       ]
      }
     ],
     "prompt_number": 30
    },
    {
     "cell_type": "code",
     "collapsed": false,
     "input": [
      "%timeit data.mean()"
     ],
     "language": "python",
     "metadata": {},
     "outputs": [
      {
       "output_type": "stream",
       "stream": "stdout",
       "text": [
        "1000 loops, best of 3: 1.11 ms per loop\n"
       ]
      }
     ],
     "prompt_number": 32
    },
    {
     "cell_type": "code",
     "collapsed": false,
     "input": [
      "%timeit sum(data)/(2**20)"
     ],
     "language": "python",
     "metadata": {},
     "outputs": [
      {
       "output_type": "stream",
       "stream": "stdout",
       "text": [
        "1000 loops, best of 3: 1.08 ms per loop\n"
       ]
      }
     ],
     "prompt_number": 34
    },
    {
     "cell_type": "code",
     "collapsed": false,
     "input": [],
     "language": "python",
     "metadata": {},
     "outputs": [],
     "prompt_number": 36
    },
    {
     "cell_type": "code",
     "collapsed": false,
     "input": [],
     "language": "python",
     "metadata": {},
     "outputs": []
    }
   ],
   "metadata": {}
  }
 ]
}